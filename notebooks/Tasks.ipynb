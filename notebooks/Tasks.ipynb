{
 "cells": [
  {
   "cell_type": "markdown",
   "id": "35fa9186",
   "metadata": {},
   "source": [
    "## Tasks"
   ]
  },
  {
   "cell_type": "markdown",
   "id": "90511055",
   "metadata": {},
   "source": [
    "### Iterators and Generators\n",
    "\n",
    "#### 1 \"Range\"\n",
    "\n",
    "Write a generator that mimics the builtin range without using `range`.\n",
    "\n",
    "* use a class based approach and \n",
    "* a generator function approach\n",
    "\n",
    "Example usage would be like:\n",
    "\n",
    "```python\n",
    "for i in Range(0, 10, 2):\n",
    "    print(i)\n",
    "\n",
    "# 0\n",
    "# 2\n",
    "# 4\n",
    "# 6\n",
    "# 8\n",
    "```\n"
   ]
  },
  {
   "cell_type": "markdown",
   "id": "27a5e480",
   "metadata": {},
   "source": [
    "### Data Model\n",
    "\n",
    "#### 1 \"Todolist\"\n",
    "\n",
    "Implement a basic TODO-List class\n",
    "\n",
    "* implement a separate Item class\n",
    "* each Item has a name and done attribute\n",
    "* a list of Item should be sorted so that items that are \"done\" come last\n",
    "\n",
    "Example iteraction:\n",
    "\n",
    "```python\n",
    "t = TodoList()\n",
    "t.items.append(Item(\"send notification\", done=True))\n",
    "t.items.append(Item(\"test sirens\"))\n",
    "t.items.append(Item(\"test sms\"))\n",
    "\n",
    "print(t)\n",
    "\n",
    "for task in sorted(t):\n",
    "    print(task)\n",
    "\n",
    "# <TodoList with 3 items>\n",
    "# Item test sirens done=False\n",
    "# Item test sms done=False\n",
    "# Item send notification done=True\n",
    "```"
   ]
  },
  {
   "cell_type": "markdown",
   "id": "be32dbba",
   "metadata": {},
   "source": [
    "### Context Manager"
   ]
  },
  {
   "cell_type": "markdown",
   "id": "ad9d0cab",
   "metadata": {},
   "source": [
    "#### 1 \"Benchmark\"\n",
    "\n",
    "Benchmarking context manager and decorator example.\n",
    "\n",
    "1. Implement a context manager that can be used to track the execution time of a\n",
    "   piece of code.\n",
    "\n",
    "It could be used, e.g. like this:\n",
    "\n",
    "```python\n",
    "with Timer() as timer:\n",
    "    result = some_function()\n",
    "print(timer.elapsed_s) # prints out elapsed seconds\n",
    "```\n",
    "\n",
    "2. Implement a decorator called `@timed` which can be added to functions to\n",
    "   measure their execution time. This decorator can use the context manager defined.\n",
    "\n",
    "```python\n",
    "@timed\n",
    "def sum_numbers(n=10000):\n",
    "    return sum(i for i in range(n))\n",
    "\n",
    "sum_numbers(1_000)\n",
    "sum_numbers(1_000_000)\n",
    "sum_numbers(100_000_000)\n",
    "```\n",
    "\n",
    "\n",
    "\n"
   ]
  },
  {
   "cell_type": "code",
   "execution_count": null,
   "id": "1fa7c0d3",
   "metadata": {},
   "outputs": [],
   "source": []
  }
 ],
 "metadata": {
  "kernelspec": {
   "display_name": "Python 3 (ipykernel)",
   "language": "python",
   "name": "python3"
  },
  "language_info": {
   "codemirror_mode": {
    "name": "ipython",
    "version": 3
   },
   "file_extension": ".py",
   "mimetype": "text/x-python",
   "name": "python",
   "nbconvert_exporter": "python",
   "pygments_lexer": "ipython3",
   "version": "3.11.0"
  },
  "vscode": {
   "interpreter": {
    "hash": "987e1c59e16692332f84c16e66ffbce6ede9bdd24f16447e91626eb5cedd0d9c"
   }
  }
 },
 "nbformat": 4,
 "nbformat_minor": 5
}
