{
 "cells": [
  {
   "cell_type": "markdown",
   "id": "0bc5b4c5",
   "metadata": {},
   "source": [
    "TypeHints\n",
    "\n",
    "Two modes:\n",
    "\n",
    "* static analysis - faster, less coverage\n",
    "* runtime analysis - slower, more coverage\n",
    "\n",
    "Typeguard as an example runtime analysis tool"
   ]
  },
  {
   "cell_type": "code",
   "execution_count": 17,
   "id": "1ed65adf",
   "metadata": {},
   "outputs": [],
   "source": [
    "from typeguard import check_argument_types, check_return_type, typechecked"
   ]
  },
  {
   "cell_type": "code",
   "execution_count": 18,
   "id": "f57f042c",
   "metadata": {},
   "outputs": [],
   "source": [
    "def some_function(a: int, b: float, c: str, *args: str) -> bool:\n",
    "    assert check_argument_types()\n",
    "    retval = True\n",
    "    assert check_return_type(retval)\n",
    "    return retval\n"
   ]
  },
  {
   "cell_type": "code",
   "execution_count": 19,
   "id": "469a411c",
   "metadata": {},
   "outputs": [
    {
     "name": "stdout",
     "output_type": "stream",
     "text": [
      "86.3 µs ± 3.33 µs per loop (mean ± std. dev. of 7 runs, 10,000 loops each)\n"
     ]
    }
   ],
   "source": [
    "%timeit some_function(1, 2, \"abc\")"
   ]
  },
  {
   "cell_type": "code",
   "execution_count": 20,
   "id": "c5d76032",
   "metadata": {},
   "outputs": [],
   "source": [
    "def some_function(a: int, b: float, c: str, *args: str) -> bool:\n",
    "    retval = True\n",
    "    return retval\n"
   ]
  },
  {
   "cell_type": "code",
   "execution_count": 21,
   "id": "cf7c7ec2",
   "metadata": {},
   "outputs": [
    {
     "name": "stdout",
     "output_type": "stream",
     "text": [
      "116 ns ± 4.15 ns per loop (mean ± std. dev. of 7 runs, 10,000,000 loops each)\n"
     ]
    }
   ],
   "source": [
    "%timeit some_function(1, 2, \"abc\")"
   ]
  },
  {
   "cell_type": "markdown",
   "id": "dd2e03ee",
   "metadata": {},
   "source": [
    "The `@typechecked` decorator checks both arguments and return values."
   ]
  },
  {
   "cell_type": "code",
   "execution_count": 22,
   "id": "2ebf1510",
   "metadata": {},
   "outputs": [],
   "source": [
    "def hello(a: int, b: str) -> bool:\n",
    "    return True"
   ]
  },
  {
   "cell_type": "code",
   "execution_count": 23,
   "id": "688c01b9",
   "metadata": {},
   "outputs": [
    {
     "data": {
      "text/plain": [
       "True"
      ]
     },
     "execution_count": 23,
     "metadata": {},
     "output_type": "execute_result"
    }
   ],
   "source": [
    "hello(1, \"a\")"
   ]
  },
  {
   "cell_type": "code",
   "execution_count": 24,
   "id": "e71b28a5",
   "metadata": {},
   "outputs": [
    {
     "data": {
      "text/plain": [
       "True"
      ]
     },
     "execution_count": 24,
     "metadata": {},
     "output_type": "execute_result"
    }
   ],
   "source": [
    "hello(\"a\", 1)"
   ]
  },
  {
   "cell_type": "code",
   "execution_count": 25,
   "id": "12825c40",
   "metadata": {},
   "outputs": [],
   "source": [
    "@typechecked\n",
    "def hello(a: int, b: str) -> bool:\n",
    "    return True"
   ]
  },
  {
   "cell_type": "code",
   "execution_count": 28,
   "id": "484d8afc",
   "metadata": {},
   "outputs": [],
   "source": [
    "# hello(\"a\", 1)"
   ]
  },
  {
   "cell_type": "markdown",
   "id": "d5b9fc92",
   "metadata": {},
   "source": [
    "> When combined with the assert statement, these checks are automatically removed from the code by the compiler when Python is executed in optimized mode (by passing the -O switch to the interpreter, or by setting the PYTHONOPTIMIZE environment variable to 1 (or higher)."
   ]
  },
  {
   "cell_type": "code",
   "execution_count": null,
   "id": "552a037b",
   "metadata": {},
   "outputs": [],
   "source": []
  }
 ],
 "metadata": {
  "kernelspec": {
   "display_name": "Python 3 (ipykernel)",
   "language": "python",
   "name": "python3"
  },
  "language_info": {
   "codemirror_mode": {
    "name": "ipython",
    "version": 3
   },
   "file_extension": ".py",
   "mimetype": "text/x-python",
   "name": "python",
   "nbconvert_exporter": "python",
   "pygments_lexer": "ipython3",
   "version": "3.8.15"
  }
 },
 "nbformat": 4,
 "nbformat_minor": 5
}
