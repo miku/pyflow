{
 "cells": [
  {
   "cell_type": "markdown",
   "id": "6ad4eeed",
   "metadata": {},
   "source": [
    "## Augmented assignment\n",
    "\n",
    "* `__iadd__`\n",
    "* `__isub__`\n",
    "* `__imul__`\n",
    "* `__ifloordiv__`\n",
    "* `__idiv__`\n",
    "* `__itruediv__`\n",
    "* `__imod__`\n",
    "* `__ipow__`\n",
    "* `__ilshift__`\n",
    "* `__irshift__`\n",
    "* `__iand__`\n",
    "* `__ior__`\n",
    "* `__ixor__`\n"
   ]
  },
  {
   "cell_type": "markdown",
   "id": "40f8818f",
   "metadata": {},
   "source": [
    "> These methods are called to implement the augmented arithmetic assignments (+=, -=, *=, @=, /=, //=, %=, **=, <<=, >>=, &=, ^=, |=). \n",
    "\n",
    ">  These methods should attempt to do the operation in-place (modifying self) and return the result (which could be, but does not have to be, self)."
   ]
  },
  {
   "cell_type": "code",
   "execution_count": 27,
   "id": "6aee71ec",
   "metadata": {},
   "outputs": [],
   "source": [
    "class Votes:\n",
    "    def __iadd__(self, other):\n",
    "        self.votes = self.votes + other\n",
    "        return self\n",
    "    \n",
    "    def __init__(self):\n",
    "        self.votes = 0"
   ]
  },
  {
   "cell_type": "code",
   "execution_count": 28,
   "id": "40c0ed16",
   "metadata": {},
   "outputs": [],
   "source": [
    "v = Votes()"
   ]
  },
  {
   "cell_type": "code",
   "execution_count": 29,
   "id": "6d2472f2",
   "metadata": {},
   "outputs": [],
   "source": [
    "v += 1"
   ]
  },
  {
   "cell_type": "code",
   "execution_count": 30,
   "id": "34da9a9f",
   "metadata": {},
   "outputs": [
    {
     "data": {
      "text/plain": [
       "1"
      ]
     },
     "execution_count": 30,
     "metadata": {},
     "output_type": "execute_result"
    }
   ],
   "source": [
    "v.votes"
   ]
  },
  {
   "cell_type": "code",
   "execution_count": 31,
   "id": "9bb99c40",
   "metadata": {},
   "outputs": [],
   "source": [
    "v += 100"
   ]
  },
  {
   "cell_type": "code",
   "execution_count": 32,
   "id": "fe80db2f",
   "metadata": {},
   "outputs": [
    {
     "data": {
      "text/plain": [
       "101"
      ]
     },
     "execution_count": 32,
     "metadata": {},
     "output_type": "execute_result"
    }
   ],
   "source": [
    "v.votes"
   ]
  },
  {
   "cell_type": "code",
   "execution_count": null,
   "id": "f835a13e",
   "metadata": {},
   "outputs": [],
   "source": []
  }
 ],
 "metadata": {
  "kernelspec": {
   "display_name": "Python 3 (ipykernel)",
   "language": "python",
   "name": "python3"
  },
  "language_info": {
   "codemirror_mode": {
    "name": "ipython",
    "version": 3
   },
   "file_extension": ".py",
   "mimetype": "text/x-python",
   "name": "python",
   "nbconvert_exporter": "python",
   "pygments_lexer": "ipython3",
   "version": "3.11.0"
  }
 },
 "nbformat": 4,
 "nbformat_minor": 5
}
