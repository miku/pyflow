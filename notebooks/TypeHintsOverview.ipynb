{
 "cells": [
  {
   "cell_type": "markdown",
   "id": "1245fc45",
   "metadata": {},
   "source": [
    "Type Hints Overview\n",
    "\n",
    "* typing module in standard library since 3.5"
   ]
  },
  {
   "cell_type": "code",
   "execution_count": 5,
   "id": "be2048c2",
   "metadata": {},
   "outputs": [],
   "source": [
    "import typing"
   ]
  },
  {
   "cell_type": "code",
   "execution_count": 20,
   "id": "cde9dcd7",
   "metadata": {},
   "outputs": [],
   "source": [
    "from typeguard import typechecked"
   ]
  },
  {
   "cell_type": "code",
   "execution_count": 21,
   "id": "8cb83894",
   "metadata": {},
   "outputs": [],
   "source": [
    "def greeting(name: str) -> str:\n",
    "    return 'Hello ' + name"
   ]
  },
  {
   "cell_type": "markdown",
   "id": "1e10c5ad",
   "metadata": {},
   "source": [
    "PEP literature:\n",
    "    \n",
    "* PEP 526: Syntax for Variable Annotations\n",
    "* PEP 544: Protocols: Structural subtyping (static duck typing)\n",
    "* PEP 585: Type Hinting Generics In Standard Collections\n",
    "* PEP 586: Literal Types\n",
    "* PEP 589: TypedDict: Type Hints for Dictionaries with a Fixed Set of Keys\n",
    "* PEP 591: Adding a final qualifier to typing\n",
    "* PEP 593: Flexible function and variable annotations\n",
    "* PEP 604: Allow writing union types as X | Y\n",
    "* PEP 612: Parameter Specification Variables\n",
    "* PEP 613: Explicit Type Aliases\n",
    "* PEP 646: Variadic Generics\n",
    "* PEP 647: User-Defined Type Guards\n",
    "* PEP 655: Marking individual TypedDict items as required or potentially missing\n",
    "* PEP 673: Self type\n",
    "* PEP 675: Arbitrary Literal String Type\n",
    "* PEP 681: Data Class Transforms\n",
    "\n",
    "\n",
    "Some concepts introduced by these PEPs:\n",
    "\n",
    "* Literal, LiteralString, TypedDict, Required, NotRequired, Final, ... \n",
    "* Protocols and structural subtyping (\"static duck typing\")"
   ]
  },
  {
   "cell_type": "markdown",
   "id": "26af0063",
   "metadata": {},
   "source": [
    "Notes:\n",
    "\n",
    "* Optional, checked statically or at runtime.\n",
    "* anything not annotated is \"Any\" (escape hatch)\n",
    "* typing is gradual, annotated regions and non-annotated regions can exist side by side \n",
    "* tooling support: mypy, pyre (pysa), ..."
   ]
  },
  {
   "cell_type": "markdown",
   "id": "79582b1d",
   "metadata": {},
   "source": [
    "Pragmatics:\n",
    "    \n",
    "* documentation\n",
    "* start with most used code or most critical code (and maybe leave it at that)\n"
   ]
  },
  {
   "cell_type": "markdown",
   "id": "12108859",
   "metadata": {},
   "source": [
    "We can use variable annotations:\n",
    "    \n",
    "* functions arguments\n",
    "* variables\n",
    "* concrete types, generic classes\n",
    "\n"
   ]
  },
  {
   "cell_type": "markdown",
   "id": "87df7fdb",
   "metadata": {},
   "source": [
    "### Contents"
   ]
  },
  {
   "cell_type": "markdown",
   "id": "3824f165",
   "metadata": {},
   "source": [
    "* Special typing primitives (Any, Union, Optional, NoReturn, ...)\n",
    "* Generic concrete collections (List, Dict, ...)\n",
    "* Abstract base classes (~ collections.abc)\n"
   ]
  },
  {
   "cell_type": "markdown",
   "id": "2ea14365",
   "metadata": {},
   "source": [
    "### Examples\n",
    "\n",
    "#### Get type information about an object"
   ]
  },
  {
   "cell_type": "code",
   "execution_count": 22,
   "id": "508c80ee",
   "metadata": {},
   "outputs": [],
   "source": [
    "def hello(name: str) -> str:\n",
    "    return f\"hello {name}\""
   ]
  },
  {
   "cell_type": "code",
   "execution_count": 23,
   "id": "2ecf4d70",
   "metadata": {},
   "outputs": [],
   "source": [
    "import os"
   ]
  },
  {
   "cell_type": "code",
   "execution_count": 24,
   "id": "f56470e4",
   "metadata": {},
   "outputs": [
    {
     "data": {
      "text/plain": [
       "{'name': str, 'return': str}"
      ]
     },
     "execution_count": 24,
     "metadata": {},
     "output_type": "execute_result"
    }
   ],
   "source": [
    "typing.get_type_hints(hello)"
   ]
  },
  {
   "cell_type": "code",
   "execution_count": 25,
   "id": "e4624111",
   "metadata": {},
   "outputs": [
    {
     "data": {
      "text/plain": [
       "{'name': str, 'return': str}"
      ]
     },
     "execution_count": 25,
     "metadata": {},
     "output_type": "execute_result"
    }
   ],
   "source": [
    "hello.__annotations__"
   ]
  },
  {
   "cell_type": "markdown",
   "id": "5c7b0928",
   "metadata": {},
   "source": [
    "#### Special directives\n",
    "\n",
    "* alternative to other projects, like Pydantic\n",
    "* alternative to other constraints (e.g. via descriptors)\n",
    "* use case: data validation"
   ]
  },
  {
   "cell_type": "code",
   "execution_count": 26,
   "id": "4f160d8a",
   "metadata": {},
   "outputs": [],
   "source": [
    "class Point2D(typing.TypedDict):\n",
    "    x: int\n",
    "    y: int\n",
    "    label: str\n",
    "\n",
    "a: Point2D = {'x': 1, 'y': 2, 'label': 'good'}  # OK\n",
    "b: Point2D = {'z': 3, 'label': 'bad'}           # Fails type check\n",
    "\n",
    "assert Point2D(x=1, y=2, label='first') == dict(x=1, y=2, label='first')\n",
    "\n"
   ]
  },
  {
   "cell_type": "code",
   "execution_count": 27,
   "id": "47090d9c",
   "metadata": {},
   "outputs": [],
   "source": [
    "class Point2D(typing.TypedDict, total=False):\n",
    "    x: typing.Required[int]\n",
    "    y: typing.Required[int]\n",
    "    label: str\n",
    "\n",
    "# Alternative syntax\n",
    "Point2D = typing.TypedDict('Point2D', {\n",
    "    'x': typing.Required[int],\n",
    "    'y': typing.Required[int],\n",
    "    'label': str\n",
    "}, total=False)"
   ]
  },
  {
   "cell_type": "markdown",
   "id": "3208e73e",
   "metadata": {},
   "source": [
    "#### Structural subtyping\n",
    "\n",
    "> PEP 544 allows to solve this problem by allowing users to write the above code without explicit base classes in the class definition, allowing Bucket to be implicitly considered a subtype of both Sized and Iterable[int] by static type checkers. This is known as structural subtyping (or static duck-typing)"
   ]
  },
  {
   "cell_type": "code",
   "execution_count": 28,
   "id": "1eb41398",
   "metadata": {},
   "outputs": [],
   "source": [
    "from collections.abc import Iterator, Iterable\n",
    "\n",
    "class Bucket:  # Note: no base classes\n",
    "    def __len__(self) -> int: return 0\n",
    "    def __iter__(self) -> typing.Iterator[int]:\n",
    "        return iter([])\n",
    "\n",
    "def collect(items: typing.Iterable[int]) -> int:\n",
    "    return 0\n",
    "\n",
    "result = collect(Bucket())  # Passes type check"
   ]
  },
  {
   "cell_type": "markdown",
   "id": "9f1b77cb",
   "metadata": {},
   "source": [
    "#### Type Aliases"
   ]
  },
  {
   "cell_type": "code",
   "execution_count": 29,
   "id": "4a659f22",
   "metadata": {},
   "outputs": [],
   "source": [
    "Vector = typing.List[float] # list[float] since 3.9 ...\n",
    "\n",
    "def scale(scalar: float, vector: Vector) -> Vector:\n",
    "    return [scalar * num for num in vector]\n",
    "\n",
    "# passes type checking; a list of floats qualifies as a Vector.\n",
    "new_vector = scale(2.0, [1.0, -4.2, 5.4])"
   ]
  },
  {
   "cell_type": "code",
   "execution_count": 30,
   "id": "35a68a45",
   "metadata": {},
   "outputs": [
    {
     "name": "stdout",
     "output_type": "stream",
     "text": [
      "Python 3.11.0\r\n"
     ]
    }
   ],
   "source": [
    "!python --version"
   ]
  },
  {
   "cell_type": "markdown",
   "id": "8fd61646",
   "metadata": {},
   "source": [
    "#### Abstract Base classes"
   ]
  },
  {
   "cell_type": "code",
   "execution_count": 32,
   "id": "353b4575",
   "metadata": {},
   "outputs": [],
   "source": [
    "@typechecked\n",
    "def infinite_stream(start: int) -> typing.Iterator[int]:\n",
    "    while True:\n",
    "        yield start\n",
    "        start += 1"
   ]
  },
  {
   "cell_type": "code",
   "execution_count": 36,
   "id": "15ebc9f0",
   "metadata": {},
   "outputs": [],
   "source": [
    "result = infinite_stream(3)"
   ]
  },
  {
   "cell_type": "code",
   "execution_count": 41,
   "id": "cffda9bf",
   "metadata": {},
   "outputs": [
    {
     "data": {
      "text/plain": [
       "<typeguard.TypeCheckedGenerator at 0x7fbcb53f79d0>"
      ]
     },
     "execution_count": 41,
     "metadata": {},
     "output_type": "execute_result"
    }
   ],
   "source": [
    "result"
   ]
  },
  {
   "cell_type": "code",
   "execution_count": 44,
   "id": "d6439659",
   "metadata": {},
   "outputs": [
    {
     "data": {
      "text/plain": [
       "<typeguard.TypeCheckedGenerator at 0x7fbcb53f79d0>"
      ]
     },
     "execution_count": 44,
     "metadata": {},
     "output_type": "execute_result"
    }
   ],
   "source": [
    "result"
   ]
  },
  {
   "cell_type": "code",
   "execution_count": null,
   "id": "9b9ca9e3",
   "metadata": {},
   "outputs": [],
   "source": []
  }
 ],
 "metadata": {
  "kernelspec": {
   "display_name": "Python 3 (ipykernel)",
   "language": "python",
   "name": "python3"
  },
  "language_info": {
   "codemirror_mode": {
    "name": "ipython",
    "version": 3
   },
   "file_extension": ".py",
   "mimetype": "text/x-python",
   "name": "python",
   "nbconvert_exporter": "python",
   "pygments_lexer": "ipython3",
   "version": "3.11.0"
  }
 },
 "nbformat": 4,
 "nbformat_minor": 5
}
