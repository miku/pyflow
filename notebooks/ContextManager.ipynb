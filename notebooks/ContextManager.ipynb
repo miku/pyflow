{
 "cells": [
  {
   "cell_type": "markdown",
   "id": "21c669ae",
   "metadata": {},
   "source": [
    "## Context Manager"
   ]
  },
  {
   "cell_type": "markdown",
   "id": "9bb65856",
   "metadata": {},
   "source": [
    "* https://peps.python.org/pep-0343/\n",
    "* enter, exit\n",
    "* resource setup and teardown"
   ]
  },
  {
   "cell_type": "code",
   "execution_count": 1,
   "id": "806456fe",
   "metadata": {},
   "outputs": [
    {
     "name": "stdout",
     "output_type": "stream",
     "text": [
      "72\n"
     ]
    }
   ],
   "source": [
    "with open(\"ContextManager.ipynb\") as f:\n",
    "    print(len(f.read()))"
   ]
  },
  {
   "cell_type": "markdown",
   "id": "7e863e7e",
   "metadata": {},
   "source": [
    "Use cases:\n",
    "\n",
    "* files\n",
    "* temporary files\n",
    "* database connections\n",
    "* timing\n",
    "* temporary state changes\n",
    "* ..."
   ]
  },
  {
   "cell_type": "code",
   "execution_count": 3,
   "id": "b770f867",
   "metadata": {},
   "outputs": [],
   "source": [
    "class A:\n",
    "    def __enter__(self):\n",
    "        print(\"enter\")\n",
    "    \n",
    "    def __exit__(self, exc, exc_type, traceback):\n",
    "        print(\"exit\")"
   ]
  },
  {
   "cell_type": "markdown",
   "id": "3c4ed0bb",
   "metadata": {},
   "source": [
    "> **Enter** the runtime context and return either this object or another object related to the runtime context. The value returned by this method is bound to the identifier in the as clause of with statements using this context manager.\n",
    "\n",
    "> **Exit** the runtime context and return a Boolean flag indicating if any exception that occurred should be suppressed. If an exception occurred while executing the body of the with statement, the arguments contain the exception type, value and traceback information. Otherwise, all three arguments are None."
   ]
  },
  {
   "cell_type": "code",
   "execution_count": 5,
   "id": "82be1586",
   "metadata": {},
   "outputs": [
    {
     "name": "stdout",
     "output_type": "stream",
     "text": [
      "enter\n",
      "c\n",
      "exit\n"
     ]
    }
   ],
   "source": [
    "with A():\n",
    "    print(\"c\")"
   ]
  },
  {
   "cell_type": "markdown",
   "id": "dd3a8e6b",
   "metadata": {},
   "source": [
    "Other examples:\n",
    "    \n",
    "* [sqlite](https://github.com/miku/siskin/blob/469f973addd20f4d40820aaa0f1c4b47659f5900/siskin/database.py#L36-L59)"
   ]
  },
  {
   "cell_type": "markdown",
   "id": "5074d8e3",
   "metadata": {},
   "source": [
    "Returning a value"
   ]
  },
  {
   "cell_type": "code",
   "execution_count": 8,
   "id": "328d2db0",
   "metadata": {},
   "outputs": [],
   "source": [
    "class A:\n",
    "    def __enter__(self):\n",
    "        return \"any\"\n",
    "    \n",
    "    def __exit__(self, exc, exc_type, traceback):\n",
    "        print(\"exit\")"
   ]
  },
  {
   "cell_type": "code",
   "execution_count": 9,
   "id": "c267afe5",
   "metadata": {},
   "outputs": [
    {
     "name": "stdout",
     "output_type": "stream",
     "text": [
      "any\n",
      "exit\n"
     ]
    }
   ],
   "source": [
    "with A() as v:\n",
    "    print(v)"
   ]
  },
  {
   "cell_type": "markdown",
   "id": "fe61482c",
   "metadata": {},
   "source": [
    "### Exceptions"
   ]
  },
  {
   "cell_type": "markdown",
   "id": "6f52db88",
   "metadata": {},
   "source": [
    "Returning a true value from this method will cause the with statement to suppress the exception and continue execution with the statement immediately following the with statement. Otherwise the exception continues propagating after this method has finished executing. Exceptions that occur during execution of this method will replace any exception that occurred in the body of the with statement."
   ]
  },
  {
   "cell_type": "code",
   "execution_count": 10,
   "id": "65ca9791",
   "metadata": {},
   "outputs": [],
   "source": [
    "class A:\n",
    "    def __enter__(self):\n",
    "        raise RuntimeError(\"enter\")\n",
    "        return \"any\"\n",
    "    \n",
    "    def __exit__(self, exc, exc_type, traceback):\n",
    "        print(\"exit\")"
   ]
  },
  {
   "cell_type": "code",
   "execution_count": 11,
   "id": "c28582af",
   "metadata": {},
   "outputs": [
    {
     "ename": "RuntimeError",
     "evalue": "enter",
     "output_type": "error",
     "traceback": [
      "\u001b[0;31m---------------------------------------------------------------------------\u001b[0m",
      "\u001b[0;31mRuntimeError\u001b[0m                              Traceback (most recent call last)",
      "Cell \u001b[0;32mIn[11], line 1\u001b[0m\n\u001b[0;32m----> 1\u001b[0m \u001b[38;5;28;01mwith\u001b[39;00m A() \u001b[38;5;28;01mas\u001b[39;00m v:\n\u001b[1;32m      2\u001b[0m     \u001b[38;5;28mprint\u001b[39m(v)\n",
      "Cell \u001b[0;32mIn[10], line 3\u001b[0m, in \u001b[0;36mA.__enter__\u001b[0;34m(self)\u001b[0m\n\u001b[1;32m      2\u001b[0m \u001b[38;5;28;01mdef\u001b[39;00m \u001b[38;5;21m__enter__\u001b[39m(\u001b[38;5;28mself\u001b[39m):\n\u001b[0;32m----> 3\u001b[0m     \u001b[38;5;28;01mraise\u001b[39;00m \u001b[38;5;167;01mRuntimeError\u001b[39;00m(\u001b[38;5;124m\"\u001b[39m\u001b[38;5;124menter\u001b[39m\u001b[38;5;124m\"\u001b[39m)\n\u001b[1;32m      4\u001b[0m     \u001b[38;5;28;01mreturn\u001b[39;00m \u001b[38;5;124m\"\u001b[39m\u001b[38;5;124many\u001b[39m\u001b[38;5;124m\"\u001b[39m\n",
      "\u001b[0;31mRuntimeError\u001b[0m: enter"
     ]
    }
   ],
   "source": [
    "with A() as v:\n",
    "    print(v)"
   ]
  },
  {
   "cell_type": "code",
   "execution_count": 26,
   "id": "5458b390",
   "metadata": {},
   "outputs": [],
   "source": [
    "class A:\n",
    "    def __enter__(self):\n",
    "        return \"any\"\n",
    "    \n",
    "    def __exit__(self, exc, exc_type, traceback):\n",
    "        print(\"exit\", exc, exc_type, traceback)\n",
    "        return True # True # False"
   ]
  },
  {
   "cell_type": "code",
   "execution_count": 27,
   "id": "364c3563",
   "metadata": {},
   "outputs": [
    {
     "name": "stdout",
     "output_type": "stream",
     "text": [
      "exit <class 'RuntimeError'> with <traceback object at 0x7f14920f7a40>\n"
     ]
    }
   ],
   "source": [
    "with A() as v:\n",
    "    raise RuntimeError(\"with\")\n",
    "    print(v)"
   ]
  },
  {
   "cell_type": "markdown",
   "id": "68cf91af",
   "metadata": {},
   "source": [
    "### Using a generator"
   ]
  },
  {
   "cell_type": "code",
   "execution_count": 30,
   "id": "1ccadb5e",
   "metadata": {},
   "outputs": [],
   "source": [
    "from contextlib import contextmanager\n",
    "\n",
    "@contextmanager\n",
    "def managed_resource(*args, **kwds):\n",
    "    # Code to acquire resource, e.g.:\n",
    "    print(\"setting up\")\n",
    "    try:\n",
    "        yield 123\n",
    "    finally:\n",
    "        # Code to release resource, e.g.:\n",
    "        print(\"cleaning up\")"
   ]
  },
  {
   "cell_type": "code",
   "execution_count": 31,
   "id": "17fa77a3",
   "metadata": {},
   "outputs": [
    {
     "name": "stdout",
     "output_type": "stream",
     "text": [
      "setting up\n",
      "123\n",
      "cleaning up\n"
     ]
    }
   ],
   "source": [
    "with managed_resource() as v:\n",
    "    print(v)"
   ]
  },
  {
   "cell_type": "markdown",
   "id": "9d1b075d",
   "metadata": {},
   "source": [
    "* misc helpers in context lib"
   ]
  },
  {
   "cell_type": "code",
   "execution_count": 34,
   "id": "a9ff2f01",
   "metadata": {},
   "outputs": [],
   "source": [
    "import contextlib, os"
   ]
  },
  {
   "cell_type": "code",
   "execution_count": 35,
   "id": "aaf44bd8",
   "metadata": {},
   "outputs": [],
   "source": [
    "with contextlib.suppress(FileNotFoundError):\n",
    "    os.remove('someotherfile.tmp')"
   ]
  },
  {
   "cell_type": "markdown",
   "id": "597fe43b",
   "metadata": {},
   "source": [
    "### Dual use context manager and decorator"
   ]
  },
  {
   "cell_type": "code",
   "execution_count": 36,
   "id": "a41ba7fa",
   "metadata": {},
   "outputs": [],
   "source": [
    "from contextlib import ContextDecorator\n",
    "\n",
    "class mycontext(ContextDecorator):\n",
    "    def __enter__(self):\n",
    "        print('Starting')\n",
    "        return self\n",
    "\n",
    "    def __exit__(self, *exc):\n",
    "        print('Finishing')\n",
    "        return False"
   ]
  },
  {
   "cell_type": "code",
   "execution_count": 38,
   "id": "6ee9d327",
   "metadata": {},
   "outputs": [
    {
     "name": "stdout",
     "output_type": "stream",
     "text": [
      "Starting\n",
      "The bit in the middle\n",
      "Finishing\n"
     ]
    }
   ],
   "source": [
    "@mycontext()\n",
    "def f():\n",
    "    print('The bit in the middle')\n",
    "\n",
    "f()"
   ]
  },
  {
   "cell_type": "code",
   "execution_count": 39,
   "id": "112c31e7",
   "metadata": {},
   "outputs": [
    {
     "name": "stdout",
     "output_type": "stream",
     "text": [
      "Starting\n",
      "The bit in the middle\n",
      "Finishing\n"
     ]
    }
   ],
   "source": [
    "with mycontext():\n",
    "    print('The bit in the middle')\n"
   ]
  },
  {
   "cell_type": "markdown",
   "id": "5d4adb0e",
   "metadata": {},
   "source": [
    "**Task**"
   ]
  },
  {
   "cell_type": "code",
   "execution_count": null,
   "id": "e0d3176c",
   "metadata": {},
   "outputs": [],
   "source": []
  }
 ],
 "metadata": {
  "kernelspec": {
   "display_name": "Python 3 (ipykernel)",
   "language": "python",
   "name": "python3"
  },
  "language_info": {
   "codemirror_mode": {
    "name": "ipython",
    "version": 3
   },
   "file_extension": ".py",
   "mimetype": "text/x-python",
   "name": "python",
   "nbconvert_exporter": "python",
   "pygments_lexer": "ipython3",
   "version": "3.8.15"
  }
 },
 "nbformat": 4,
 "nbformat_minor": 5
}
