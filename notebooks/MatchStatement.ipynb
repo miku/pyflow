{
 "cells": [
  {
   "cell_type": "markdown",
   "id": "b4acc0e6",
   "metadata": {},
   "source": [
    "### Match statement\n",
    "\n",
    "* since 3.10\n",
    "* https://peps.python.org/pep-0636/ - Structural pattern matching\n",
    "* more that just a `select`"
   ]
  },
  {
   "cell_type": "markdown",
   "id": "ca12b068",
   "metadata": {},
   "source": [
    "#### Minimal example\n",
    "\n",
    "* we need a value to match\n",
    "* one case needed\n",
    "* `_` serves as \"catch all\" or \"default\" case, shortest most unassuming value\n",
    "* `pass` does nothing"
   ]
  },
  {
   "cell_type": "code",
   "execution_count": 8,
   "id": "d194d72a",
   "metadata": {},
   "outputs": [],
   "source": [
    "match None:\n",
    "    case _:\n",
    "        pass"
   ]
  },
  {
   "cell_type": "markdown",
   "id": "af15a18e",
   "metadata": {},
   "source": [
    "#### A basic integer value switch"
   ]
  },
  {
   "cell_type": "code",
   "execution_count": 9,
   "id": "27c14f20",
   "metadata": {},
   "outputs": [],
   "source": [
    "def status_text(status=200):\n",
    "    match status:\n",
    "        case 200:\n",
    "            return \"OK\"\n",
    "        case 300:\n",
    "            return \"Multiple Choice\"\n",
    "        case _:\n",
    "            raise ValueError(f\"invalid status code: {status}\")\n"
   ]
  },
  {
   "cell_type": "markdown",
   "id": "2bf7449b",
   "metadata": {},
   "source": [
    "If none of the cases matches, then flow continues after the match statement.\n"
   ]
  },
  {
   "cell_type": "code",
   "execution_count": 20,
   "id": "a4f41415",
   "metadata": {},
   "outputs": [],
   "source": [
    "def status_text(status=200):\n",
    "    match status:\n",
    "        case 200:\n",
    "            return \"OK\"\n",
    "        case 300:\n",
    "            return \"Multiple Choice\"\n",
    "    \n",
    "    raise ValueError(f\"invalid status code: {status}\")\n"
   ]
  },
  {
   "cell_type": "code",
   "execution_count": 21,
   "id": "17a5ef8b",
   "metadata": {},
   "outputs": [
    {
     "data": {
      "text/plain": [
       "'OK'"
      ]
     },
     "execution_count": 21,
     "metadata": {},
     "output_type": "execute_result"
    }
   ],
   "source": [
    "status_text(200)"
   ]
  },
  {
   "cell_type": "code",
   "execution_count": 22,
   "id": "3f4d2962",
   "metadata": {},
   "outputs": [
    {
     "data": {
      "text/plain": [
       "'Multiple Choice'"
      ]
     },
     "execution_count": 22,
     "metadata": {},
     "output_type": "execute_result"
    }
   ],
   "source": [
    "status_text(300)"
   ]
  },
  {
   "cell_type": "code",
   "execution_count": 23,
   "id": "56404f1a",
   "metadata": {},
   "outputs": [],
   "source": [
    "# status_text(700) # ValueError: invalid status code: 700"
   ]
  },
  {
   "cell_type": "markdown",
   "id": "84c2a421",
   "metadata": {},
   "source": [
    "#### Alternative Values"
   ]
  },
  {
   "cell_type": "code",
   "execution_count": 24,
   "id": "813a48e2",
   "metadata": {},
   "outputs": [],
   "source": [
    "def status_text(status=200):\n",
    "    match status:\n",
    "        case 200:\n",
    "            return \"OK\"\n",
    "        case 300:\n",
    "            return \"Multiple Choice\"\n",
    "        case 401 | 472:\n",
    "            return \"Auth error\" # Unauthorized and some custom error code \n",
    "        case _:\n",
    "            raise ValueError(f\"invalid status code: {status}\")\n"
   ]
  },
  {
   "cell_type": "code",
   "execution_count": 25,
   "id": "2c210bf5",
   "metadata": {},
   "outputs": [
    {
     "data": {
      "text/plain": [
       "'Auth error'"
      ]
     },
     "execution_count": 25,
     "metadata": {},
     "output_type": "execute_result"
    }
   ],
   "source": [
    "status_text(472)"
   ]
  },
  {
   "cell_type": "markdown",
   "id": "c9c4e183",
   "metadata": {},
   "source": [
    "#### Binding variables\n",
    "\n",
    "We can bind one or more variables in a case clause."
   ]
  },
  {
   "cell_type": "code",
   "execution_count": 27,
   "id": "52bccde1",
   "metadata": {},
   "outputs": [],
   "source": [
    "def parse_command(s):\n",
    "    match s.split():\n",
    "        case [command]:\n",
    "            print(f\"ok, executing {command}\")\n",
    "        case [\"go\", direction]:\n",
    "            print(f\"going {direction}\")\n",
    "        case _:\n",
    "            print(\"unknown command\")"
   ]
  },
  {
   "cell_type": "code",
   "execution_count": 28,
   "id": "a8cc8012",
   "metadata": {},
   "outputs": [
    {
     "name": "stdout",
     "output_type": "stream",
     "text": [
      "ok, executing greet\n"
     ]
    }
   ],
   "source": [
    "parse_command(\"greet\")"
   ]
  },
  {
   "cell_type": "code",
   "execution_count": 29,
   "id": "d34fbdcb",
   "metadata": {},
   "outputs": [
    {
     "name": "stdout",
     "output_type": "stream",
     "text": [
      "going north\n"
     ]
    }
   ],
   "source": [
    "parse_command(\"go north\")"
   ]
  },
  {
   "cell_type": "markdown",
   "id": "178c683f",
   "metadata": {},
   "source": [
    "#### Binding a variable number of values"
   ]
  },
  {
   "cell_type": "code",
   "execution_count": 30,
   "id": "4bb835f9",
   "metadata": {},
   "outputs": [],
   "source": [
    "def parse_command(s):\n",
    "    match s.split():\n",
    "        case [command]:\n",
    "            print(f\"ok, executing {command}\")\n",
    "        case [\"go\", direction]:\n",
    "            print(f\"going {direction}\")\n",
    "        case [\"drop\", *items]:\n",
    "            print(f\"dropping {len(items)} items: {items}\")\n",
    "        case _:\n",
    "            print(\"unknown command\")"
   ]
  },
  {
   "cell_type": "code",
   "execution_count": 31,
   "id": "ac1ed658",
   "metadata": {},
   "outputs": [
    {
     "name": "stdout",
     "output_type": "stream",
     "text": [
      "ok, executing greet\n"
     ]
    }
   ],
   "source": [
    "parse_command(\"greet\")"
   ]
  },
  {
   "cell_type": "code",
   "execution_count": 32,
   "id": "e9cd49dc",
   "metadata": {},
   "outputs": [
    {
     "name": "stdout",
     "output_type": "stream",
     "text": [
      "dropping 2 items: ['gem', 'axe']\n"
     ]
    }
   ],
   "source": [
    "parse_command(\"drop gem axe\")"
   ]
  },
  {
   "cell_type": "markdown",
   "id": "069c61f2",
   "metadata": {},
   "source": [
    "#### Subpatterns\n"
   ]
  },
  {
   "cell_type": "code",
   "execution_count": 49,
   "id": "c626df6e",
   "metadata": {},
   "outputs": [],
   "source": [
    "\n",
    "def parse_command(s):\n",
    "    match s.split():\n",
    "        case [command]:\n",
    "            print(f\"ok, executing {command}\")\n",
    "        case [\"go\", (\"north\" | \"south\") as direction]:\n",
    "            print(f\"going {direction}\")\n",
    "        case [\"drop\", *items]:\n",
    "            print(f\"dropping {len(items)} items: {items}\")\n",
    "        case _:\n",
    "            print(\"unknown command\")"
   ]
  },
  {
   "cell_type": "markdown",
   "id": "2bde8f79",
   "metadata": {},
   "source": [
    "#### Conditional Pattern\n",
    "\n",
    "We can define a condition on one or more variables in a case clause.\n",
    "\n"
   ]
  },
  {
   "cell_type": "code",
   "execution_count": 50,
   "id": "3351c649",
   "metadata": {},
   "outputs": [],
   "source": [
    "valid_directions = [\"north\", \"south\", \"west\", \"east\"]\n",
    "\n",
    "\n",
    "def parse_command(s):\n",
    "    match s.split():\n",
    "        case [command]:\n",
    "            print(f\"ok, executing {command}\")\n",
    "        case [\"go\", direction] if direction in valid_directions:\n",
    "            print(f\"going {direction}\")\n",
    "        case [\"drop\", *items]:\n",
    "            print(f\"dropping {len(items)} items: {items}\")\n",
    "        case _:\n",
    "            print(\"unknown command\")"
   ]
  },
  {
   "cell_type": "code",
   "execution_count": 51,
   "id": "9193d965",
   "metadata": {},
   "outputs": [
    {
     "name": "stdout",
     "output_type": "stream",
     "text": [
      "unknown command\n"
     ]
    }
   ],
   "source": [
    "parse_command(\"go eeeast\")"
   ]
  },
  {
   "cell_type": "code",
   "execution_count": 52,
   "id": "2769b26d",
   "metadata": {},
   "outputs": [
    {
     "name": "stdout",
     "output_type": "stream",
     "text": [
      "going east\n"
     ]
    }
   ],
   "source": [
    "parse_command(\"go east\")"
   ]
  },
  {
   "cell_type": "markdown",
   "id": "8122d71d",
   "metadata": {},
   "source": [
    "#### Matching Objects\n",
    "\n",
    "We can even match on object attributes."
   ]
  },
  {
   "cell_type": "code",
   "execution_count": 53,
   "id": "8988aeef",
   "metadata": {},
   "outputs": [],
   "source": [
    "import datetime"
   ]
  },
  {
   "cell_type": "code",
   "execution_count": 58,
   "id": "041c7572",
   "metadata": {},
   "outputs": [],
   "source": [
    "def action_for_date(date):\n",
    "    match date:\n",
    "        case datetime.date(year=2000):\n",
    "            print(\"archive\")\n",
    "        case datetime.date(year=2384):\n",
    "            print(\"join starfleet\")\n",
    "        case _:\n",
    "            print(\"go out and play\")\n",
    "        "
   ]
  },
  {
   "cell_type": "code",
   "execution_count": 57,
   "id": "869bc9eb",
   "metadata": {},
   "outputs": [
    {
     "name": "stdout",
     "output_type": "stream",
     "text": [
      "archive\n"
     ]
    }
   ],
   "source": [
    "action_for_date(datetime.date(2000, 1, 1))"
   ]
  },
  {
   "cell_type": "code",
   "execution_count": 59,
   "id": "55097317",
   "metadata": {},
   "outputs": [
    {
     "name": "stdout",
     "output_type": "stream",
     "text": [
      "join starfleet\n"
     ]
    }
   ],
   "source": [
    "action_for_date(datetime.date(2384, 4, 1))"
   ]
  },
  {
   "cell_type": "code",
   "execution_count": 60,
   "id": "ceead0c4",
   "metadata": {},
   "outputs": [
    {
     "name": "stdout",
     "output_type": "stream",
     "text": [
      "go out and play\n"
     ]
    }
   ],
   "source": [
    "action_for_date(datetime.date(2200, 1, 1))"
   ]
  },
  {
   "cell_type": "markdown",
   "id": "0223454d",
   "metadata": {},
   "source": [
    "#### Matching dictionaries\n",
    "\n",
    "Maybe some data receive as JSON."
   ]
  },
  {
   "cell_type": "code",
   "execution_count": 67,
   "id": "2170fd68",
   "metadata": {},
   "outputs": [],
   "source": [
    "def validate(data):\n",
    "    match data:\n",
    "        case {\"a\": 100, \"b\": _}:\n",
    "            print(\"ok\")\n",
    "        case {\"a\": 50, \"b\": \"err\"}:\n",
    "            print(\"cricital\")\n",
    "        case {\"a\": 0}:\n",
    "            print(\"defunkt\")\n",
    "        case {\"a\": value, \"b\": \"ok\"} if 100 < value < 110:\n",
    "            print(\"elevated\")\n",
    "    "
   ]
  },
  {
   "cell_type": "code",
   "execution_count": 80,
   "id": "36ace378",
   "metadata": {},
   "outputs": [
    {
     "name": "stdout",
     "output_type": "stream",
     "text": [
      "elevated\n"
     ]
    }
   ],
   "source": [
    "validate({\"a\": 107, \"b\": \"ok\"})"
   ]
  },
  {
   "cell_type": "code",
   "execution_count": 75,
   "id": "f0f02250",
   "metadata": {},
   "outputs": [
    {
     "name": "stdout",
     "output_type": "stream",
     "text": [
      "ok\n"
     ]
    }
   ],
   "source": [
    "validate({\"a\": 100, \"b\": \"whatever\"})"
   ]
  },
  {
   "cell_type": "code",
   "execution_count": 77,
   "id": "c31675ef",
   "metadata": {},
   "outputs": [
    {
     "name": "stdout",
     "output_type": "stream",
     "text": [
      "cricital\n"
     ]
    }
   ],
   "source": [
    "validate({\"a\": 50, \"b\": \"err\"})"
   ]
  },
  {
   "cell_type": "code",
   "execution_count": 79,
   "id": "0c937070",
   "metadata": {},
   "outputs": [
    {
     "name": "stdout",
     "output_type": "stream",
     "text": [
      "defunkt\n"
     ]
    }
   ],
   "source": [
    "validate({\"a\": 0, \"b\": \"err\", \"c\": None})"
   ]
  },
  {
   "cell_type": "code",
   "execution_count": null,
   "id": "e358dee3",
   "metadata": {},
   "outputs": [],
   "source": [
    "validate({\"a\": 0, \"b\": \"err\", \"c\": None})"
   ]
  }
 ],
 "metadata": {
  "kernelspec": {
   "display_name": "Python 3 (ipykernel)",
   "language": "python",
   "name": "python3"
  },
  "language_info": {
   "codemirror_mode": {
    "name": "ipython",
    "version": 3
   },
   "file_extension": ".py",
   "mimetype": "text/x-python",
   "name": "python",
   "nbconvert_exporter": "python",
   "pygments_lexer": "ipython3",
   "version": "3.11.0"
  }
 },
 "nbformat": 4,
 "nbformat_minor": 5
}
