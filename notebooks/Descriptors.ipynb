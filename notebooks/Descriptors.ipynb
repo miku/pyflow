{
 "cells": [
  {
   "cell_type": "markdown",
   "id": "2516aba0",
   "metadata": {},
   "source": [
    "### Descriptors and Slots"
   ]
  },
  {
   "cell_type": "markdown",
   "id": "d4277b12",
   "metadata": {},
   "source": [
    "#### Where do object and classes store their attributes? "
   ]
  },
  {
   "cell_type": "code",
   "execution_count": 1,
   "id": "70cdfa2f",
   "metadata": {},
   "outputs": [],
   "source": [
    "class A:\n",
    "    v = 123"
   ]
  },
  {
   "cell_type": "code",
   "execution_count": 2,
   "id": "064e24b8",
   "metadata": {},
   "outputs": [
    {
     "data": {
      "text/plain": [
       "mappingproxy({'__module__': '__main__',\n",
       "              'v': 123,\n",
       "              '__dict__': <attribute '__dict__' of 'A' objects>,\n",
       "              '__weakref__': <attribute '__weakref__' of 'A' objects>,\n",
       "              '__doc__': None})"
      ]
     },
     "execution_count": 2,
     "metadata": {},
     "output_type": "execute_result"
    }
   ],
   "source": [
    "A.__dict__"
   ]
  },
  {
   "cell_type": "markdown",
   "id": "c015e2dc",
   "metadata": {},
   "source": [
    "A mappingproxy makes a dictionary read-only (also, string keys are enforced for class dictionary)."
   ]
  },
  {
   "cell_type": "code",
   "execution_count": 3,
   "id": "77be72a6",
   "metadata": {},
   "outputs": [],
   "source": [
    "from types import MappingProxyType"
   ]
  },
  {
   "cell_type": "code",
   "execution_count": 4,
   "id": "7d09709b",
   "metadata": {},
   "outputs": [],
   "source": [
    "mp = MappingProxyType({1: 2})"
   ]
  },
  {
   "cell_type": "code",
   "execution_count": 5,
   "id": "8da6b105",
   "metadata": {},
   "outputs": [
    {
     "data": {
      "text/plain": [
       "mappingproxy({1: 2})"
      ]
     },
     "execution_count": 5,
     "metadata": {},
     "output_type": "execute_result"
    }
   ],
   "source": [
    "mp"
   ]
  },
  {
   "cell_type": "code",
   "execution_count": 6,
   "id": "5b9c61d6",
   "metadata": {},
   "outputs": [],
   "source": [
    "# mp[1] = 3 # TypeError: 'mappingproxy' object does not support item assignment"
   ]
  },
  {
   "cell_type": "code",
   "execution_count": 7,
   "id": "537d0196",
   "metadata": {},
   "outputs": [],
   "source": [
    "a = A()"
   ]
  },
  {
   "cell_type": "code",
   "execution_count": 8,
   "id": "342feea3",
   "metadata": {},
   "outputs": [
    {
     "data": {
      "text/plain": [
       "{}"
      ]
     },
     "execution_count": 8,
     "metadata": {},
     "output_type": "execute_result"
    }
   ],
   "source": [
    "a.__dict__"
   ]
  },
  {
   "cell_type": "code",
   "execution_count": 9,
   "id": "6143f93a",
   "metadata": {},
   "outputs": [
    {
     "data": {
      "text/plain": [
       "mappingproxy({'__module__': '__main__',\n",
       "              'v': 123,\n",
       "              '__dict__': <attribute '__dict__' of 'A' objects>,\n",
       "              '__weakref__': <attribute '__weakref__' of 'A' objects>,\n",
       "              '__doc__': None})"
      ]
     },
     "execution_count": 9,
     "metadata": {},
     "output_type": "execute_result"
    }
   ],
   "source": [
    "a.__class__.__dict__"
   ]
  },
  {
   "cell_type": "markdown",
   "id": "496e4cf4",
   "metadata": {},
   "source": [
    "To use the descriptor, it must be stored as a **class variable** in another class."
   ]
  },
  {
   "cell_type": "markdown",
   "id": "17e29e75",
   "metadata": {},
   "source": [
    "#### What is a descriptor?"
   ]
  },
  {
   "cell_type": "markdown",
   "id": "a04483a6",
   "metadata": {},
   "source": [
    "> In general, a descriptor is an attribute value that has one of the methods in the descriptor protocol. Those methods are `__get__()`, `__set__()`, and `__delete__()`. If any of those methods are defined for an attribute, it is said to be a descriptor. \n",
    "\n",
    "* read-only attributes\n",
    "\n",
    "There is a default descriptor, that we does the usual attribute lookup:\n",
    "\n",
    "* instance\n",
    "* type\n",
    "* continuing types in the method-resolution order"
   ]
  },
  {
   "cell_type": "markdown",
   "id": "c6c70c2a",
   "metadata": {},
   "source": [
    "#### A class with a class attribute and a descriptor"
   ]
  },
  {
   "cell_type": "code",
   "execution_count": 10,
   "id": "282afcea",
   "metadata": {},
   "outputs": [],
   "source": [
    "class A:\n",
    "    x = 10"
   ]
  },
  {
   "cell_type": "code",
   "execution_count": 11,
   "id": "35ab54de",
   "metadata": {},
   "outputs": [],
   "source": [
    "a = A()"
   ]
  },
  {
   "cell_type": "code",
   "execution_count": 12,
   "id": "132b7db7",
   "metadata": {},
   "outputs": [
    {
     "data": {
      "text/plain": [
       "10"
      ]
     },
     "execution_count": 12,
     "metadata": {},
     "output_type": "execute_result"
    }
   ],
   "source": [
    "a.x"
   ]
  },
  {
   "cell_type": "code",
   "execution_count": 13,
   "id": "73dc02c2",
   "metadata": {},
   "outputs": [],
   "source": [
    "class D:\n",
    "    def __get__(self, obj, objtype=None):\n",
    "        print(\"D.__get__\", obj)\n",
    "        return 10"
   ]
  },
  {
   "cell_type": "code",
   "execution_count": 14,
   "id": "80005ba8",
   "metadata": {},
   "outputs": [],
   "source": [
    "class A:\n",
    "    x = D()"
   ]
  },
  {
   "cell_type": "code",
   "execution_count": 15,
   "id": "ca8e200b",
   "metadata": {},
   "outputs": [],
   "source": [
    "a = A()"
   ]
  },
  {
   "cell_type": "code",
   "execution_count": 16,
   "id": "9f4a0ef1",
   "metadata": {},
   "outputs": [
    {
     "name": "stdout",
     "output_type": "stream",
     "text": [
      "D.__get__ <__main__.A object at 0x7fed817ac550>\n"
     ]
    },
    {
     "data": {
      "text/plain": [
       "10"
      ]
     },
     "execution_count": 16,
     "metadata": {},
     "output_type": "execute_result"
    }
   ],
   "source": [
    "a.x"
   ]
  },
  {
   "cell_type": "markdown",
   "id": "56ca7ac1",
   "metadata": {},
   "source": [
    "Now x is a descriptor."
   ]
  },
  {
   "cell_type": "code",
   "execution_count": 17,
   "id": "eada879c",
   "metadata": {},
   "outputs": [
    {
     "data": {
      "text/plain": [
       "mappingproxy({'__module__': '__main__',\n",
       "              'x': <__main__.D at 0x7fed817ac6d0>,\n",
       "              '__dict__': <attribute '__dict__' of 'A' objects>,\n",
       "              '__weakref__': <attribute '__weakref__' of 'A' objects>,\n",
       "              '__doc__': None})"
      ]
     },
     "execution_count": 17,
     "metadata": {},
     "output_type": "execute_result"
    }
   ],
   "source": [
    "A.__dict__"
   ]
  },
  {
   "cell_type": "markdown",
   "id": "958ef4da",
   "metadata": {},
   "source": [
    "The value of `A.x` will is now a computed value. "
   ]
  },
  {
   "cell_type": "markdown",
   "id": "2a7fe2b7",
   "metadata": {},
   "source": [
    "#### Example: Directory Size"
   ]
  },
  {
   "cell_type": "code",
   "execution_count": 18,
   "id": "4bb315d1",
   "metadata": {},
   "outputs": [],
   "source": [
    "import os\n",
    "\n",
    "class DirectorySize:\n",
    "\n",
    "    def __get__(self, obj, objtype=None):\n",
    "        return len(os.listdir(obj.dirname))\n",
    "\n",
    "class Directory:\n",
    "\n",
    "    size = DirectorySize()              # Descriptor instance\n",
    "\n",
    "    def __init__(self, dirname):\n",
    "        self.dirname = dirname          # Regular instance attribute"
   ]
  },
  {
   "cell_type": "code",
   "execution_count": 19,
   "id": "a4e26d63",
   "metadata": {},
   "outputs": [
    {
     "data": {
      "text/plain": [
       "30"
      ]
     },
     "execution_count": 19,
     "metadata": {},
     "output_type": "execute_result"
    }
   ],
   "source": [
    "d = Directory(\".\")\n",
    "d.size"
   ]
  },
  {
   "cell_type": "code",
   "execution_count": 20,
   "id": "388df4cd",
   "metadata": {},
   "outputs": [
    {
     "name": "stdout",
     "output_type": "stream",
     "text": [
      ".\t\t\t\t    Descriptors.ipynb\r\n",
      "..\t\t\t\t    Exceptions.ipynb\r\n",
      "ClassDecorators.ipynb\t\t    FlowControl.ipynb\r\n",
      "CollectionsABC.ipynb\t\t    FunctionalAspects.ipynb\r\n",
      "Collections.ipynb\t\t    Generators.ipynb\r\n",
      "DataModelAttributeMagic.ipynb\t    Interfaces.ipynb\r\n",
      "DataModelAugmentedAssignment.ipynb  .ipynb_checkpoints\r\n",
      "DataModelComparison.ipynb\t    Iterators.ipynb\r\n",
      "DataModelInitialization.ipynb\t    MatchStatement.ipynb\r\n",
      "DataModelItemAccess.ipynb\t    Metaclasses.ipynb\r\n",
      "DataModelOperatorMagic.ipynb\t    MethodCalls.ipynb\r\n",
      "DataModelOverview.ipynb\t\t    PositionalOnlyArgs.ipynb\r\n",
      "DataModelStringMagic.ipynb\t    SentinelValue.ipynb\r\n",
      "DataModelTypeConversions.ipynb\t    Slots.ipynb\r\n",
      "DatamodelUnary.ipynb\t\t    Snippets\r\n",
      "Decorators.ipynb\t\t    Tasks.ipynb\r\n"
     ]
    }
   ],
   "source": [
    "!ls -a"
   ]
  },
  {
   "cell_type": "markdown",
   "id": "d07bd826",
   "metadata": {},
   "source": [
    "In order to do something instance specific, the `obj` is passed in. In this example, we also depend on an attribute `dirname` on object - so this descriptor is less general."
   ]
  },
  {
   "cell_type": "markdown",
   "id": "e8c958f6",
   "metadata": {},
   "source": [
    "#### Sidenote: Properties\n",
    "\n",
    "There is a similar technique, called [properties](https://docs.python.org/3/library/functions.html#property).\n",
    "    \n",
    "* Properties work best when they know about the class\n",
    "* **Descriptors are more general**, can often apply to any class\n",
    "* Use descriptors if behaviour is different for classes and instances\n",
    "* Properties are syntactic sugar\n"
   ]
  },
  {
   "cell_type": "code",
   "execution_count": 21,
   "id": "8c82ea09",
   "metadata": {},
   "outputs": [],
   "source": [
    "class Directory:\n",
    "    \n",
    "    def __init__(self, dirname):\n",
    "        self.dirname = dirname          # Regular instance attribute\n",
    "    \n",
    "    @property\n",
    "    def size(self):\n",
    "        return self._compute_size()\n",
    "        \n",
    "    def _compute_size(self):\n",
    "        return len(os.listdir(self.dirname))"
   ]
  },
  {
   "cell_type": "code",
   "execution_count": 22,
   "id": "0101df45",
   "metadata": {},
   "outputs": [
    {
     "data": {
      "text/plain": [
       "30"
      ]
     },
     "execution_count": 22,
     "metadata": {},
     "output_type": "execute_result"
    }
   ],
   "source": [
    "d = Directory(\".\")\n",
    "d.size"
   ]
  },
  {
   "cell_type": "code",
   "execution_count": 23,
   "id": "084c53da",
   "metadata": {},
   "outputs": [],
   "source": [
    "# d.size = 3 # read-only: AttributeError: property 'size' of 'Directory' object has no setter"
   ]
  },
  {
   "cell_type": "markdown",
   "id": "ac002d7d",
   "metadata": {},
   "source": [
    "A note on properties:\n",
    "    \n",
    "* The expectation of an attribute access to be fast should be kept in mind. "
   ]
  },
  {
   "cell_type": "markdown",
   "id": "389ec049",
   "metadata": {},
   "source": [
    "#### Revisit, objtype"
   ]
  },
  {
   "cell_type": "code",
   "execution_count": 24,
   "id": "737ecd16",
   "metadata": {},
   "outputs": [],
   "source": [
    "import os\n",
    "\n",
    "class DirectorySize:\n",
    "\n",
    "    def __get__(self, obj, objtype=None):\n",
    "        if obj is None:\n",
    "            print(f\"called on type! {objtype}\")\n",
    "        else:\n",
    "            print(f\"DirectorySize: {obj} {objtype}\")\n",
    "            return len(os.listdir(obj.dirname))\n",
    "\n",
    "class Directory:\n",
    "\n",
    "    size = DirectorySize()              # Descriptor instance\n",
    "\n",
    "    def __init__(self, dirname):\n",
    "        self.dirname = dirname          # Regular instance attribute"
   ]
  },
  {
   "cell_type": "code",
   "execution_count": 25,
   "id": "65fe30f7",
   "metadata": {},
   "outputs": [
    {
     "name": "stdout",
     "output_type": "stream",
     "text": [
      "DirectorySize: <__main__.Directory object at 0x7fed817ac2b0> <class '__main__.Directory'>\n"
     ]
    },
    {
     "data": {
      "text/plain": [
       "30"
      ]
     },
     "execution_count": 25,
     "metadata": {},
     "output_type": "execute_result"
    }
   ],
   "source": [
    "d = Directory(\".\")\n",
    "d.size"
   ]
  },
  {
   "cell_type": "markdown",
   "id": "56ba248a",
   "metadata": {},
   "source": [
    "Why do we need the extra type information? Because the instance could be some subclass."
   ]
  },
  {
   "cell_type": "code",
   "execution_count": 26,
   "id": "6d70131b",
   "metadata": {},
   "outputs": [
    {
     "name": "stdout",
     "output_type": "stream",
     "text": [
      "called on type! <class '__main__.Directory'>\n"
     ]
    }
   ],
   "source": [
    "Directory.size"
   ]
  },
  {
   "cell_type": "markdown",
   "id": "07917071",
   "metadata": {},
   "source": [
    "#### Use case: Managing instance data\n",
    "\n",
    "* descriptor is a delegate and can intercept attribute access\n",
    "\n",
    "Example: logging access\n",
    "\n",
    "Notes:\n",
    "\n",
    "* we are still storing the instance data in the instance\n",
    "* we use a per convention hidden name `_age` to store the value"
   ]
  },
  {
   "cell_type": "code",
   "execution_count": 27,
   "id": "47e8db03",
   "metadata": {},
   "outputs": [],
   "source": [
    "import logging\n",
    "\n",
    "logging.basicConfig(level=logging.INFO)\n",
    "\n",
    "class LoggedAgeAccess:\n",
    "\n",
    "    def __get__(self, obj, objtype=None):\n",
    "        value = obj._age\n",
    "        logging.info('Accessing %r giving %r', 'age', value)\n",
    "        return value\n",
    "\n",
    "    def __set__(self, obj, value):\n",
    "        logging.info('Updating %r to %r', 'age', value)\n",
    "        obj._age = value\n",
    "\n",
    "class Person:\n",
    "\n",
    "    age = LoggedAgeAccess()             # Descriptor instance\n",
    "\n",
    "    def __init__(self, name, age):\n",
    "        self.name = name                # Regular instance attribute\n",
    "        self.age = age                  # Calls __set__()\n",
    "\n",
    "    def birthday(self):\n",
    "        self.age += 1                   # Calls both __get__() and __set__()"
   ]
  },
  {
   "cell_type": "code",
   "execution_count": 28,
   "id": "e5f40a3c",
   "metadata": {},
   "outputs": [
    {
     "name": "stderr",
     "output_type": "stream",
     "text": [
      "INFO:root:Updating 'age' to 30\n",
      "INFO:root:Updating 'age' to 40\n"
     ]
    }
   ],
   "source": [
    "mary = Person('Mary M', 30)         # The initial age update is logged\n",
    "dave = Person('David D', 40)"
   ]
  },
  {
   "cell_type": "code",
   "execution_count": 29,
   "id": "16b2d442",
   "metadata": {},
   "outputs": [
    {
     "data": {
      "text/plain": [
       "({'name': 'Mary M', '_age': 30}, {'name': 'David D', '_age': 40})"
      ]
     },
     "execution_count": 29,
     "metadata": {},
     "output_type": "execute_result"
    }
   ],
   "source": [
    "vars(mary), vars(dave)                     # The actual data is in a private attribute"
   ]
  },
  {
   "cell_type": "code",
   "execution_count": 30,
   "id": "68faddfa",
   "metadata": {},
   "outputs": [
    {
     "name": "stderr",
     "output_type": "stream",
     "text": [
      "INFO:root:Accessing 'age' giving 30\n",
      "INFO:root:Updating 'age' to 31\n"
     ]
    }
   ],
   "source": [
    "mary.birthday()                     # Updates are logged as well"
   ]
  },
  {
   "cell_type": "code",
   "execution_count": 31,
   "id": "7fc11d6f",
   "metadata": {},
   "outputs": [
    {
     "name": "stderr",
     "output_type": "stream",
     "text": [
      "INFO:root:Accessing 'age' giving 40\n"
     ]
    },
    {
     "data": {
      "text/plain": [
       "('David D', 40)"
      ]
     },
     "execution_count": 31,
     "metadata": {},
     "output_type": "execute_result"
    }
   ],
   "source": [
    "dave.name, dave.age                           # Regular attribute lookup isn't logged\n"
   ]
  },
  {
   "cell_type": "markdown",
   "id": "7f17fc05",
   "metadata": {},
   "source": [
    "### A few problems\n",
    "    \n",
    "* `_age` is hardcoded\n",
    "* and we do not know which attribute name the Person class uses"
   ]
  },
  {
   "cell_type": "markdown",
   "id": "e9ec9c98",
   "metadata": {},
   "source": [
    "In PEP 487 – Simpler customisation of class creation, we get some support for this kind of problem.\n",
    "\n",
    "* https://peps.python.org/pep-0487/ \n",
    "\n",
    "> upon class creation, a __set_name__ hook is called on all the attribute (descriptors) defined in the class [...] \n",
    "\n",
    "* added in Python 3.6\n",
    "\n",
    "Previously, you would have to pass the attribute name explicitly to the descriptor, which was repetetive. Or use some class decorator, that would automate the name mapping.\n",
    "\n",
    "```python\n",
    "class configure_descriptors:\n",
    "    def __init__(self, **kwargs):\n",
    "        self.descs = {dname: dcls(dname) for dname, dcls in kwargs.items()}\n",
    "\n",
    "    def __call__(self, class_):\n",
    "        for dname, descriptor in self.descs.items():\n",
    "            setattr(class_, dname, descriptor)\n",
    "        return class_\n",
    "\n",
    "\n",
    "@configure_descriptors(\n",
    "    descriptor=LoggedAttr\n",
    ")\n",
    "class DecoratedManaged:\n",
    "    \"\"\"The descriptor is provided by the decorator\"\"\"\n",
    "```"
   ]
  },
  {
   "cell_type": "markdown",
   "id": "fea2c5d0",
   "metadata": {},
   "source": [
    "We want to follow a convention, e.g. to store every attribute with a `_` prefix in the instance."
   ]
  },
  {
   "cell_type": "markdown",
   "id": "7edfe068",
   "metadata": {},
   "source": [
    "Let's see `__set_name__` in a smaller example.\n",
    "\n"
   ]
  },
  {
   "cell_type": "code",
   "execution_count": 39,
   "id": "7dd984ef",
   "metadata": {},
   "outputs": [
    {
     "name": "stdout",
     "output_type": "stream",
     "text": [
      "__set_name__ owner=<class '__main__.A'> name=attr\n"
     ]
    }
   ],
   "source": [
    "class D:\n",
    "    def __set_name__(self, owner, name):\n",
    "        print(f\"__set_name__ owner={owner} name={name}\")\n",
    "    \n",
    "class A:\n",
    "    attr = D()\n",
    "\n",
    "# __set_name__ is executed, when the class is defined \n"
   ]
  },
  {
   "cell_type": "code",
   "execution_count": 40,
   "id": "968fc6f4",
   "metadata": {},
   "outputs": [],
   "source": [
    "import logging\n",
    "\n",
    "logging.basicConfig(level=logging.INFO)\n",
    "\n",
    "class LoggedAccess:\n",
    "\n",
    "    def __set_name__(self, owner, name):\n",
    "        self.public_name = name\n",
    "        self.private_name = '_' + name\n",
    "\n",
    "    def __get__(self, obj, objtype=None):\n",
    "        value = getattr(obj, self.private_name)\n",
    "        logging.info('Accessing %r giving %r', self.public_name, value)\n",
    "        return value\n",
    "\n",
    "    def __set__(self, obj, value):\n",
    "        logging.info('Updating %r to %r', self.public_name, value)\n",
    "        setattr(obj, self.private_name, value)\n",
    "\n",
    "class Person:\n",
    "\n",
    "    name = LoggedAccess()                # First descriptor instance\n",
    "    age = LoggedAccess()                 # Second descriptor instance\n",
    "\n",
    "    def __init__(self, name, age):\n",
    "        self.name = name                 # Calls the first descriptor\n",
    "        self.age = age                   # Calls the second descriptor\n",
    "\n",
    "    def birthday(self):\n",
    "        self.age += 1\n",
    "\n"
   ]
  },
  {
   "cell_type": "code",
   "execution_count": 41,
   "id": "167afbc6",
   "metadata": {},
   "outputs": [
    {
     "name": "stderr",
     "output_type": "stream",
     "text": [
      "INFO:root:Updating 'name' to 'Mary M'\n",
      "INFO:root:Updating 'age' to 30\n",
      "INFO:root:Updating 'name' to 'David D'\n",
      "INFO:root:Updating 'age' to 40\n"
     ]
    }
   ],
   "source": [
    "mary = Person('Mary M', 30)         # The initial age update is logged\n",
    "dave = Person('David D', 40)"
   ]
  },
  {
   "cell_type": "code",
   "execution_count": 42,
   "id": "d0ab3c7d",
   "metadata": {},
   "outputs": [
    {
     "data": {
      "text/plain": [
       "{'_name': 'Mary M', '_age': 30}"
      ]
     },
     "execution_count": 42,
     "metadata": {},
     "output_type": "execute_result"
    }
   ],
   "source": [
    "vars(mary)"
   ]
  },
  {
   "cell_type": "code",
   "execution_count": 43,
   "id": "1bdb472a",
   "metadata": {},
   "outputs": [
    {
     "data": {
      "text/plain": [
       "{'_name': 'David D', '_age': 40}"
      ]
     },
     "execution_count": 43,
     "metadata": {},
     "output_type": "execute_result"
    }
   ],
   "source": [
    "vars(dave)"
   ]
  },
  {
   "cell_type": "markdown",
   "id": "cd2e3dc8",
   "metadata": {},
   "source": [
    "Notes:\n",
    "    \n",
    "> Optionally, descriptors can have a `__set_name__()` method. This is only used in cases where a descriptor needs to know either the **class** where it was created or the **name of class variable** it was assigned to.\n",
    "\n",
    "`__set_name__` is not descriptor specific.\n",
    "\n",
    "Sidenote:\n",
    "\n",
    "Previously, this needed to be done manually, e.g. passing the attribute name again as an argument to the descriptor.\n",
    "\n",
    "```python\n",
    "attr = CachedAttr(\"attr\", f)\n",
    "```"
   ]
  },
  {
   "cell_type": "markdown",
   "id": "f565c857",
   "metadata": {},
   "source": [
    "#### Task: Descriptor for adding range limits for integer values"
   ]
  },
  {
   "cell_type": "code",
   "execution_count": 52,
   "id": "dfab369e",
   "metadata": {},
   "outputs": [],
   "source": [
    "class IntRange:\n",
    "    \n",
    "    def __init__(self, min=None, max=None):\n",
    "        self.min = min\n",
    "        self.max = max\n",
    "\n",
    "    def __set_name__(self, owner, name):\n",
    "        self.public_name = name\n",
    "        self.private_name = '_' + name\n",
    "        \n",
    "    def __get__(self, obj, objtype):\n",
    "        return getattr(obj, self.private_name)\n",
    "    \n",
    "    def __set__(self, obj, value):\n",
    "        if self.min is not None:\n",
    "            if value < self.min:\n",
    "                raise ValueError(\"value too small\")\n",
    "        if self.max is not None:\n",
    "            if value > self.max:\n",
    "                raise ValueError(\"value too large\")\n",
    "        setattr(obj, self.private_name, value)"
   ]
  },
  {
   "cell_type": "code",
   "execution_count": 53,
   "id": "1bd956d3",
   "metadata": {},
   "outputs": [],
   "source": [
    "class Record:\n",
    "    x = IntRange(min=10, max=20)\n",
    "    y = IntRange(min=0)"
   ]
  },
  {
   "cell_type": "code",
   "execution_count": 54,
   "id": "fce81ee5",
   "metadata": {},
   "outputs": [],
   "source": [
    "record = Record()"
   ]
  },
  {
   "cell_type": "code",
   "execution_count": 55,
   "id": "5742bcee",
   "metadata": {},
   "outputs": [],
   "source": [
    "record.x = 10"
   ]
  },
  {
   "cell_type": "code",
   "execution_count": 57,
   "id": "8058280d",
   "metadata": {},
   "outputs": [],
   "source": [
    "# record.x = 9 # ValueError: value too small"
   ]
  },
  {
   "cell_type": "code",
   "execution_count": 59,
   "id": "eef911fc",
   "metadata": {},
   "outputs": [],
   "source": [
    "# record.x = 100 # ValueError: value too large"
   ]
  },
  {
   "cell_type": "markdown",
   "id": "fdf6c0f7",
   "metadata": {},
   "source": [
    "#### Code Review: Validation\n",
    "\n",
    "Small example for a tiny validation layer, with a pleasant surface."
   ]
  },
  {
   "cell_type": "code",
   "execution_count": 60,
   "id": "d1b10924",
   "metadata": {},
   "outputs": [],
   "source": [
    "from abc import ABC, abstractmethod\n",
    "\n",
    "class Validator(ABC):\n",
    "\n",
    "    def __set_name__(self, owner, name):\n",
    "        self.private_name = '_' + name\n",
    "\n",
    "    def __get__(self, obj, objtype=None):\n",
    "        return getattr(obj, self.private_name)\n",
    "\n",
    "    def __set__(self, obj, value):\n",
    "        self.validate(value)\n",
    "        setattr(obj, self.private_name, value)\n",
    "\n",
    "    @abstractmethod\n",
    "    def validate(self, value):\n",
    "        pass"
   ]
  },
  {
   "cell_type": "markdown",
   "id": "0a5ad416",
   "metadata": {},
   "source": [
    "These examples a slightly more general. They do not depend on the existence of specific attributes in the enclosing class and can be used in many contexts. The only thing we mutate is a private attribute name."
   ]
  },
  {
   "cell_type": "code",
   "execution_count": 61,
   "id": "97999adc",
   "metadata": {},
   "outputs": [],
   "source": [
    "class OneOf(Validator):\n",
    "\n",
    "    def __init__(self, *options):\n",
    "        self.options = set(options)\n",
    "\n",
    "    def validate(self, value):\n",
    "        if value not in self.options:\n",
    "            raise ValueError(f'Expected {value!r} to be one of {self.options!r}')"
   ]
  },
  {
   "cell_type": "markdown",
   "id": "27d4c856",
   "metadata": {},
   "source": [
    "We can define numbers or strings with some bounds, too."
   ]
  },
  {
   "cell_type": "code",
   "execution_count": 62,
   "id": "43a4c1b9",
   "metadata": {},
   "outputs": [],
   "source": [
    "class Number(Validator):\n",
    "\n",
    "    def __init__(self, minvalue=None, maxvalue=None):\n",
    "        self.minvalue = minvalue\n",
    "        self.maxvalue = maxvalue\n",
    "\n",
    "    def validate(self, value):\n",
    "        if not isinstance(value, (int, float)):\n",
    "            raise TypeError(f'Expected {value!r} to be an int or float')\n",
    "        if self.minvalue is not None and value < self.minvalue:\n",
    "            raise ValueError(\n",
    "                f'Expected {value!r} to be at least {self.minvalue!r}'\n",
    "            )\n",
    "        if self.maxvalue is not None and value > self.maxvalue:\n",
    "            raise ValueError(\n",
    "                f'Expected {value!r} to be no more than {self.maxvalue!r}'\n",
    "            )\n",
    "\n",
    "class String(Validator):\n",
    "\n",
    "    def __init__(self, minsize=None, maxsize=None, predicate=None):\n",
    "        self.minsize = minsize\n",
    "        self.maxsize = maxsize\n",
    "        self.predicate = predicate\n",
    "\n",
    "    def validate(self, value):\n",
    "        if not isinstance(value, str):\n",
    "            raise TypeError(f'Expected {value!r} to be an str')\n",
    "        if self.minsize is not None and len(value) < self.minsize:\n",
    "            raise ValueError(\n",
    "                f'Expected {value!r} to be no smaller than {self.minsize!r}'\n",
    "            )\n",
    "        if self.maxsize is not None and len(value) > self.maxsize:\n",
    "            raise ValueError(\n",
    "                f'Expected {value!r} to be no bigger than {self.maxsize!r}'\n",
    "            )\n",
    "        if self.predicate is not None and not self.predicate(value):\n",
    "            raise ValueError(\n",
    "                f'Expected {self.predicate} to be true for {value!r}'\n",
    "            )\n"
   ]
  },
  {
   "cell_type": "markdown",
   "id": "267a4fb2",
   "metadata": {},
   "source": [
    "To use, we define the use of validators in the class.\n"
   ]
  },
  {
   "cell_type": "code",
   "execution_count": 63,
   "id": "2f5ae693",
   "metadata": {},
   "outputs": [],
   "source": [
    "class Component:\n",
    "\n",
    "    name = String(minsize=3, maxsize=10, predicate=str.isupper)\n",
    "    kind = OneOf('wood', 'metal', 'plastic')\n",
    "    quantity = Number(minvalue=0)\n",
    "\n",
    "    def __init__(self, name, kind, quantity):\n",
    "        self.name = name\n",
    "        self.kind = kind\n",
    "        self.quantity = quantity\n",
    "        "
   ]
  },
  {
   "cell_type": "code",
   "execution_count": 68,
   "id": "ecff5d09",
   "metadata": {},
   "outputs": [],
   "source": [
    "c = Component(\"PART213\", \"wood\", 10)"
   ]
  },
  {
   "cell_type": "code",
   "execution_count": 70,
   "id": "34fe4804",
   "metadata": {},
   "outputs": [],
   "source": [
    "# c = Component(\"PART213\", \"woody\", 10) # ValueError"
   ]
  },
  {
   "cell_type": "markdown",
   "id": "33b7b80c",
   "metadata": {},
   "source": [
    "#### Other use cases\n",
    "\n",
    "* validation\n",
    "* logging, tracing\n",
    "* ORM\n",
    "* caching\n",
    "\n",
    "Interestingly, you can see people using descriptors for what is today implemented as type hints, e.g.\n",
    "\n",
    "```python\n",
    "class A:\n",
    "    name = TypedAttribute(\"name\", str)\n",
    "    x = TypedAttribute(\"x\", int)\n",
    "```"
   ]
  },
  {
   "cell_type": "code",
   "execution_count": null,
   "id": "3cdf51fc",
   "metadata": {},
   "outputs": [],
   "source": []
  }
 ],
 "metadata": {
  "kernelspec": {
   "display_name": "Python 3 (ipykernel)",
   "language": "python",
   "name": "python3"
  },
  "language_info": {
   "codemirror_mode": {
    "name": "ipython",
    "version": 3
   },
   "file_extension": ".py",
   "mimetype": "text/x-python",
   "name": "python",
   "nbconvert_exporter": "python",
   "pygments_lexer": "ipython3",
   "version": "3.8.15"
  }
 },
 "nbformat": 4,
 "nbformat_minor": 5
}
