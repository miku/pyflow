{
 "cells": [
  {
   "cell_type": "markdown",
   "id": "f1e781da",
   "metadata": {},
   "source": [
    "### Interfaces\n",
    "\n",
    "Task: Defining a custom set of methods to be implemented by subclasses"
   ]
  },
  {
   "cell_type": "code",
   "execution_count": 3,
   "id": "4f19d022",
   "metadata": {},
   "outputs": [],
   "source": [
    "import abc"
   ]
  },
  {
   "cell_type": "code",
   "execution_count": 7,
   "id": "8a1889ef",
   "metadata": {},
   "outputs": [],
   "source": [
    "class DataSource(abc.ABC):\n",
    "    \n",
    "    @abc.abstractmethod\n",
    "    def name(self):\n",
    "        pass"
   ]
  },
  {
   "cell_type": "code",
   "execution_count": 8,
   "id": "e14f2694",
   "metadata": {},
   "outputs": [],
   "source": [
    "\n",
    "class Dummy(DataSource):\n",
    "    pass"
   ]
  },
  {
   "cell_type": "code",
   "execution_count": 11,
   "id": "33910716",
   "metadata": {},
   "outputs": [],
   "source": [
    "# dummy = Dummy() # TypeError: Can't instantiate abstract class Dummy with abstract method name"
   ]
  },
  {
   "cell_type": "code",
   "execution_count": 12,
   "id": "74ed9699",
   "metadata": {},
   "outputs": [],
   "source": [
    "\n",
    "class Dummy(DataSource):\n",
    "    \n",
    "    def name(self):\n",
    "        return \"dummy\""
   ]
  },
  {
   "cell_type": "code",
   "execution_count": 13,
   "id": "a72f81b0",
   "metadata": {},
   "outputs": [],
   "source": [
    "dummy = Dummy()"
   ]
  },
  {
   "cell_type": "code",
   "execution_count": 14,
   "id": "12fe0798",
   "metadata": {},
   "outputs": [
    {
     "data": {
      "text/plain": [
       "True"
      ]
     },
     "execution_count": 14,
     "metadata": {},
     "output_type": "execute_result"
    }
   ],
   "source": [
    "isinstance(dummy, DataSource)"
   ]
  },
  {
   "cell_type": "code",
   "execution_count": null,
   "id": "e4202d95",
   "metadata": {},
   "outputs": [],
   "source": []
  }
 ],
 "metadata": {
  "kernelspec": {
   "display_name": "Python 3 (ipykernel)",
   "language": "python",
   "name": "python3"
  },
  "language_info": {
   "codemirror_mode": {
    "name": "ipython",
    "version": 3
   },
   "file_extension": ".py",
   "mimetype": "text/x-python",
   "name": "python",
   "nbconvert_exporter": "python",
   "pygments_lexer": "ipython3",
   "version": "3.8.15"
  }
 },
 "nbformat": 4,
 "nbformat_minor": 5
}
