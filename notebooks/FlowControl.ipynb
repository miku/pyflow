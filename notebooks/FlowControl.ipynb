{
 "cells": [
  {
   "cell_type": "markdown",
   "id": "495e18ba",
   "metadata": {},
   "source": [
    "### Flow Control\n",
    "\n",
    "* EAFP, using exceptions for flow control\n",
    "* a case for a sentinel value\n",
    "* match statement (3.10+)"
   ]
  },
  {
   "cell_type": "markdown",
   "id": "51f18175",
   "metadata": {},
   "source": [
    "#### EAFP\n",
    "\n",
    "* can look unusual when coming from other (LBYL) languages\n",
    "\n",
    "Example: Converting a string to a float.\n",
    "\n",
    "* [SO379906](https://stackoverflow.com/questions/379906/how-do-i-parse-a-string-to-a-float-or-int), 4M+ views\n",
    "* [SO4703409](https://stackoverflow.com/questions/4703390/how-to-extract-a-floating-number-from-a-string/4703409#4703409), 300k+ views\n",
    "\n",
    "> As a general rule, if you have an object in Python, and want to convert to that type of object, call type(my_object) on it.\n",
    "\n",
    "Options:\n",
    "\n",
    "* regular expressions\n",
    "* conversion"
   ]
  },
  {
   "cell_type": "code",
   "execution_count": 2,
   "id": "825016e7",
   "metadata": {},
   "outputs": [
    {
     "data": {
      "text/plain": [
       "['13.4']"
      ]
     },
     "execution_count": 2,
     "metadata": {},
     "output_type": "execute_result"
    }
   ],
   "source": [
    "import re\n",
    "re.findall(\"\\d+\\.\\d+\", \"Current Level: 13.4db.\")"
   ]
  },
  {
   "cell_type": "code",
   "execution_count": 3,
   "id": "baf2b42a",
   "metadata": {},
   "outputs": [
    {
     "data": {
      "text/plain": [
       "['-13.2', '14.2', '3']"
      ]
     },
     "execution_count": 3,
     "metadata": {},
     "output_type": "execute_result"
    }
   ],
   "source": [
    "re.findall(r\"[-+]?(?:\\d*\\.\\d+|\\d+)\", \"Current Level: -13.2db or 14.2 or 3\")"
   ]
  },
  {
   "cell_type": "code",
   "execution_count": 5,
   "id": "ed050611",
   "metadata": {},
   "outputs": [
    {
     "data": {
      "text/plain": [
       "['-13.2', '14.2', '3']"
      ]
     },
     "execution_count": 5,
     "metadata": {},
     "output_type": "execute_result"
    }
   ],
   "source": [
    "re.findall(r\"[-+]?(?:\\d*\\.*\\d+)\", \"Current Level: -13.2db or 14.2 or 3\")"
   ]
  },
  {
   "cell_type": "code",
   "execution_count": 20,
   "id": "5e8e1f12",
   "metadata": {},
   "outputs": [],
   "source": [
    "numeric_const_pattern = r\"\"\"\n",
    "...     [-+]? # optional sign\n",
    "...     (?:\n",
    "...         (?: \\d* \\. \\d+ ) # .1 .12 .123 etc 9.1 etc 98.1 etc\n",
    "...         |\n",
    "...         (?: \\d+ \\.? ) # 1. 12. 123. etc 1 12 123 etc\n",
    "...     )\n",
    "...     # followed by optional exponent part if desired\n",
    "...     (?: [Ee] [+-]? \\d+ ) ?\n",
    "...     \"\"\""
   ]
  },
  {
   "cell_type": "code",
   "execution_count": 24,
   "id": "f6d80ef5",
   "metadata": {},
   "outputs": [
    {
     "data": {
      "text/plain": [
       "['0.1', '1e10', '-1', '200e3']"
      ]
     },
     "execution_count": 24,
     "metadata": {},
     "output_type": "execute_result"
    }
   ],
   "source": [
    "re.findall(numeric_const_pattern, \"0.1 1e10 -1_200e3\", re.VERBOSE)"
   ]
  },
  {
   "cell_type": "code",
   "execution_count": 25,
   "id": "cc79ce69",
   "metadata": {},
   "outputs": [
    {
     "name": "stdout",
     "output_type": "stream",
     "text": [
      "current is something else\n",
      "level: is something else\n",
      "12.0 is a float\n",
      "db is something else\n"
     ]
    }
   ],
   "source": [
    "user_input = \"current level: 1_200e-2 db\"\n",
    "for token in user_input.split():\n",
    "    try:\n",
    "        # if this succeeds, you have your (first) float\n",
    "        print(float(token), \"is a float\")\n",
    "    except ValueError:\n",
    "        print(token, \"is something else\")"
   ]
  },
  {
   "cell_type": "markdown",
   "id": "74dabc2b",
   "metadata": {},
   "source": [
    "Another common example for EAFP: key lookup"
   ]
  },
  {
   "cell_type": "code",
   "execution_count": 27,
   "id": "5c1a322f",
   "metadata": {},
   "outputs": [],
   "source": [
    "data = {\"a\": 123}"
   ]
  },
  {
   "cell_type": "code",
   "execution_count": 28,
   "id": "8c682075",
   "metadata": {},
   "outputs": [
    {
     "name": "stdout",
     "output_type": "stream",
     "text": [
      "some default\n"
     ]
    }
   ],
   "source": [
    "try:\n",
    "    v = data[\"b\"]\n",
    "except KeyError as exc:\n",
    "    v = \"some default\"\n",
    "\n",
    "print(v)"
   ]
  },
  {
   "cell_type": "markdown",
   "id": "59f0d843",
   "metadata": {},
   "source": [
    "However, this is so common, that you cat use `dict.get` to provide defaults."
   ]
  },
  {
   "cell_type": "markdown",
   "id": "53fe4a23",
   "metadata": {},
   "source": [
    "### A case for a sentinel value\n",
    "\n",
    "Sometime we iterate over a collection to search for one item and want to take some action, if we did not find it."
   ]
  },
  {
   "cell_type": "code",
   "execution_count": 30,
   "id": "5258f367",
   "metadata": {},
   "outputs": [],
   "source": [
    "found = False\n",
    "for i in range(10):\n",
    "    if i % 3 == 0:\n",
    "        found = True\n",
    "    break\n",
    "\n",
    "if not found:\n",
    "    print(\"no number divisible by 3 found\")"
   ]
  },
  {
   "cell_type": "code",
   "execution_count": 33,
   "id": "3cbc7c89",
   "metadata": {},
   "outputs": [
    {
     "name": "stdout",
     "output_type": "stream",
     "text": [
      "no number divisible by 3 found\n"
     ]
    }
   ],
   "source": [
    "found = False\n",
    "for i in range(1, 10, 3):\n",
    "    if i % 3 == 0:\n",
    "        found = True\n",
    "    break\n",
    "\n",
    "if not found:\n",
    "    print(\"no number divisible by 3 found\")"
   ]
  },
  {
   "cell_type": "markdown",
   "id": "88e2ca13",
   "metadata": {},
   "source": [
    "That's not super-common, but also not too far away. The for loop has a rarely used `else` clause for that."
   ]
  },
  {
   "cell_type": "code",
   "execution_count": 32,
   "id": "60b5e88a",
   "metadata": {},
   "outputs": [],
   "source": [
    "for i in range(10):\n",
    "    if i % 3 == 0:\n",
    "        break\n",
    "else:\n",
    "    print(\"no number divisible by 3 found\")"
   ]
  },
  {
   "cell_type": "code",
   "execution_count": 7,
   "id": "abdf52d5",
   "metadata": {},
   "outputs": [
    {
     "name": "stdout",
     "output_type": "stream",
     "text": [
      "no number divisible by 3 found\n"
     ]
    }
   ],
   "source": [
    "for i in range(1, 10, 3):\n",
    "    if i % 3 == 0:\n",
    "        break\n",
    "else:\n",
    "    print(\"no number divisible by 3 found\")"
   ]
  },
  {
   "cell_type": "code",
   "execution_count": null,
   "id": "2c50a73c",
   "metadata": {},
   "outputs": [],
   "source": []
  }
 ],
 "metadata": {
  "kernelspec": {
   "display_name": "Python 3 (ipykernel)",
   "language": "python",
   "name": "python3"
  },
  "language_info": {
   "codemirror_mode": {
    "name": "ipython",
    "version": 3
   },
   "file_extension": ".py",
   "mimetype": "text/x-python",
   "name": "python",
   "nbconvert_exporter": "python",
   "pygments_lexer": "ipython3",
   "version": "3.11.0"
  }
 },
 "nbformat": 4,
 "nbformat_minor": 5
}
