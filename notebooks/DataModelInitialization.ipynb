{
 "cells": [
  {
   "cell_type": "markdown",
   "id": "c8e64ce9",
   "metadata": {},
   "source": [
    "## Initialization\n",
    "\n",
    "Allows us to control instance and class creation.\n",
    "\n",
    "* `__new__`\n",
    "* `__init__`\n",
    "* `__del__`\n"
   ]
  },
  {
   "cell_type": "markdown",
   "id": "fee55c0e",
   "metadata": {},
   "source": [
    "### Initialization"
   ]
  },
  {
   "cell_type": "code",
   "execution_count": 3,
   "id": "dd860f54",
   "metadata": {},
   "outputs": [],
   "source": [
    "class A:\n",
    "    pass"
   ]
  },
  {
   "cell_type": "code",
   "execution_count": 4,
   "id": "9bd2f849",
   "metadata": {},
   "outputs": [],
   "source": [
    "a = A()"
   ]
  },
  {
   "cell_type": "code",
   "execution_count": 5,
   "id": "8497f122",
   "metadata": {},
   "outputs": [],
   "source": [
    "a.x = 1"
   ]
  },
  {
   "cell_type": "code",
   "execution_count": 6,
   "id": "88353c7b",
   "metadata": {},
   "outputs": [
    {
     "data": {
      "text/plain": [
       "1"
      ]
     },
     "execution_count": 6,
     "metadata": {},
     "output_type": "execute_result"
    }
   ],
   "source": [
    "a.x"
   ]
  },
  {
   "cell_type": "markdown",
   "id": "4ad20937",
   "metadata": {},
   "source": [
    "We can assign values to attributes w/o a init, but that's rarely useful."
   ]
  },
  {
   "cell_type": "code",
   "execution_count": 7,
   "id": "0d795bb5",
   "metadata": {},
   "outputs": [],
   "source": [
    "class A:\n",
    "    def __init__(self):\n",
    "        self.x = 1"
   ]
  },
  {
   "cell_type": "code",
   "execution_count": 8,
   "id": "97e0d820",
   "metadata": {},
   "outputs": [],
   "source": [
    "a = A()"
   ]
  },
  {
   "cell_type": "code",
   "execution_count": 9,
   "id": "ac7cd876",
   "metadata": {},
   "outputs": [
    {
     "data": {
      "text/plain": [
       "1"
      ]
     },
     "execution_count": 9,
     "metadata": {},
     "output_type": "execute_result"
    }
   ],
   "source": [
    "a.x"
   ]
  },
  {
   "cell_type": "markdown",
   "id": "c3f036db",
   "metadata": {},
   "source": [
    "Init allows to setup an instance.\n",
    "\n",
    "* we can have instance only attributes\n",
    "* by default, if attributes are not found on the instance, they are searched for in the class and superclasses\n",
    "* instance attributes belong to an instance, class attributes are shared among all instances"
   ]
  },
  {
   "cell_type": "markdown",
   "id": "f6a4b4d9",
   "metadata": {},
   "source": [
    "Example: A class that knows how often it has been instantiated."
   ]
  },
  {
   "cell_type": "code",
   "execution_count": 20,
   "id": "3eff610c",
   "metadata": {},
   "outputs": [],
   "source": [
    "class Counted:\n",
    "    count = 0\n",
    "    \n",
    "    def __init__(self):\n",
    "        Counted.count += 1 # self would add count to instance, not class\n",
    "        self.x = 1"
   ]
  },
  {
   "cell_type": "code",
   "execution_count": 21,
   "id": "9f1ae321",
   "metadata": {},
   "outputs": [],
   "source": [
    "a = Counted()"
   ]
  },
  {
   "cell_type": "code",
   "execution_count": 22,
   "id": "9ae27b00",
   "metadata": {},
   "outputs": [],
   "source": [
    "b = Counted()"
   ]
  },
  {
   "cell_type": "code",
   "execution_count": 23,
   "id": "a2eb0435",
   "metadata": {},
   "outputs": [
    {
     "data": {
      "text/plain": [
       "2"
      ]
     },
     "execution_count": 23,
     "metadata": {},
     "output_type": "execute_result"
    }
   ],
   "source": [
    "b.count"
   ]
  },
  {
   "cell_type": "markdown",
   "id": "1aec939c",
   "metadata": {},
   "source": [
    "At init time, we already have an instance of the class, passed in as `self` (just as in all other methods)."
   ]
  },
  {
   "cell_type": "markdown",
   "id": "79867fc1",
   "metadata": {},
   "source": [
    "### Finalizer\n",
    "\n",
    "* less commonly used, `__del__`"
   ]
  },
  {
   "cell_type": "code",
   "execution_count": 27,
   "id": "e7012469",
   "metadata": {},
   "outputs": [],
   "source": [
    "class A:\n",
    "    def __del__(self):\n",
    "        print(\"calling __del__\")"
   ]
  },
  {
   "cell_type": "code",
   "execution_count": 29,
   "id": "9d11d8fd",
   "metadata": {},
   "outputs": [],
   "source": [
    "x = [A()]"
   ]
  },
  {
   "cell_type": "code",
   "execution_count": null,
   "id": "975613d0",
   "metadata": {},
   "outputs": [],
   "source": []
  },
  {
   "cell_type": "code",
   "execution_count": 30,
   "id": "e181f99b",
   "metadata": {},
   "outputs": [
    {
     "name": "stdout",
     "output_type": "stream",
     "text": [
      "calling __del__\n"
     ]
    }
   ],
   "source": [
    "x = None"
   ]
  },
  {
   "cell_type": "markdown",
   "id": "7ea5e896",
   "metadata": {},
   "source": [
    "### Class creation\n",
    "\n",
    "* with `__new__` we can hook into instance creation\n",
    "* `__new__` is called before `__init__`"
   ]
  },
  {
   "cell_type": "code",
   "execution_count": 43,
   "id": "021fe55b",
   "metadata": {},
   "outputs": [],
   "source": [
    "class A:\n",
    "    def __new__(cls):\n",
    "        print(\"__new__\")\n",
    "    def __init__(self):\n",
    "        print(\"__init__\")\n"
   ]
  },
  {
   "cell_type": "code",
   "execution_count": 44,
   "id": "41df2780",
   "metadata": {},
   "outputs": [
    {
     "name": "stdout",
     "output_type": "stream",
     "text": [
      "__new__\n"
     ]
    }
   ],
   "source": [
    "a = A() # no init!"
   ]
  },
  {
   "cell_type": "markdown",
   "id": "06c11baf",
   "metadata": {},
   "source": [
    "* `__new__` takes the class (of which we're preparing an instance) as first argument\n",
    "* needs to return something, otherwise nothing is returned"
   ]
  },
  {
   "cell_type": "code",
   "execution_count": 45,
   "id": "4cd2da59",
   "metadata": {},
   "outputs": [
    {
     "data": {
      "text/plain": [
       "True"
      ]
     },
     "execution_count": 45,
     "metadata": {},
     "output_type": "execute_result"
    }
   ],
   "source": [
    "a is None"
   ]
  },
  {
   "cell_type": "markdown",
   "id": "97d48023",
   "metadata": {},
   "source": [
    "> The return value of `__new__()` should be the new object instance (usually an instance of cls)."
   ]
  },
  {
   "cell_type": "code",
   "execution_count": 46,
   "id": "b52bdc69",
   "metadata": {},
   "outputs": [],
   "source": [
    "class A:\n",
    "    def __new__(cls):\n",
    "        return cls()\n",
    "    def __init__(self):\n",
    "        print(\"__init__\")"
   ]
  },
  {
   "cell_type": "code",
   "execution_count": 49,
   "id": "c3af59bc",
   "metadata": {},
   "outputs": [],
   "source": [
    "# a = A() # Does this work?\n"
   ]
  },
  {
   "cell_type": "markdown",
   "id": "3f8e3cf8",
   "metadata": {},
   "source": [
    "> RecursionError: maximum recursion depth exceeded while calling a Python object\n",
    "\n",
    "Instanciating the class will call `__new__` again.\n"
   ]
  },
  {
   "cell_type": "markdown",
   "id": "50a4aba8",
   "metadata": {},
   "source": [
    "> Typical implementations create a new instance of the class by invoking the superclass’s `__new__()` method using `super().__new__(cls[, ...])` with appropriate arguments and then modifying the newly created instance as necessary before returning it."
   ]
  },
  {
   "cell_type": "code",
   "execution_count": 50,
   "id": "7453b3e1",
   "metadata": {},
   "outputs": [],
   "source": [
    "class A:\n",
    "    def __new__(cls):\n",
    "        print(cls, type(cls), cls.__bases__)\n",
    "    def __init__(self):\n",
    "        print(\"__init__\")"
   ]
  },
  {
   "cell_type": "code",
   "execution_count": 51,
   "id": "79decf0d",
   "metadata": {},
   "outputs": [
    {
     "name": "stdout",
     "output_type": "stream",
     "text": [
      "<class '__main__.A'> <class 'type'> (<class 'object'>,)\n"
     ]
    }
   ],
   "source": [
    "a = A()"
   ]
  },
  {
   "cell_type": "markdown",
   "id": "828c53d0",
   "metadata": {},
   "source": [
    "In this simple case, we could write."
   ]
  },
  {
   "cell_type": "code",
   "execution_count": 55,
   "id": "eebf6f5e",
   "metadata": {},
   "outputs": [],
   "source": [
    "class A:\n",
    "    def __new__(cls):\n",
    "        print(\"__new__\")\n",
    "        return object.__new__(cls)\n",
    "    def __init__(self):\n",
    "        print(\"__init__\")"
   ]
  },
  {
   "cell_type": "code",
   "execution_count": 56,
   "id": "21802437",
   "metadata": {},
   "outputs": [
    {
     "name": "stdout",
     "output_type": "stream",
     "text": [
      "__new__\n",
      "__init__\n"
     ]
    }
   ],
   "source": [
    "a = A()"
   ]
  },
  {
   "cell_type": "code",
   "execution_count": 57,
   "id": "cdb2f64f",
   "metadata": {},
   "outputs": [
    {
     "data": {
      "text/plain": [
       "__main__.A"
      ]
     },
     "execution_count": 57,
     "metadata": {},
     "output_type": "execute_result"
    }
   ],
   "source": [
    "type(a)"
   ]
  },
  {
   "cell_type": "markdown",
   "id": "b839d378",
   "metadata": {},
   "source": [
    "Typically, we use `super` to cater for inheritance."
   ]
  },
  {
   "cell_type": "code",
   "execution_count": 66,
   "id": "44b4306c",
   "metadata": {},
   "outputs": [],
   "source": [
    "class A:\n",
    "    def __new__(cls):\n",
    "        print(\"__new__\")\n",
    "        return super().__new__(cls)\n",
    "    def __init__(self):\n",
    "        print(\"__init__\")"
   ]
  },
  {
   "cell_type": "code",
   "execution_count": 67,
   "id": "9e7a9903",
   "metadata": {},
   "outputs": [
    {
     "name": "stdout",
     "output_type": "stream",
     "text": [
      "__new__\n",
      "<super: <class 'A'>, <A object>> <class 'super'>\n",
      "__init__\n"
     ]
    }
   ],
   "source": [
    "a = A()"
   ]
  },
  {
   "cell_type": "markdown",
   "id": "1988ad2a",
   "metadata": {},
   "source": [
    "Sidenote: what does super do here?\n",
    "    \n",
    "* [super](https://docs.python.org/3/library/functions.html#super) is a built-in\n",
    "\n",
    "> Return a proxy object that delegates method calls to a parent or sibling class of type.\n",
    "\n",
    "We use it to not hard-code super classes.\n",
    "\n",
    "> There are two typical use cases for super. In a class hierarchy with single inheritance, super can be used to refer to parent classes without naming them explicitly, thus making the code more maintainable.\n",
    "\n",
    "Also used for multiple inhertance.\n",
    "\n",
    "> The second use case is to support cooperative multiple inheritance in a dynamic execution environment. This use case is unique to Python and is not found in statically compiled languages or languages that only support single inheritance. This makes it possible to implement “diamond diagrams” where multiple base classes implement the same method.\n",
    "\n",
    "Usage:\n",
    "\n",
    "```python\n",
    "class C(B):\n",
    "    def method(self, arg):\n",
    "        super().method(arg)    # This does the same thing as:\n",
    "                               # super(C, self).method(arg)\n",
    "```"
   ]
  },
  {
   "cell_type": "markdown",
   "id": "fa22c3f9",
   "metadata": {},
   "source": [
    "When used outside of a class, we need to be explicit.\n",
    "\n",
    ">  The zero argument form only works inside a class definition, as the compiler fills in the necessary details to correctly retrieve the class being defined, as well as accessing the current instance for ordinary methods."
   ]
  },
  {
   "cell_type": "code",
   "execution_count": 82,
   "id": "2523de61",
   "metadata": {},
   "outputs": [
    {
     "name": "stdout",
     "output_type": "stream",
     "text": [
      "dict() -> new empty dictionary\n",
      "dict(mapping) -> new dictionary initialized from a mapping object's\n",
      "    (key, value) pairs\n",
      "dict(iterable) -> new dictionary initialized as if via:\n",
      "    d = {}\n",
      "    for k, v in iterable:\n",
      "        d[k] = v\n",
      "dict(**kwargs) -> new dictionary initialized with the name=value pairs\n",
      "    in the keyword argument list.  For example:  dict(one=1, two=2)\n"
     ]
    }
   ],
   "source": [
    "class Map(dict):\n",
    "    a = 1\n",
    "\n",
    "m = Map()\n",
    "s = super(Map, m)\n",
    "print(s.__doc__)"
   ]
  },
  {
   "cell_type": "code",
   "execution_count": 83,
   "id": "07e1c2d1",
   "metadata": {},
   "outputs": [
    {
     "name": "stdout",
     "output_type": "stream",
     "text": [
      " B \n"
     ]
    }
   ],
   "source": [
    "class A(dict):\n",
    "    \"\"\" A \"\"\"\n",
    "\n",
    "class B(A):\n",
    "    \"\"\" B \"\"\"\n",
    "\n",
    "class Map(B):\n",
    "    \"\"\" Map \"\"\"\n",
    "    \n",
    "m = Map()\n",
    "s = super(Map, m)\n",
    "print(s.__doc__)"
   ]
  },
  {
   "cell_type": "markdown",
   "id": "70a05445",
   "metadata": {},
   "source": [
    "Here, we could also use the one argument variant."
   ]
  },
  {
   "cell_type": "code",
   "execution_count": 89,
   "id": "0dae21fa",
   "metadata": {},
   "outputs": [
    {
     "name": "stdout",
     "output_type": "stream",
     "text": [
      "<super: <class 'Map'>, NULL>\n"
     ]
    }
   ],
   "source": [
    "class A(dict):\n",
    "    \"\"\" A \"\"\"\n",
    "\n",
    "class B(A):\n",
    "    \"\"\" B \"\"\"\n",
    "\n",
    "class Map(B):\n",
    "    \"\"\" Map \"\"\"\n",
    "    \n",
    "m = Map()\n",
    "s = super(Map) # RuntimeError: super(): no arguments - if not args supplied\n",
    "print(s) # unbound"
   ]
  },
  {
   "cell_type": "code",
   "execution_count": 91,
   "id": "4a9a9ee0",
   "metadata": {},
   "outputs": [
    {
     "name": "stdout",
     "output_type": "stream",
     "text": [
      " B \n"
     ]
    }
   ],
   "source": [
    "print(s.__get__(m).__doc__)"
   ]
  },
  {
   "cell_type": "markdown",
   "id": "8ca44df6",
   "metadata": {},
   "source": [
    "Back to `__new__`"
   ]
  },
  {
   "cell_type": "code",
   "execution_count": 96,
   "id": "7cb1469a",
   "metadata": {},
   "outputs": [],
   "source": [
    "class A:\n",
    "    def __new__(cls):\n",
    "        print(\"__new__\")\n",
    "        inst = super().__new__(cls)\n",
    "        print(inst, type(inst))\n",
    "        return inst\n",
    "    def __init__(self):\n",
    "        print(\"__init__\")"
   ]
  },
  {
   "cell_type": "code",
   "execution_count": 97,
   "id": "5b087f3b",
   "metadata": {},
   "outputs": [
    {
     "name": "stdout",
     "output_type": "stream",
     "text": [
      "__new__\n",
      "<__main__.A object at 0x7f820ed6d210> <class '__main__.A'>\n",
      "__init__\n"
     ]
    }
   ],
   "source": [
    "a = A()"
   ]
  },
  {
   "cell_type": "markdown",
   "id": "da03d051",
   "metadata": {},
   "source": [
    "We can also build object with the builtin type function.\n",
    "\n",
    "> With three arguments, return a new type object. This is essentially a dynamic form of the class statement. "
   ]
  },
  {
   "cell_type": "code",
   "execution_count": 98,
   "id": "59f85c72",
   "metadata": {},
   "outputs": [],
   "source": [
    "type?"
   ]
  },
  {
   "cell_type": "code",
   "execution_count": 99,
   "id": "9134031c",
   "metadata": {},
   "outputs": [],
   "source": [
    "A = type(\"A\", (object,), {})"
   ]
  },
  {
   "cell_type": "code",
   "execution_count": 100,
   "id": "3ad374b5",
   "metadata": {},
   "outputs": [
    {
     "data": {
      "text/plain": [
       "__main__.A"
      ]
     },
     "execution_count": 100,
     "metadata": {},
     "output_type": "execute_result"
    }
   ],
   "source": [
    "A"
   ]
  },
  {
   "cell_type": "code",
   "execution_count": 101,
   "id": "af6f10b6",
   "metadata": {},
   "outputs": [],
   "source": [
    "a = A()"
   ]
  },
  {
   "cell_type": "markdown",
   "id": "17e2e22e",
   "metadata": {},
   "source": [
    "We could get populate the dictionary, too."
   ]
  },
  {
   "cell_type": "code",
   "execution_count": 102,
   "id": "7143705f",
   "metadata": {},
   "outputs": [],
   "source": [
    "A = type(\"A\", (object,), {\"x\": 1})"
   ]
  },
  {
   "cell_type": "code",
   "execution_count": 103,
   "id": "f9333fad",
   "metadata": {},
   "outputs": [],
   "source": [
    "a = A()"
   ]
  },
  {
   "cell_type": "code",
   "execution_count": 104,
   "id": "1542f68d",
   "metadata": {},
   "outputs": [
    {
     "data": {
      "text/plain": [
       "1"
      ]
     },
     "execution_count": 104,
     "metadata": {},
     "output_type": "execute_result"
    }
   ],
   "source": [
    "a.x"
   ]
  },
  {
   "cell_type": "markdown",
   "id": "eb5317ae",
   "metadata": {},
   "source": [
    "In essence:\n",
    "    \n",
    "* with `__new__` we run custom code for all instances"
   ]
  },
  {
   "cell_type": "markdown",
   "id": "03e8dcaa",
   "metadata": {},
   "source": [
    "Also, `__new__` is a static method on object."
   ]
  },
  {
   "cell_type": "code",
   "execution_count": 109,
   "id": "ad3e8f66",
   "metadata": {},
   "outputs": [],
   "source": [
    "# object.__new__(dict, None, None) # TypeError\n",
    "# TypeError: object.__new__(dict) is not safe, use dict.__new__()"
   ]
  },
  {
   "cell_type": "code",
   "execution_count": 110,
   "id": "d3fdae93",
   "metadata": {
    "scrolled": true
   },
   "outputs": [
    {
     "ename": "TypeError",
     "evalue": "object.__new__(str) is not safe, use str.__new__()",
     "output_type": "error",
     "traceback": [
      "\u001b[0;31m---------------------------------------------------------------------------\u001b[0m",
      "\u001b[0;31mTypeError\u001b[0m                                 Traceback (most recent call last)",
      "Cell \u001b[0;32mIn[110], line 1\u001b[0m\n\u001b[0;32m----> 1\u001b[0m \u001b[38;5;28;43mobject\u001b[39;49m\u001b[38;5;241;43m.\u001b[39;49m\u001b[38;5;21;43m__new__\u001b[39;49m\u001b[43m(\u001b[49m\u001b[38;5;28;43mstr\u001b[39;49m\u001b[43m,\u001b[49m\u001b[43m \u001b[49m\u001b[38;5;28;43;01mNone\u001b[39;49;00m\u001b[43m,\u001b[49m\u001b[43m \u001b[49m\u001b[38;5;28;43;01mNone\u001b[39;49;00m\u001b[43m)\u001b[49m\n",
      "\u001b[0;31mTypeError\u001b[0m: object.__new__(str) is not safe, use str.__new__()"
     ]
    }
   ],
   "source": [
    "object.__new__(str, None, None)"
   ]
  },
  {
   "cell_type": "markdown",
   "id": "13b5b2f1",
   "metadata": {},
   "source": [
    "### Another example"
   ]
  },
  {
   "cell_type": "code",
   "execution_count": 129,
   "id": "6f470f87",
   "metadata": {},
   "outputs": [],
   "source": [
    "class A:\n",
    "    def __new__(cls, *args, **kwargs):\n",
    "        return super().__new__(A) \n",
    "    def __init__(self, name, location=\"world\"):\n",
    "        self.name = name\n",
    "        self.location = location"
   ]
  },
  {
   "cell_type": "code",
   "execution_count": 127,
   "id": "733a7fdd",
   "metadata": {},
   "outputs": [
    {
     "name": "stdout",
     "output_type": "stream",
     "text": [
      "('abc',) {}\n"
     ]
    }
   ],
   "source": [
    "a = A(\"abc\")"
   ]
  },
  {
   "cell_type": "code",
   "execution_count": 128,
   "id": "0d7d05ac",
   "metadata": {},
   "outputs": [
    {
     "data": {
      "text/plain": [
       "'abc'"
      ]
     },
     "execution_count": 128,
     "metadata": {},
     "output_type": "execute_result"
    }
   ],
   "source": [
    "a.name"
   ]
  },
  {
   "cell_type": "code",
   "execution_count": 130,
   "id": "282236f6",
   "metadata": {},
   "outputs": [],
   "source": [
    "import datetime"
   ]
  },
  {
   "cell_type": "code",
   "execution_count": 169,
   "id": "0a3139c3",
   "metadata": {},
   "outputs": [],
   "source": [
    "class A:\n",
    "    \"\"\" A \"\"\"\n",
    "    def __new__(cls, *args, **kwargs):\n",
    "        inst = super().__new__(A)\n",
    "        inst.__doc__ = inst.__doc__ + f\" -- instatiated at {datetime.datetime.now()}\"\n",
    "        return inst\n",
    "    def __init__(self, name, location=\"world\"):\n",
    "        self.name = name\n",
    "        self.location = location"
   ]
  },
  {
   "cell_type": "code",
   "execution_count": 170,
   "id": "eeb0b757",
   "metadata": {},
   "outputs": [],
   "source": [
    "a = A(\"abc\")"
   ]
  },
  {
   "cell_type": "code",
   "execution_count": 171,
   "id": "e963193d",
   "metadata": {},
   "outputs": [
    {
     "name": "stdout",
     "output_type": "stream",
     "text": [
      "Help on A in module __main__:\n",
      "\n",
      "<__main__.A object>\n",
      "    A  -- instatiated at 2022-12-07 21:30:22.434754\n",
      "\n"
     ]
    }
   ],
   "source": [
    "help(a)"
   ]
  },
  {
   "cell_type": "markdown",
   "id": "c4543e07",
   "metadata": {},
   "source": [
    "### Use cases for `__new__`\n",
    "\n",
    "* typically create new instance and prepare it\n",
    "* keeping track of instances (e.g. limits)"
   ]
  },
  {
   "cell_type": "code",
   "execution_count": 172,
   "id": "f7dea5a8",
   "metadata": {},
   "outputs": [],
   "source": [
    "class Limited:\n",
    "    _active = 0\n",
    "    \n",
    "    def __new__(cls, *args, **kwargs):\n",
    "        inst = super().__new__(cls)\n",
    "        def __del__(self):\n",
    "            cls._active -= 1\n",
    "        cls.__del__ = __del__\n",
    "        cls._active += 1\n",
    "        if cls._active > 2:\n",
    "            raise ValueError(\"only two instances allowed\")\n",
    "        return inst\n",
    "    \n",
    "    def __init__(self):\n",
    "        pass"
   ]
  },
  {
   "cell_type": "code",
   "execution_count": 173,
   "id": "065e3ea5",
   "metadata": {},
   "outputs": [],
   "source": [
    "# a = Limited()\n",
    "# b = Limited()\n",
    "# c = Limited() # ValueError: only two instances allowed"
   ]
  },
  {
   "cell_type": "code",
   "execution_count": 162,
   "id": "ba5d89e0",
   "metadata": {},
   "outputs": [],
   "source": [
    "a = Limited()\n",
    "b = Limited()\n",
    "b = None\n",
    "c = Limited()"
   ]
  },
  {
   "cell_type": "code",
   "execution_count": null,
   "id": "4f22fe63",
   "metadata": {},
   "outputs": [],
   "source": []
  }
 ],
 "metadata": {
  "kernelspec": {
   "display_name": "Python 3 (ipykernel)",
   "language": "python",
   "name": "python3"
  },
  "language_info": {
   "codemirror_mode": {
    "name": "ipython",
    "version": 3
   },
   "file_extension": ".py",
   "mimetype": "text/x-python",
   "name": "python",
   "nbconvert_exporter": "python",
   "pygments_lexer": "ipython3",
   "version": "3.11.0"
  }
 },
 "nbformat": 4,
 "nbformat_minor": 5
}
