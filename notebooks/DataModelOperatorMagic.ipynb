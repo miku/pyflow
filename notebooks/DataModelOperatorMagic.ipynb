{
 "cells": [
  {
   "cell_type": "markdown",
   "id": "6f853e6a",
   "metadata": {},
   "source": [
    "## Operator Magic\n",
    "\n",
    "* `__add__`\n",
    "* `__sub__`\n",
    "* `__mul__`\n",
    "* `__floordiv__`\n",
    "* `__truediv__`\n",
    "* `__mod__`\n",
    "* `__pow__`"
   ]
  },
  {
   "cell_type": "markdown",
   "id": "009009f1",
   "metadata": {},
   "source": [
    "> These methods are called to implement the binary arithmetic operations (+, -, *, @, /, //, %, divmod(), pow(), **, <<, >>, &, ^, |). For instance, to evaluate the expression x + y, where x is an instance of a class that has an __add__() method, type(x).__add__(x, y) is called."
   ]
  },
  {
   "cell_type": "markdown",
   "id": "3e4b09db",
   "metadata": {},
   "source": [
    "Can be covenient to override some of these. Pathlib uses this to override `/` as a separator."
   ]
  },
  {
   "cell_type": "code",
   "execution_count": 3,
   "id": "84be404b",
   "metadata": {},
   "outputs": [],
   "source": [
    "class A:\n",
    "    def __add__(self, other):\n",
    "        return \"__add__\""
   ]
  },
  {
   "cell_type": "code",
   "execution_count": 4,
   "id": "e4f3b77d",
   "metadata": {},
   "outputs": [],
   "source": [
    "a = A()"
   ]
  },
  {
   "cell_type": "code",
   "execution_count": 5,
   "id": "500642da",
   "metadata": {},
   "outputs": [
    {
     "data": {
      "text/plain": [
       "'__add__'"
      ]
     },
     "execution_count": 5,
     "metadata": {},
     "output_type": "execute_result"
    }
   ],
   "source": [
    "a + a"
   ]
  },
  {
   "cell_type": "code",
   "execution_count": 10,
   "id": "6a81de6f",
   "metadata": {},
   "outputs": [],
   "source": [
    "class A:\n",
    "    def __floordiv__(self, v):\n",
    "        print('__floordiv__')\n",
    "    def __truediv__(self, v):\n",
    "        print('__truediv__')"
   ]
  },
  {
   "cell_type": "code",
   "execution_count": 11,
   "id": "695eb382",
   "metadata": {},
   "outputs": [],
   "source": [
    "a = A()"
   ]
  },
  {
   "cell_type": "code",
   "execution_count": 12,
   "id": "7480dcec",
   "metadata": {},
   "outputs": [
    {
     "name": "stdout",
     "output_type": "stream",
     "text": [
      "__truediv__\n"
     ]
    }
   ],
   "source": [
    "a / 1"
   ]
  },
  {
   "cell_type": "code",
   "execution_count": 13,
   "id": "f3719a74",
   "metadata": {},
   "outputs": [
    {
     "name": "stdout",
     "output_type": "stream",
     "text": [
      "__floordiv__\n"
     ]
    }
   ],
   "source": [
    "a // 1"
   ]
  },
  {
   "cell_type": "markdown",
   "id": "eaa33fe8",
   "metadata": {},
   "source": [
    "Path like structure."
   ]
  },
  {
   "cell_type": "code",
   "execution_count": 23,
   "id": "a4fa3500",
   "metadata": {},
   "outputs": [],
   "source": [
    "class Path:\n",
    "    \n",
    "    def __truediv__(self, other):\n",
    "        self.segments.append(other)\n",
    "        return self\n",
    "    \n",
    "    def __init__(self):\n",
    "        self.segments = []\n",
    "    \n",
    "    def __repr__(self):\n",
    "        return \"/\" + \"/\".join(self.segments)"
   ]
  },
  {
   "cell_type": "code",
   "execution_count": 24,
   "id": "259680e4",
   "metadata": {},
   "outputs": [],
   "source": [
    "p = Path()"
   ]
  },
  {
   "cell_type": "code",
   "execution_count": 25,
   "id": "edeb0218",
   "metadata": {},
   "outputs": [
    {
     "data": {
      "text/plain": [
       "/etc/passwd"
      ]
     },
     "execution_count": 25,
     "metadata": {},
     "output_type": "execute_result"
    }
   ],
   "source": [
    "p / \"etc\" / \"passwd\""
   ]
  },
  {
   "cell_type": "code",
   "execution_count": 26,
   "id": "250fbef4",
   "metadata": {},
   "outputs": [
    {
     "data": {
      "text/plain": [
       "/etc/passwd"
      ]
     },
     "execution_count": 26,
     "metadata": {},
     "output_type": "execute_result"
    }
   ],
   "source": [
    "p"
   ]
  },
  {
   "cell_type": "code",
   "execution_count": 27,
   "id": "eb511fa1",
   "metadata": {},
   "outputs": [
    {
     "name": "stdout",
     "output_type": "stream",
     "text": [
      "/etc/passwd\n"
     ]
    }
   ],
   "source": [
    "print(p)"
   ]
  },
  {
   "cell_type": "code",
   "execution_count": null,
   "id": "560596fb",
   "metadata": {},
   "outputs": [],
   "source": []
  }
 ],
 "metadata": {
  "kernelspec": {
   "display_name": "Python 3 (ipykernel)",
   "language": "python",
   "name": "python3"
  },
  "language_info": {
   "codemirror_mode": {
    "name": "ipython",
    "version": 3
   },
   "file_extension": ".py",
   "mimetype": "text/x-python",
   "name": "python",
   "nbconvert_exporter": "python",
   "pygments_lexer": "ipython3",
   "version": "3.11.0"
  }
 },
 "nbformat": 4,
 "nbformat_minor": 5
}
