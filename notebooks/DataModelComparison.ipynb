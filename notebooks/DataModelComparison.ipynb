{
 "cells": [
  {
   "cell_type": "markdown",
   "id": "590e98f0",
   "metadata": {},
   "source": [
    "\n",
    "## Comparison\n",
    "\n",
    "* `__eq__`\n",
    "* `__ne__`\n",
    "* `__lt__`\n",
    "* `__gt__`\n",
    "* `__le__`\n",
    "* `__ge__`\n"
   ]
  },
  {
   "cell_type": "markdown",
   "id": "07a1a39c",
   "metadata": {},
   "source": [
    "Previously, in Python 2, we had `__cmp__`, but Python 3 uses rich comparison operators."
   ]
  },
  {
   "cell_type": "markdown",
   "id": "f22b8ad9",
   "metadata": {},
   "source": [
    "> Each takes the same two arguments (self, other) as cmp, and must return either a result value (typically Boolean), raise an exception, or return NotImplemented to signal the operation is not defined."
   ]
  },
  {
   "cell_type": "markdown",
   "id": "c7c3fbc1",
   "metadata": {},
   "source": [
    "These are invoked on comparison operator use.\n",
    "\n",
    "> These are the so-called “rich comparison” methods. The correspondence between operator symbols and method names is as follows: x<y calls x.__lt__(y), x<=y calls x.__le__(y), x==y calls x.__eq__(y), x!=y calls x.__ne__(y), x>y calls x.__gt__(y), and x>=y calls x.__ge__(y)."
   ]
  },
  {
   "cell_type": "markdown",
   "id": "11b57db1",
   "metadata": {},
   "source": [
    "Expectations:\n",
    "    \n",
    "> A rich comparison method may return the singleton NotImplemented if it does not implement the operation for a given pair of arguments. By convention, False and True are returned for a successful comparison."
   ]
  },
  {
   "cell_type": "markdown",
   "id": "60d05714",
   "metadata": {},
   "source": [
    "Helpers exist, to fill in implementations.\n",
    "\n",
    "> For `__ne__()`, by default it delegates to `__eq__()` and inverts the result unless it is NotImplemented. There are no other implied relationships among the comparison operators or default implementations; for example, the truth of `(x<y or x==y)` does not imply `x<=y`. "
   ]
  },
  {
   "cell_type": "code",
   "execution_count": 4,
   "id": "9c92c40f",
   "metadata": {},
   "outputs": [],
   "source": [
    "class A:\n",
    "    def __eq__(self, other):\n",
    "        print(\"a.__eq__\")\n",
    "        return False"
   ]
  },
  {
   "cell_type": "code",
   "execution_count": 5,
   "id": "61f64437",
   "metadata": {},
   "outputs": [
    {
     "name": "stdout",
     "output_type": "stream",
     "text": [
      "a.__eq__\n"
     ]
    },
    {
     "data": {
      "text/plain": [
       "False"
      ]
     },
     "execution_count": 5,
     "metadata": {},
     "output_type": "execute_result"
    }
   ],
   "source": [
    "a = A()\n",
    "a == \"a\""
   ]
  },
  {
   "cell_type": "code",
   "execution_count": 6,
   "id": "d8536d0c",
   "metadata": {},
   "outputs": [
    {
     "name": "stdout",
     "output_type": "stream",
     "text": [
      "a.__eq__\n"
     ]
    },
    {
     "data": {
      "text/plain": [
       "False"
      ]
     },
     "execution_count": 6,
     "metadata": {},
     "output_type": "execute_result"
    }
   ],
   "source": [
    "\"a\" == a"
   ]
  },
  {
   "cell_type": "code",
   "execution_count": 7,
   "id": "08f67a50",
   "metadata": {},
   "outputs": [
    {
     "name": "stdout",
     "output_type": "stream",
     "text": [
      "a.__eq__\n"
     ]
    },
    {
     "data": {
      "text/plain": [
       "True"
      ]
     },
     "execution_count": 7,
     "metadata": {},
     "output_type": "execute_result"
    }
   ],
   "source": [
    "a != \"a\""
   ]
  },
  {
   "cell_type": "code",
   "execution_count": 9,
   "id": "9a14a70a",
   "metadata": {},
   "outputs": [],
   "source": [
    "# a > \"a\" # TypeError: '>' not supported between instances of 'A' and 'str'"
   ]
  },
  {
   "cell_type": "markdown",
   "id": "0577cce4",
   "metadata": {},
   "source": [
    "`__eq__` and `__ne__` - vice versa? No."
   ]
  },
  {
   "cell_type": "code",
   "execution_count": 10,
   "id": "8140ad7a",
   "metadata": {},
   "outputs": [],
   "source": [
    "class A:\n",
    "    def __ne__(self, other):\n",
    "        print(\"a.__ne__\")\n",
    "        return False"
   ]
  },
  {
   "cell_type": "code",
   "execution_count": 11,
   "id": "459befab",
   "metadata": {},
   "outputs": [],
   "source": [
    "a = A()"
   ]
  },
  {
   "cell_type": "code",
   "execution_count": 12,
   "id": "203d9037",
   "metadata": {},
   "outputs": [
    {
     "data": {
      "text/plain": [
       "False"
      ]
     },
     "execution_count": 12,
     "metadata": {},
     "output_type": "execute_result"
    }
   ],
   "source": [
    "a == \"a\""
   ]
  },
  {
   "cell_type": "code",
   "execution_count": 13,
   "id": "e08695f5",
   "metadata": {},
   "outputs": [
    {
     "name": "stdout",
     "output_type": "stream",
     "text": [
      "a.__ne__\n"
     ]
    },
    {
     "data": {
      "text/plain": [
       "False"
      ]
     },
     "execution_count": 13,
     "metadata": {},
     "output_type": "execute_result"
    }
   ],
   "source": [
    "a != \"a\""
   ]
  },
  {
   "cell_type": "markdown",
   "id": "fee7058d",
   "metadata": {},
   "source": [
    "Task: Write string subclass with ordering regarding length of the value."
   ]
  },
  {
   "cell_type": "code",
   "execution_count": 16,
   "id": "2fdadb3b",
   "metadata": {},
   "outputs": [],
   "source": [
    "from functools import total_ordering"
   ]
  },
  {
   "cell_type": "code",
   "execution_count": 20,
   "id": "e247adfa",
   "metadata": {},
   "outputs": [],
   "source": [
    "@total_ordering\n",
    "class Word(str):\n",
    "    def __eq__(self, other):\n",
    "        return str(self) == str(other)\n",
    "    def __lt__(self, other):\n",
    "        return len(self) < len(other)\n",
    "    "
   ]
  },
  {
   "cell_type": "code",
   "execution_count": 21,
   "id": "ac81a773",
   "metadata": {},
   "outputs": [
    {
     "data": {
      "text/plain": [
       "False"
      ]
     },
     "execution_count": 21,
     "metadata": {},
     "output_type": "execute_result"
    }
   ],
   "source": [
    "Word(\"abc\") == Word(\"def\")"
   ]
  },
  {
   "cell_type": "code",
   "execution_count": 23,
   "id": "2fcc2404",
   "metadata": {},
   "outputs": [
    {
     "data": {
      "text/plain": [
       "True"
      ]
     },
     "execution_count": 23,
     "metadata": {},
     "output_type": "execute_result"
    }
   ],
   "source": [
    "Word(\"bb\") < Word(\"aaa\")"
   ]
  },
  {
   "cell_type": "code",
   "execution_count": 24,
   "id": "230ff8a2",
   "metadata": {},
   "outputs": [
    {
     "data": {
      "text/plain": [
       "True"
      ]
     },
     "execution_count": 24,
     "metadata": {},
     "output_type": "execute_result"
    }
   ],
   "source": [
    "Word(\"bb\") > Word(\"aaa\")"
   ]
  },
  {
   "cell_type": "code",
   "execution_count": 31,
   "id": "3747186d",
   "metadata": {},
   "outputs": [
    {
     "data": {
      "text/plain": [
       "['__add__',\n",
       " '__class__',\n",
       " '__contains__',\n",
       " '__delattr__',\n",
       " '__dict__',\n",
       " '__dir__',\n",
       " '__doc__',\n",
       " '__eq__',\n",
       " '__format__',\n",
       " '__ge__',\n",
       " '__getattribute__',\n",
       " '__getitem__',\n",
       " '__getnewargs__',\n",
       " '__getstate__',\n",
       " '__gt__',\n",
       " '__hash__',\n",
       " '__init__',\n",
       " '__init_subclass__',\n",
       " '__iter__',\n",
       " '__le__',\n",
       " '__len__',\n",
       " '__lt__',\n",
       " '__mod__',\n",
       " '__module__',\n",
       " '__mul__',\n",
       " '__ne__',\n",
       " '__new__',\n",
       " '__reduce__',\n",
       " '__reduce_ex__',\n",
       " '__repr__',\n",
       " '__rmod__',\n",
       " '__rmul__',\n",
       " '__setattr__',\n",
       " '__sizeof__',\n",
       " '__str__',\n",
       " '__subclasshook__',\n",
       " '__weakref__',\n",
       " 'capitalize',\n",
       " 'casefold',\n",
       " 'center',\n",
       " 'count',\n",
       " 'encode',\n",
       " 'endswith',\n",
       " 'expandtabs',\n",
       " 'find',\n",
       " 'format',\n",
       " 'format_map',\n",
       " 'index',\n",
       " 'isalnum',\n",
       " 'isalpha',\n",
       " 'isascii',\n",
       " 'isdecimal',\n",
       " 'isdigit',\n",
       " 'isidentifier',\n",
       " 'islower',\n",
       " 'isnumeric',\n",
       " 'isprintable',\n",
       " 'isspace',\n",
       " 'istitle',\n",
       " 'isupper',\n",
       " 'join',\n",
       " 'ljust',\n",
       " 'lower',\n",
       " 'lstrip',\n",
       " 'maketrans',\n",
       " 'partition',\n",
       " 'removeprefix',\n",
       " 'removesuffix',\n",
       " 'replace',\n",
       " 'rfind',\n",
       " 'rindex',\n",
       " 'rjust',\n",
       " 'rpartition',\n",
       " 'rsplit',\n",
       " 'rstrip',\n",
       " 'split',\n",
       " 'splitlines',\n",
       " 'startswith',\n",
       " 'strip',\n",
       " 'swapcase',\n",
       " 'title',\n",
       " 'translate',\n",
       " 'upper',\n",
       " 'zfill']"
      ]
     },
     "execution_count": 31,
     "metadata": {},
     "output_type": "execute_result"
    }
   ],
   "source": [
    "dir(Word)"
   ]
  },
  {
   "cell_type": "markdown",
   "id": "1267ee72",
   "metadata": {},
   "source": [
    "Note: If we do not supply total ordering, some comparison will be from str, some from Word."
   ]
  },
  {
   "cell_type": "code",
   "execution_count": 34,
   "id": "002327ba",
   "metadata": {},
   "outputs": [],
   "source": [
    "class Word(str):\n",
    "    def __eq__(self, other):\n",
    "        return str(self) == str(other)\n",
    "    def __lt__(self, other):\n",
    "        return len(self) < len(other)"
   ]
  },
  {
   "cell_type": "code",
   "execution_count": 35,
   "id": "5fb295e8",
   "metadata": {},
   "outputs": [
    {
     "data": {
      "text/plain": [
       "True"
      ]
     },
     "execution_count": 35,
     "metadata": {},
     "output_type": "execute_result"
    }
   ],
   "source": [
    "Word(\"b\") < Word(\"aaa\") # lt - Word"
   ]
  },
  {
   "cell_type": "code",
   "execution_count": 36,
   "id": "e7a9faa9",
   "metadata": {},
   "outputs": [
    {
     "data": {
      "text/plain": [
       "True"
      ]
     },
     "execution_count": 36,
     "metadata": {},
     "output_type": "execute_result"
    }
   ],
   "source": [
    "Word(\"b\") > Word(\"aaa\") # gt - str"
   ]
  },
  {
   "cell_type": "markdown",
   "id": "4a8767ad",
   "metadata": {},
   "source": [
    "Precedence of implementation.\n",
    "\n",
    ">  If the operands are of different types, and right operand’s type is a direct or indirect subclass of the left operand’s type, the reflected method of the right operand has priority, otherwise the left operand’s method has priority."
   ]
  },
  {
   "cell_type": "code",
   "execution_count": null,
   "id": "d392044f",
   "metadata": {},
   "outputs": [],
   "source": []
  }
 ],
 "metadata": {
  "kernelspec": {
   "display_name": "Python 3 (ipykernel)",
   "language": "python",
   "name": "python3"
  },
  "language_info": {
   "codemirror_mode": {
    "name": "ipython",
    "version": 3
   },
   "file_extension": ".py",
   "mimetype": "text/x-python",
   "name": "python",
   "nbconvert_exporter": "python",
   "pygments_lexer": "ipython3",
   "version": "3.11.0"
  }
 },
 "nbformat": 4,
 "nbformat_minor": 5
}
