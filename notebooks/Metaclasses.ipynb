{
 "cells": [
  {
   "cell_type": "markdown",
   "id": "004eb610",
   "metadata": {},
   "source": [
    "## Metaclasses\n",
    "\n",
    "Metaclass, the class of a class ([docs](https://docs.python.org/3/reference/datamodel.html#metaclasses))\n",
    "\n",
    "Basic class creation:\n",
    "\n",
    "> By default, classes are constructed using type(). The class body is executed in a new namespace and the class name is bound locally to the result of type(name, bases, namespace).\n",
    "\n",
    "When a class definition is executed, the following steps occur:\n",
    "\n",
    "* MRO entries are resolved;\n",
    "* the appropriate metaclass is determined;\n",
    "* the class namespace is prepared;\n",
    "* the class body is executed;\n",
    "* the class object is created.\n",
    "\n",
    "Also:\n",
    "\n",
    "“Metaclasses are deeper magic than 99% of users should ever worry about. If you wonder whether you need them, you don’t (the people who actually need them know with certainty that they need them, and don’t need an explanation about why).”"
   ]
  },
  {
   "cell_type": "markdown",
   "id": "32cb3835",
   "metadata": {},
   "source": [
    "When to use: \n",
    "\n",
    "* Avoiding decorators repetition or decorating all subclasses\n",
    "    * if subclasses of a class use (the same) class decorator, can move that to a metaclass and pass that to the base class\n",
    "* Validation of subclasses (working around dynamic typing, too)\n",
    "    * attributes exist **and** values follow certain patterns \n",
    "* Registering subclasses\n",
    "* A declarative way of building GUI\n",
    "* Django ORM (e.g. adding attributes)"
   ]
  },
  {
   "cell_type": "code",
   "execution_count": 1,
   "id": "edad3b86",
   "metadata": {},
   "outputs": [],
   "source": [
    "class Meta(type):\n",
    "    pass\n",
    "\n",
    "class MyClass(metaclass=Meta):\n",
    "    pass\n",
    "\n",
    "class MySubclass(MyClass):\n",
    "    pass"
   ]
  },
  {
   "cell_type": "code",
   "execution_count": 2,
   "id": "9c6faef6",
   "metadata": {},
   "outputs": [
    {
     "data": {
      "text/plain": [
       "__main__.Meta"
      ]
     },
     "execution_count": 2,
     "metadata": {},
     "output_type": "execute_result"
    }
   ],
   "source": [
    "type(MySubclass) # __main__.Meta"
   ]
  },
  {
   "cell_type": "code",
   "execution_count": 3,
   "id": "3b2178ea",
   "metadata": {},
   "outputs": [],
   "source": [
    "a = MyClass()"
   ]
  },
  {
   "cell_type": "markdown",
   "id": "8a42b56d",
   "metadata": {},
   "source": [
    "> type is a metaclass, of which classes are instances"
   ]
  },
  {
   "cell_type": "markdown",
   "id": "a1ef6b3c",
   "metadata": {},
   "source": [
    "We can create a class with type, like so:\n"
   ]
  },
  {
   "cell_type": "code",
   "execution_count": 4,
   "id": "517f2254",
   "metadata": {},
   "outputs": [],
   "source": [
    "C = type(\"C\", (), {})"
   ]
  },
  {
   "cell_type": "code",
   "execution_count": 5,
   "id": "e1e98c7f",
   "metadata": {},
   "outputs": [
    {
     "data": {
      "text/plain": [
       "type"
      ]
     },
     "execution_count": 5,
     "metadata": {},
     "output_type": "execute_result"
    }
   ],
   "source": [
    "type(C)"
   ]
  },
  {
   "cell_type": "markdown",
   "id": "cb7ece95",
   "metadata": {},
   "source": [
    "What happens at class creation?"
   ]
  },
  {
   "cell_type": "code",
   "execution_count": 6,
   "id": "fd7b42c2",
   "metadata": {},
   "outputs": [],
   "source": [
    "class A:\n",
    "    pass\n",
    "\n",
    "a = A()"
   ]
  },
  {
   "cell_type": "markdown",
   "id": "8b5ab837",
   "metadata": {},
   "source": [
    "* A is called, it execute `__call__` of superclass, which is type\n",
    "* parent's `__call__` invokes `__new__` and `__init__`\n",
    "* a will be set to what `__new__` returns"
   ]
  },
  {
   "cell_type": "markdown",
   "id": "7ab0edca",
   "metadata": {},
   "source": [
    "So `type` is a class as well, so it has a `__new__` method."
   ]
  },
  {
   "cell_type": "code",
   "execution_count": 7,
   "id": "16442f8c",
   "metadata": {},
   "outputs": [],
   "source": [
    "type.__new__?"
   ]
  },
  {
   "cell_type": "code",
   "execution_count": 8,
   "id": "2fda8648",
   "metadata": {},
   "outputs": [],
   "source": [
    "def new(cls):\n",
    "    inst = object.__new__(cls)\n",
    "    inst.attr = 1\n",
    "    return inst\n",
    "    "
   ]
  },
  {
   "cell_type": "code",
   "execution_count": 9,
   "id": "8a25f34f",
   "metadata": {},
   "outputs": [],
   "source": [
    "class A:\n",
    "    pass\n"
   ]
  },
  {
   "cell_type": "code",
   "execution_count": 10,
   "id": "ef110dfb",
   "metadata": {},
   "outputs": [],
   "source": [
    "A.__new__ = new"
   ]
  },
  {
   "cell_type": "code",
   "execution_count": 11,
   "id": "d532a765",
   "metadata": {},
   "outputs": [],
   "source": [
    "a = A()"
   ]
  },
  {
   "cell_type": "code",
   "execution_count": 12,
   "id": "fe56cea0",
   "metadata": {},
   "outputs": [
    {
     "data": {
      "text/plain": [
       "1"
      ]
     },
     "execution_count": 12,
     "metadata": {},
     "output_type": "execute_result"
    }
   ],
   "source": [
    "a.attr"
   ]
  },
  {
   "cell_type": "markdown",
   "id": "3cb2968a",
   "metadata": {},
   "source": [
    "However, we cannot alter `type` here.\n"
   ]
  },
  {
   "cell_type": "code",
   "execution_count": 13,
   "id": "06c31cf5",
   "metadata": {},
   "outputs": [
    {
     "data": {
      "text/plain": [
       "<function type.__new__(*args, **kwargs)>"
      ]
     },
     "execution_count": 13,
     "metadata": {},
     "output_type": "execute_result"
    }
   ],
   "source": [
    "type.__new__"
   ]
  },
  {
   "cell_type": "code",
   "execution_count": 14,
   "id": "9d8b396d",
   "metadata": {},
   "outputs": [],
   "source": [
    "# type.__new__ = lambda cls: cls # TypeError: cannot set '__new__' attribute of immutable type 'type'"
   ]
  },
  {
   "cell_type": "markdown",
   "id": "f47f67af",
   "metadata": {},
   "source": [
    "In order to customize class creation, we can use a metaclass."
   ]
  },
  {
   "cell_type": "code",
   "execution_count": 19,
   "id": "01dc1c5d",
   "metadata": {},
   "outputs": [],
   "source": [
    "class Meta(type):\n",
    "    def __new__(cls, name, bases, dct):\n",
    "        k = super().__new__(cls, name, bases, dct)\n",
    "        k.attr = 123\n",
    "        return k"
   ]
  },
  {
   "cell_type": "code",
   "execution_count": 20,
   "id": "477c7fc7",
   "metadata": {},
   "outputs": [],
   "source": [
    "class A(metaclass=Meta):\n",
    "    pass"
   ]
  },
  {
   "cell_type": "code",
   "execution_count": 21,
   "id": "caf71b02",
   "metadata": {},
   "outputs": [
    {
     "data": {
      "text/plain": [
       "__main__.Meta"
      ]
     },
     "execution_count": 21,
     "metadata": {},
     "output_type": "execute_result"
    }
   ],
   "source": [
    "type(A)"
   ]
  },
  {
   "cell_type": "code",
   "execution_count": 22,
   "id": "c6829990",
   "metadata": {},
   "outputs": [
    {
     "data": {
      "text/plain": [
       "123"
      ]
     },
     "execution_count": 22,
     "metadata": {},
     "output_type": "execute_result"
    }
   ],
   "source": [
    "A.attr"
   ]
  },
  {
   "cell_type": "code",
   "execution_count": 23,
   "id": "c867991b",
   "metadata": {},
   "outputs": [
    {
     "data": {
      "text/plain": [
       "(object,)"
      ]
     },
     "execution_count": 23,
     "metadata": {},
     "output_type": "execute_result"
    }
   ],
   "source": [
    "A.__bases__"
   ]
  },
  {
   "cell_type": "markdown",
   "id": "7655803f",
   "metadata": {},
   "source": [
    "A more complete example"
   ]
  },
  {
   "cell_type": "code",
   "execution_count": 24,
   "id": "bdd8a700",
   "metadata": {},
   "outputs": [
    {
     "name": "stdout",
     "output_type": "stream",
     "text": [
      "__new__ metaclass <class '__main__.MyMeta'> A () {'__module__': '__main__', '__qualname__': 'A', '__new__': <function A.__new__ at 0x7f5e867e5b80>, '__init__': <function A.__init__ at 0x7f5e86787040>, '__classcell__': <cell at 0x7f5e8677f280: empty>}\n"
     ]
    }
   ],
   "source": [
    "class MyMeta(type):\n",
    "    def __new__(cls, name, bases, dct):\n",
    "        print(f\"__new__ metaclass {cls} {name} {bases} {dct}\")\n",
    "        inst = super().__new__(cls, name, bases, dct)\n",
    "        return inst\n",
    "\n",
    "class A(metaclass=MyMeta):\n",
    "    def __new__(cls, *args, **kwargs):\n",
    "        print(f\"__new__ {cls} {args} {kwargs}\")\n",
    "        return super().__new__(cls, *args, **kwargs)\n",
    "    \n",
    "    def __init__(self):\n",
    "        print(f\"__init__ {self}\")\n",
    "    "
   ]
  },
  {
   "cell_type": "code",
   "execution_count": 25,
   "id": "71f6f764",
   "metadata": {},
   "outputs": [
    {
     "name": "stdout",
     "output_type": "stream",
     "text": [
      "__new__ <class '__main__.A'> () {}\n",
      "__init__ <__main__.A object at 0x7f5e9c017f40>\n"
     ]
    }
   ],
   "source": [
    "a = A()"
   ]
  },
  {
   "cell_type": "code",
   "execution_count": 26,
   "id": "58c3bca9",
   "metadata": {},
   "outputs": [],
   "source": [
    "a.x = 1"
   ]
  },
  {
   "cell_type": "markdown",
   "id": "880777a1",
   "metadata": {},
   "source": [
    "Example: A metaclass that disallows undocumented classes."
   ]
  },
  {
   "cell_type": "code",
   "execution_count": 27,
   "id": "d81a88a2",
   "metadata": {},
   "outputs": [],
   "source": [
    "class DocsRequired(type):\n",
    "    def __new__(cls, name, bases, dct):\n",
    "        inst = super().__new__(cls, name, bases, dct)\n",
    "        if not inst.__doc__:\n",
    "            raise RuntimeError(f\"class has no docs {cls}\")\n",
    "        return inst"
   ]
  },
  {
   "cell_type": "code",
   "execution_count": 29,
   "id": "2124ef11",
   "metadata": {},
   "outputs": [],
   "source": [
    "class A(metaclass=DocsRequired):\n",
    "    \"\"\"\n",
    "    Ok, with docs now.\n",
    "    \"\"\"\n",
    "    pass"
   ]
  },
  {
   "cell_type": "code",
   "execution_count": 80,
   "id": "0f9d1fc9",
   "metadata": {},
   "outputs": [],
   "source": [
    "# class A(metaclass=DocsRequired): # RuntimeError: class has no docs <class '__main__.DocsRequired'>\n",
    "#     pass"
   ]
  },
  {
   "cell_type": "markdown",
   "id": "3a228444",
   "metadata": {},
   "source": [
    "Some use cases for registration.\n",
    "\n",
    "* registration, example: [task.py](https://github.com/spotify/luigi/blob/38b0c2b8d400f6fc57ebbdc4064aadd4f3d7b612/luigi/task.py#L147-L171), [task_register.py](https://github.com/spotify/luigi/blob/38b0c2b8d400f6fc57ebbdc4064aadd4f3d7b612/luigi/task_register.py#L39-L48)\n",
    "* enforcing implementations of abstract methods, example [metrics.py](https://github.com/spotify/luigi/blob/38b0c2b8d400f6fc57ebbdc4064aadd4f3d7b612/luigi/metrics.py#L44-L73)"
   ]
  },
  {
   "cell_type": "markdown",
   "id": "bdbd7414",
   "metadata": {},
   "source": [
    "Abstract base classes, ABC provides a metaclass as well."
   ]
  },
  {
   "cell_type": "markdown",
   "id": "cbdbf0ea",
   "metadata": {},
   "source": [
    "Module [abc]() provides a convenience layer as `abc.ABC` -- [abc.py](https://github.com/python/cpython/blob/91a8e002c21a5388c5152c5a4871b9a2d85f0fc1/Lib/abc.py#L184-L188)\n",
    "\n",
    "Used in conjuntion with `abc.abstractmethod` class decorator to ensure all required methods are implemented.\n",
    "\n",
    "> Requires that the metaclass is ABCMeta or derived from it.  A\n",
    "    class that has a metaclass derived from ABCMeta cannot be\n",
    "    instantiated unless all of its abstract methods are overridden."
   ]
  },
  {
   "cell_type": "markdown",
   "id": "9dec0bdc",
   "metadata": {},
   "source": [
    "### More examples\n",
    "\n",
    "Another roundup of metaclasses."
   ]
  },
  {
   "cell_type": "code",
   "execution_count": 53,
   "id": "1fe16a57",
   "metadata": {},
   "outputs": [],
   "source": [
    "class MetaKlass(type):\n",
    "    \n",
    "    def __new__(meta, name, bases, dct):\n",
    "        # _new__ should be implemented when you want to control the creation of a new object (here: class),\n",
    "        print(f\"MetaKlass __new__ {meta} {name} {bases} {dct}\")\n",
    "        return super().__new__(meta, name, bases, dct)\n",
    "\n",
    "    def __init__(cls, name, bases, dct):\n",
    "        # __init__ should be implemented when you want to control the initialization of the new object after it has been created\n",
    "        print(f\"MetaKlass __init__ {cls} {name} {bases} {dct}\")"
   ]
  },
  {
   "cell_type": "code",
   "execution_count": 54,
   "id": "37d7b816",
   "metadata": {},
   "outputs": [
    {
     "name": "stdout",
     "output_type": "stream",
     "text": [
      "MetaKlass __new__ <class '__main__.MetaKlass'> m () {}\n",
      "MetaKlass __init__ <class '__main__.m'> m () {}\n"
     ]
    }
   ],
   "source": [
    "m = MetaKlass(\"m\", (), {})"
   ]
  },
  {
   "cell_type": "markdown",
   "id": "4a58748b",
   "metadata": {},
   "source": [
    "A metaclass new and init method are executed at class creation time. Also, if a metaclass is specified in a normal class declaration."
   ]
  },
  {
   "cell_type": "code",
   "execution_count": 55,
   "id": "c795dd23",
   "metadata": {},
   "outputs": [
    {
     "name": "stdout",
     "output_type": "stream",
     "text": [
      "MetaKlass __new__ <class '__main__.MetaKlass'> Klass () {'__module__': '__main__', '__qualname__': 'Klass', '__new__': <function Klass.__new__ at 0x7f5e8638a040>, '__init__': <function Klass.__init__ at 0x7f5e8638a670>, '__classcell__': <cell at 0x7f5ea00af550: empty>}\n",
      "MetaKlass __init__ <class '__main__.Klass'> Klass () {'__module__': '__main__', '__qualname__': 'Klass', '__new__': <function Klass.__new__ at 0x7f5e8638a040>, '__init__': <function Klass.__init__ at 0x7f5e8638a670>, '__classcell__': <cell at 0x7f5ea00af550: MetaKlass object at 0x55927c8fc5d0>}\n"
     ]
    }
   ],
   "source": [
    "        \n",
    "class Klass(metaclass=MetaKlass):\n",
    "    \n",
    "    def __new__(cls, *args, **kwargs):\n",
    "        print(f\"Klass __new__ {args} {kwargs}\")\n",
    "        return super().__new__(cls, *args, **kwargs)\n",
    "\n",
    "    def __init__(self, *args, **kwargs):\n",
    "        print(f\"Klass __init__ {args} {kwargs}\")"
   ]
  },
  {
   "cell_type": "code",
   "execution_count": 49,
   "id": "032a3bd1",
   "metadata": {},
   "outputs": [
    {
     "name": "stdout",
     "output_type": "stream",
     "text": [
      "Klass __new__ () {}\n",
      "Klass __init__ () {}\n"
     ]
    }
   ],
   "source": [
    "k = Klass()"
   ]
  },
  {
   "cell_type": "code",
   "execution_count": 50,
   "id": "c3f1d591",
   "metadata": {},
   "outputs": [
    {
     "name": "stdout",
     "output_type": "stream",
     "text": [
      "Klass __new__ () {}\n",
      "Klass __init__ () {}\n"
     ]
    }
   ],
   "source": [
    "g = Klass()"
   ]
  },
  {
   "cell_type": "code",
   "execution_count": null,
   "id": "8b288386",
   "metadata": {},
   "outputs": [],
   "source": []
  },
  {
   "cell_type": "markdown",
   "id": "d7536d73",
   "metadata": {},
   "source": [
    "### Final Notes\n",
    "\n",
    "* there is a few additional things, we haven't talked about like `__prepare__` executed before a metaclass' `__new__` method to prepare the namespace (https://peps.python.org/pep-3115/#invoking-the-metaclass) \n",
    "\n",
    "> `__prepare__` returns a dictionary-like object which is used to store the class member definitions during evaluation of the class body. In other words, the class body is evaluated as a function block (just like it is now), except that the local variables dictionary is replaced by the dictionary returned from `__prepare__`. This dictionary object can be a regular dictionary or a custom mapping type."
   ]
  },
  {
   "cell_type": "code",
   "execution_count": 63,
   "id": "b259a08d",
   "metadata": {},
   "outputs": [],
   "source": [
    "# The custom dictionary\n",
    "class member_table(dict):\n",
    "    def __init__(self):\n",
    "        self.member_names = []\n",
    "\n",
    "    def __setitem__(self, key, value):\n",
    "        # if the key is not already defined, add to the\n",
    "        # list of keys.\n",
    "        if key not in self:\n",
    "            self.member_names.append(key)\n",
    "\n",
    "        # Call superclass\n",
    "        dict.__setitem__(self, key, value)\n",
    "\n",
    "# The metaclass\n",
    "class OrderedClass(type):\n",
    "\n",
    "    # The prepare function\n",
    "    @classmethod\n",
    "    def __prepare__(metacls, name, bases): # No keywords in this case\n",
    "        return member_table()\n",
    "\n",
    "    # The metaclass invocation\n",
    "    def __new__(cls, name, bases, classdict):\n",
    "        # Note that we replace the classdict with a regular\n",
    "        # dict before passing it to the superclass, so that we\n",
    "        # don't continue to record member names after the class\n",
    "        # has been created.\n",
    "        result = type.__new__(cls, name, bases, dict(classdict))\n",
    "        result.member_names = classdict.member_names\n",
    "        return result\n",
    "\n",
    "class MyClass(metaclass=OrderedClass):\n",
    "    # method1 goes in array element 0\n",
    "    def method1(self):\n",
    "        pass\n",
    "\n",
    "    # method2 goes in array element 1\n",
    "    def method2(self):\n",
    "        pass\n"
   ]
  },
  {
   "cell_type": "code",
   "execution_count": 64,
   "id": "a278ab76",
   "metadata": {},
   "outputs": [
    {
     "data": {
      "text/plain": [
       "['__module__', '__qualname__', 'method1', 'method2']"
      ]
     },
     "execution_count": 64,
     "metadata": {},
     "output_type": "execute_result"
    }
   ],
   "source": [
    "MyClass.member_names"
   ]
  },
  {
   "cell_type": "code",
   "execution_count": 65,
   "id": "992bfc1a",
   "metadata": {},
   "outputs": [
    {
     "data": {
      "text/plain": [
       "'__main__'"
      ]
     },
     "execution_count": 65,
     "metadata": {},
     "output_type": "execute_result"
    }
   ],
   "source": [
    "MyClass.__module__"
   ]
  },
  {
   "cell_type": "code",
   "execution_count": 66,
   "id": "d020d5af",
   "metadata": {},
   "outputs": [
    {
     "data": {
      "text/plain": [
       "'MyClass'"
      ]
     },
     "execution_count": 66,
     "metadata": {},
     "output_type": "execute_result"
    }
   ],
   "source": [
    "MyClass.__qualname__"
   ]
  },
  {
   "cell_type": "code",
   "execution_count": 67,
   "id": "702f67cd",
   "metadata": {},
   "outputs": [],
   "source": [
    "\n",
    "\n",
    "class A(metaclass=OrderedClass):\n",
    "    b = 2\n",
    "    a = 1\n",
    "    c = 3\n",
    "    "
   ]
  },
  {
   "cell_type": "code",
   "execution_count": 68,
   "id": "0d5ddc08",
   "metadata": {},
   "outputs": [],
   "source": [
    "a = A()"
   ]
  },
  {
   "cell_type": "code",
   "execution_count": 69,
   "id": "5e6e7c5a",
   "metadata": {},
   "outputs": [
    {
     "data": {
      "text/plain": [
       "['__module__', '__qualname__', 'b', 'a', 'c']"
      ]
     },
     "execution_count": 69,
     "metadata": {},
     "output_type": "execute_result"
    }
   ],
   "source": [
    "a.member_names"
   ]
  },
  {
   "cell_type": "markdown",
   "id": "aa7e6e58",
   "metadata": {},
   "source": [
    "### Example: A final class (that cannot be inherited from)"
   ]
  },
  {
   "cell_type": "code",
   "execution_count": 97,
   "id": "d16cca71",
   "metadata": {},
   "outputs": [],
   "source": [
    "class Final(type):\n",
    "    \n",
    "    def __init__(cls, name, bases, classdict):\n",
    "        for b in bases:\n",
    "            if isinstance(b, Final):\n",
    "                raise RuntimeError(f\"cannot extend class: base {b} is final\")\n",
    "    "
   ]
  },
  {
   "cell_type": "code",
   "execution_count": 98,
   "id": "30bf3d27",
   "metadata": {},
   "outputs": [],
   "source": [
    "class A(metaclass=Final):\n",
    "    pass"
   ]
  },
  {
   "cell_type": "code",
   "execution_count": 99,
   "id": "fb9db452",
   "metadata": {},
   "outputs": [],
   "source": [
    "a = A()"
   ]
  },
  {
   "cell_type": "code",
   "execution_count": 100,
   "id": "a1e71f64",
   "metadata": {},
   "outputs": [
    {
     "data": {
      "text/plain": [
       "__main__.A"
      ]
     },
     "execution_count": 100,
     "metadata": {},
     "output_type": "execute_result"
    }
   ],
   "source": [
    "type(a)"
   ]
  },
  {
   "cell_type": "code",
   "execution_count": 101,
   "id": "46fd4cbc",
   "metadata": {},
   "outputs": [
    {
     "data": {
      "text/plain": [
       "__main__.Final"
      ]
     },
     "execution_count": 101,
     "metadata": {},
     "output_type": "execute_result"
    }
   ],
   "source": [
    "type(A)"
   ]
  },
  {
   "cell_type": "code",
   "execution_count": 102,
   "id": "6eed22a8",
   "metadata": {},
   "outputs": [
    {
     "ename": "RuntimeError",
     "evalue": "cannot extend class: base <class '__main__.A'> is final",
     "output_type": "error",
     "traceback": [
      "\u001b[0;31m---------------------------------------------------------------------------\u001b[0m",
      "\u001b[0;31mRuntimeError\u001b[0m                              Traceback (most recent call last)",
      "Cell \u001b[0;32mIn[102], line 1\u001b[0m\n\u001b[0;32m----> 1\u001b[0m \u001b[38;5;28;01mclass\u001b[39;00m \u001b[38;5;21;01mB\u001b[39;00m(A):\n\u001b[1;32m      2\u001b[0m     \u001b[38;5;28;01mpass\u001b[39;00m\n",
      "Cell \u001b[0;32mIn[97], line 6\u001b[0m, in \u001b[0;36mFinal.__init__\u001b[0;34m(cls, name, bases, classdict)\u001b[0m\n\u001b[1;32m      4\u001b[0m \u001b[38;5;28;01mfor\u001b[39;00m b \u001b[38;5;129;01min\u001b[39;00m bases:\n\u001b[1;32m      5\u001b[0m     \u001b[38;5;28;01mif\u001b[39;00m \u001b[38;5;28misinstance\u001b[39m(b, Final):\n\u001b[0;32m----> 6\u001b[0m         \u001b[38;5;28;01mraise\u001b[39;00m \u001b[38;5;167;01mRuntimeError\u001b[39;00m(\u001b[38;5;124mf\u001b[39m\u001b[38;5;124m\"\u001b[39m\u001b[38;5;124mcannot extend class: base \u001b[39m\u001b[38;5;132;01m{\u001b[39;00mb\u001b[38;5;132;01m}\u001b[39;00m\u001b[38;5;124m is final\u001b[39m\u001b[38;5;124m\"\u001b[39m)\n",
      "\u001b[0;31mRuntimeError\u001b[0m: cannot extend class: base <class '__main__.A'> is final"
     ]
    }
   ],
   "source": [
    "class B(A):\n",
    "    pass"
   ]
  },
  {
   "cell_type": "markdown",
   "id": "affd022e",
   "metadata": {},
   "source": [
    "### Notes\n",
    "\n",
    "* try \"init\" first, and when you need more, then use \"new\""
   ]
  },
  {
   "cell_type": "code",
   "execution_count": null,
   "id": "86997182",
   "metadata": {},
   "outputs": [],
   "source": []
  }
 ],
 "metadata": {
  "kernelspec": {
   "display_name": "Python 3 (ipykernel)",
   "language": "python",
   "name": "python3"
  },
  "language_info": {
   "codemirror_mode": {
    "name": "ipython",
    "version": 3
   },
   "file_extension": ".py",
   "mimetype": "text/x-python",
   "name": "python",
   "nbconvert_exporter": "python",
   "pygments_lexer": "ipython3",
   "version": "3.8.15"
  }
 },
 "nbformat": 4,
 "nbformat_minor": 5
}
