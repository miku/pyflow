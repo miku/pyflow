{
 "cells": [
  {
   "cell_type": "markdown",
   "id": "901134a4",
   "metadata": {},
   "source": [
    "### Iterators\n",
    "\n",
    "* iterable\n",
    "* builtin iter\n",
    "* writing your own iterators"
   ]
  },
  {
   "cell_type": "markdown",
   "id": "55ae5acf",
   "metadata": {},
   "source": [
    "Difference between iterable and iterator.\n",
    "\n",
    "> An iterable is an object that has an `__iter__` method which returns an iterator, or which defines a `__getitem__` method that can take sequential indexes starting from zero (and raises an `IndexError` when the indexes are no longer valid). So an iterable is an object that you can get an iterator from.\n",
    "\n",
    "* iterable: `__iter__`\n",
    "* iterator: `__next__`"
   ]
  },
  {
   "cell_type": "markdown",
   "id": "bcda16cb",
   "metadata": {},
   "source": [
    "### Iter"
   ]
  },
  {
   "cell_type": "markdown",
   "id": "576f0316",
   "metadata": {},
   "source": [
    "The builtin function `iter` returns an iterator."
   ]
  },
  {
   "cell_type": "code",
   "execution_count": 1,
   "id": "6386b705",
   "metadata": {},
   "outputs": [],
   "source": [
    "s = [1, 2, 3]"
   ]
  },
  {
   "cell_type": "code",
   "execution_count": 2,
   "id": "35187bd1",
   "metadata": {},
   "outputs": [],
   "source": [
    "i = iter(s)"
   ]
  },
  {
   "cell_type": "code",
   "execution_count": 3,
   "id": "1d7115e8",
   "metadata": {},
   "outputs": [
    {
     "data": {
      "text/plain": [
       "list_iterator"
      ]
     },
     "execution_count": 3,
     "metadata": {},
     "output_type": "execute_result"
    }
   ],
   "source": [
    "type(i)"
   ]
  },
  {
   "cell_type": "markdown",
   "id": "194e23fe",
   "metadata": {},
   "source": [
    "Most importantly, we have a `__next__` defined."
   ]
  },
  {
   "cell_type": "code",
   "execution_count": 4,
   "id": "bbb7fbd7",
   "metadata": {},
   "outputs": [
    {
     "name": "stdout",
     "output_type": "stream",
     "text": [
      "1\n",
      "2\n",
      "3\n"
     ]
    }
   ],
   "source": [
    "while True:\n",
    "    try:\n",
    "        print(i.__next__())\n",
    "    except StopIteration:\n",
    "        break"
   ]
  },
  {
   "cell_type": "markdown",
   "id": "66a611c3",
   "metadata": {},
   "source": [
    "Can we call `__next__` just on list?"
   ]
  },
  {
   "cell_type": "code",
   "execution_count": 5,
   "id": "2fd43741",
   "metadata": {},
   "outputs": [],
   "source": [
    "# s.__next__ # AttributeError: 'list' object has no attribute '__next__'"
   ]
  },
  {
   "cell_type": "markdown",
   "id": "70cfd51b",
   "metadata": {},
   "source": [
    "### Custom iterators\n",
    "\n",
    "* first, we need an iterable - hence `__iter__` which will often return `self`\n",
    "* `__next__` to implement the iterator\n",
    "* StopIteration as sentinel value\n"
   ]
  },
  {
   "cell_type": "code",
   "execution_count": 6,
   "id": "7b64c2d1",
   "metadata": {},
   "outputs": [],
   "source": [
    "class A:\n",
    "    \n",
    "    def __init__(self):\n",
    "        self.i = 0\n",
    "    \n",
    "    def __iter__(self):\n",
    "        return self\n",
    "\n",
    "    def __next__(self):\n",
    "        self.i += 1\n",
    "        if self.i > 3:\n",
    "            raise StopIteration\n",
    "        return self.i\n",
    "         "
   ]
  },
  {
   "cell_type": "code",
   "execution_count": 7,
   "id": "6c4ae1b9",
   "metadata": {},
   "outputs": [],
   "source": [
    "a = A()"
   ]
  },
  {
   "cell_type": "code",
   "execution_count": 8,
   "id": "6e758a58",
   "metadata": {},
   "outputs": [
    {
     "data": {
      "text/plain": [
       "<__main__.A at 0x7fc8d4673340>"
      ]
     },
     "execution_count": 8,
     "metadata": {},
     "output_type": "execute_result"
    }
   ],
   "source": [
    "a"
   ]
  },
  {
   "cell_type": "code",
   "execution_count": 9,
   "id": "68a802a3",
   "metadata": {},
   "outputs": [
    {
     "name": "stdout",
     "output_type": "stream",
     "text": [
      "1\n",
      "2\n",
      "3\n"
     ]
    }
   ],
   "source": [
    "for v in a:\n",
    "    print(v)"
   ]
  },
  {
   "cell_type": "markdown",
   "id": "0a8abb8d",
   "metadata": {},
   "source": [
    "### Infinite iterators\n",
    "\n",
    "You can write infinite iterators."
   ]
  },
  {
   "cell_type": "code",
   "execution_count": 10,
   "id": "2b18c8fc",
   "metadata": {},
   "outputs": [],
   "source": [
    "import random"
   ]
  },
  {
   "cell_type": "code",
   "execution_count": 11,
   "id": "7651eb68",
   "metadata": {},
   "outputs": [],
   "source": [
    "class RandomNumbers:\n",
    "    \n",
    "    def __iter__(self):\n",
    "        return self\n",
    "    \n",
    "    def __next__(self):\n",
    "        return random.randint(0, 100)"
   ]
  },
  {
   "cell_type": "code",
   "execution_count": 12,
   "id": "b019e31e",
   "metadata": {},
   "outputs": [],
   "source": [
    "rn = RandomNumbers()"
   ]
  },
  {
   "cell_type": "code",
   "execution_count": 13,
   "id": "29f4cb1d",
   "metadata": {},
   "outputs": [],
   "source": [
    "import itertools"
   ]
  },
  {
   "cell_type": "code",
   "execution_count": 14,
   "id": "beebabf7",
   "metadata": {},
   "outputs": [
    {
     "data": {
      "text/plain": [
       "[29, 77]"
      ]
     },
     "execution_count": 14,
     "metadata": {},
     "output_type": "execute_result"
    }
   ],
   "source": [
    "list(itertools.islice(rn, 10, 12)) # slice out a window out of an infinite list of numbers\n",
    "\n"
   ]
  },
  {
   "cell_type": "code",
   "execution_count": null,
   "id": "db24cfc1",
   "metadata": {},
   "outputs": [],
   "source": []
  }
 ],
 "metadata": {
  "kernelspec": {
   "display_name": "Python 3 (ipykernel)",
   "language": "python",
   "name": "python3"
  },
  "language_info": {
   "codemirror_mode": {
    "name": "ipython",
    "version": 3
   },
   "file_extension": ".py",
   "mimetype": "text/x-python",
   "name": "python",
   "nbconvert_exporter": "python",
   "pygments_lexer": "ipython3",
   "version": "3.11.0"
  }
 },
 "nbformat": 4,
 "nbformat_minor": 5
}
