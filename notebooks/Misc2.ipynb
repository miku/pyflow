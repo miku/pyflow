{
 "cells": [
  {
   "cell_type": "markdown",
   "id": "32eed87a",
   "metadata": {},
   "source": [
    "### Misc Topics"
   ]
  },
  {
   "cell_type": "markdown",
   "id": "1462c1ca",
   "metadata": {},
   "source": [
    "Subclassing with register"
   ]
  },
  {
   "cell_type": "code",
   "execution_count": 1,
   "id": "36e4dc8d",
   "metadata": {},
   "outputs": [],
   "source": [
    "class Parent:\n",
    "    pass"
   ]
  },
  {
   "cell_type": "code",
   "execution_count": 2,
   "id": "20bd0f01",
   "metadata": {},
   "outputs": [],
   "source": [
    "class Child:\n",
    "    pass"
   ]
  },
  {
   "cell_type": "code",
   "execution_count": 3,
   "id": "ab4a7dec",
   "metadata": {},
   "outputs": [
    {
     "ename": "AttributeError",
     "evalue": "type object 'Parent' has no attribute 'register'",
     "output_type": "error",
     "traceback": [
      "\u001b[0;31m---------------------------------------------------------------------------\u001b[0m",
      "\u001b[0;31mAttributeError\u001b[0m                            Traceback (most recent call last)",
      "Cell \u001b[0;32mIn[3], line 1\u001b[0m\n\u001b[0;32m----> 1\u001b[0m \u001b[43mParent\u001b[49m\u001b[38;5;241;43m.\u001b[39;49m\u001b[43mregister\u001b[49m(Child)\n",
      "\u001b[0;31mAttributeError\u001b[0m: type object 'Parent' has no attribute 'register'"
     ]
    }
   ],
   "source": [
    "Parent.register(Child)"
   ]
  },
  {
   "cell_type": "code",
   "execution_count": 5,
   "id": "d754598c",
   "metadata": {},
   "outputs": [],
   "source": [
    "import abc"
   ]
  },
  {
   "cell_type": "code",
   "execution_count": 6,
   "id": "ac54385d",
   "metadata": {},
   "outputs": [],
   "source": [
    "class Parent(abc.ABC):\n",
    "    pass"
   ]
  },
  {
   "cell_type": "code",
   "execution_count": 7,
   "id": "f66cfb9f",
   "metadata": {},
   "outputs": [],
   "source": [
    "class Child:\n",
    "    pass"
   ]
  },
  {
   "cell_type": "code",
   "execution_count": 16,
   "id": "447b424c",
   "metadata": {},
   "outputs": [
    {
     "data": {
      "text/plain": [
       "__main__.Child"
      ]
     },
     "execution_count": 16,
     "metadata": {},
     "output_type": "execute_result"
    }
   ],
   "source": [
    "Parent.register(Child) # make child a child of parent"
   ]
  },
  {
   "cell_type": "code",
   "execution_count": 17,
   "id": "6c16195f",
   "metadata": {},
   "outputs": [
    {
     "data": {
      "text/plain": [
       "True"
      ]
     },
     "execution_count": 17,
     "metadata": {},
     "output_type": "execute_result"
    }
   ],
   "source": [
    "issubclass(Child, Parent)"
   ]
  },
  {
   "cell_type": "markdown",
   "id": "f08fb7fa",
   "metadata": {},
   "source": [
    "* [https://github.com/python/cpython/blob/ae83c782155ffe86830c3255e338f366e331ad30/Lib/_collections_abc.py#L1062-L1065](https://github.com/python/cpython/blob/ae83c782155ffe86830c3255e338f366e331ad30/Lib/_collections_abc.py#L1062-L1065)\n",
    "\n",
    "```\n",
    "Sequence.register(tuple)\n",
    "Sequence.register(str)\n",
    "Sequence.register(range)\n",
    "Sequence.register(memoryview)\n",
    "\n",
    "...\n",
    "\n",
    "MutableSequence.register(list)\n",
    "MutableSequence.register(bytearray)  # Multiply inheriting, see ByteString\n",
    "\n",
    "```"
   ]
  },
  {
   "cell_type": "code",
   "execution_count": 19,
   "id": "23305690",
   "metadata": {},
   "outputs": [],
   "source": [
    "class Parent(abc.ABC):\n",
    "    @abc.abstractmethod\n",
    "    def f():\n",
    "        pass\n",
    "        "
   ]
  },
  {
   "cell_type": "code",
   "execution_count": 20,
   "id": "33f81186",
   "metadata": {},
   "outputs": [],
   "source": [
    "class Child:\n",
    "    pass"
   ]
  },
  {
   "cell_type": "code",
   "execution_count": 24,
   "id": "7e0b223b",
   "metadata": {},
   "outputs": [
    {
     "data": {
      "text/plain": [
       "__main__.Child"
      ]
     },
     "execution_count": 24,
     "metadata": {},
     "output_type": "execute_result"
    }
   ],
   "source": [
    "Parent.register(Child) # no enforcement"
   ]
  },
  {
   "cell_type": "code",
   "execution_count": 23,
   "id": "a9ddb61b",
   "metadata": {},
   "outputs": [
    {
     "data": {
      "text/plain": [
       "True"
      ]
     },
     "execution_count": 23,
     "metadata": {},
     "output_type": "execute_result"
    }
   ],
   "source": [
    "issubclass(Child, Parent)"
   ]
  },
  {
   "cell_type": "code",
   "execution_count": null,
   "id": "0b2c6dc5",
   "metadata": {},
   "outputs": [],
   "source": []
  }
 ],
 "metadata": {
  "kernelspec": {
   "display_name": "Python 3 (ipykernel)",
   "language": "python",
   "name": "python3"
  },
  "language_info": {
   "codemirror_mode": {
    "name": "ipython",
    "version": 3
   },
   "file_extension": ".py",
   "mimetype": "text/x-python",
   "name": "python",
   "nbconvert_exporter": "python",
   "pygments_lexer": "ipython3",
   "version": "3.8.15"
  }
 },
 "nbformat": 4,
 "nbformat_minor": 5
}
