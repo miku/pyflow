{
 "cells": [
  {
   "cell_type": "markdown",
   "id": "e8be26c5",
   "metadata": {},
   "source": [
    "### A case for a sentinal value"
   ]
  },
  {
   "cell_type": "code",
   "execution_count": 1,
   "id": "60b5e88a",
   "metadata": {},
   "outputs": [],
   "source": [
    "for i in range(10):\n",
    "    if i % 3 == 0:\n",
    "        break\n",
    "else:\n",
    "    print(\"no number divisible by 3 found\")"
   ]
  },
  {
   "cell_type": "code",
   "execution_count": 7,
   "id": "abdf52d5",
   "metadata": {},
   "outputs": [
    {
     "name": "stdout",
     "output_type": "stream",
     "text": [
      "no number divisible by 3 found\n"
     ]
    }
   ],
   "source": [
    "for i in range(1, 10, 3):\n",
    "    if i % 3 == 0:\n",
    "        break\n",
    "else:\n",
    "    print(\"no number divisible by 3 found\")"
   ]
  },
  {
   "cell_type": "code",
   "execution_count": null,
   "id": "93f8a8c2",
   "metadata": {},
   "outputs": [],
   "source": []
  }
 ],
 "metadata": {
  "kernelspec": {
   "display_name": "Python 3 (ipykernel)",
   "language": "python",
   "name": "python3"
  },
  "language_info": {
   "codemirror_mode": {
    "name": "ipython",
    "version": 3
   },
   "file_extension": ".py",
   "mimetype": "text/x-python",
   "name": "python",
   "nbconvert_exporter": "python",
   "pygments_lexer": "ipython3",
   "version": "3.11.0"
  }
 },
 "nbformat": 4,
 "nbformat_minor": 5
}
