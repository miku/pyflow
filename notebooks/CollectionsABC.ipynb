{
 "cells": [
  {
   "cell_type": "code",
   "execution_count": 3,
   "id": "5c8d5bc2",
   "metadata": {},
   "outputs": [],
   "source": [
    "from collections import abc"
   ]
  },
  {
   "cell_type": "code",
   "execution_count": 4,
   "id": "28070545",
   "metadata": {},
   "outputs": [
    {
     "data": {
      "text/plain": [
       "<module 'collections.abc' from '/home/tir/.pyenv/versions/3.11.0/lib/python3.11/collections/abc.py'>"
      ]
     },
     "execution_count": 4,
     "metadata": {},
     "output_type": "execute_result"
    }
   ],
   "source": [
    "abc"
   ]
  },
  {
   "cell_type": "markdown",
   "id": "91c08a94",
   "metadata": {},
   "source": [
    "Abstract base classes enforce implementation of custom container types."
   ]
  },
  {
   "cell_type": "code",
   "execution_count": 9,
   "id": "2e1a874d",
   "metadata": {},
   "outputs": [],
   "source": [
    "class C(abc.Sequence):\n",
    "    pass"
   ]
  },
  {
   "cell_type": "code",
   "execution_count": 10,
   "id": "88315ba5",
   "metadata": {},
   "outputs": [],
   "source": [
    "# c = C() # TypeError: Can't instantiate abstract class C with abstract methods __getitem__, __len__"
   ]
  },
  {
   "cell_type": "code",
   "execution_count": 65,
   "id": "e5b2eeb3",
   "metadata": {},
   "outputs": [],
   "source": [
    "import string"
   ]
  },
  {
   "cell_type": "code",
   "execution_count": 75,
   "id": "689a0d0b",
   "metadata": {},
   "outputs": [],
   "source": [
    "class C(abc.Sequence):\n",
    "    def __init__(self):\n",
    "        self.alpha = string.ascii_lowercase\n",
    "        \n",
    "    def __getitem__(self, index):\n",
    "        if index < len(self.alpha):\n",
    "            return (index, self.alpha[index])\n",
    "        raise IndexError()\n",
    "        \n",
    "    def __len__(self):\n",
    "        return len(self.alpha) \n"
   ]
  },
  {
   "cell_type": "code",
   "execution_count": 76,
   "id": "0effbedc",
   "metadata": {},
   "outputs": [],
   "source": [
    "c = C()"
   ]
  },
  {
   "cell_type": "code",
   "execution_count": 77,
   "id": "ade21d08",
   "metadata": {},
   "outputs": [
    {
     "data": {
      "text/plain": [
       "26"
      ]
     },
     "execution_count": 77,
     "metadata": {},
     "output_type": "execute_result"
    }
   ],
   "source": [
    "len(c)"
   ]
  },
  {
   "cell_type": "code",
   "execution_count": 74,
   "id": "a67a0326",
   "metadata": {},
   "outputs": [
    {
     "data": {
      "text/plain": [
       "'f'"
      ]
     },
     "execution_count": 74,
     "metadata": {},
     "output_type": "execute_result"
    }
   ],
   "source": [
    "c[5]"
   ]
  },
  {
   "cell_type": "code",
   "execution_count": 80,
   "id": "1893ebbe",
   "metadata": {},
   "outputs": [
    {
     "data": {
      "text/plain": [
       "True"
      ]
     },
     "execution_count": 80,
     "metadata": {},
     "output_type": "execute_result"
    }
   ],
   "source": [
    "isinstance(c, abc.Sequence)"
   ]
  },
  {
   "cell_type": "code",
   "execution_count": 81,
   "id": "e2869daf",
   "metadata": {},
   "outputs": [
    {
     "data": {
      "text/plain": [
       "True"
      ]
     },
     "execution_count": 81,
     "metadata": {},
     "output_type": "execute_result"
    }
   ],
   "source": [
    "issubclass(C, abc.Sequence)"
   ]
  },
  {
   "cell_type": "markdown",
   "id": "d964648d",
   "metadata": {},
   "source": [
    "We get by with `__len__` and `__getitem__` - but other methods can be added.\n",
    "\n",
    "> In this example, class D does not need to define __contains__, __iter__, and __reversed__ because the in-operator, the iteration logic, and the reversed() function automatically fall back to using __getitem__ and __len__."
   ]
  },
  {
   "cell_type": "markdown",
   "id": "0cd149f0",
   "metadata": {},
   "source": [
    "Some function sets are sufficient to distinguish a collection."
   ]
  },
  {
   "cell_type": "code",
   "execution_count": 84,
   "id": "eb9e9fb9",
   "metadata": {},
   "outputs": [],
   "source": [
    "class E:\n",
    "    def __iter__(self):\n",
    "        pass\n",
    "    def __next__(self):\n",
    "        pass\n",
    "    "
   ]
  },
  {
   "cell_type": "code",
   "execution_count": 86,
   "id": "6a2fdcfc",
   "metadata": {},
   "outputs": [
    {
     "data": {
      "text/plain": [
       "True"
      ]
     },
     "execution_count": 86,
     "metadata": {},
     "output_type": "execute_result"
    }
   ],
   "source": [
    "issubclass(E, abc.Iterable)"
   ]
  },
  {
   "cell_type": "code",
   "execution_count": 87,
   "id": "62828349",
   "metadata": {},
   "outputs": [
    {
     "data": {
      "text/plain": [
       "True"
      ]
     },
     "execution_count": 87,
     "metadata": {},
     "output_type": "execute_result"
    }
   ],
   "source": [
    "isinstance(E(), abc.Iterable)"
   ]
  },
  {
   "cell_type": "markdown",
   "id": "4895e414",
   "metadata": {},
   "source": [
    "But that's not always true. \n",
    "\n",
    "> For example, knowing that a class supplies __getitem__, __len__, and __iter__ is insufficient for distinguishing a Sequence from a Mapping.\n",
    "\n"
   ]
  },
  {
   "cell_type": "markdown",
   "id": "9a8f1e37",
   "metadata": {},
   "source": [
    "Available base classes:\n",
    "\n",
    "* Container - contains\n",
    "* Hashable - hash\n",
    "* Iterable - iter\n",
    "* Iterator - next; iter\n",
    "* Reversible - reversed\n",
    "* Generator - (send, throw)\n",
    "* Sized - len\n",
    "* Callable - call\n",
    "* Collection - contains, iter, len\n",
    "* Sequence - getitem, len\n",
    "* MutableSequence - getitem, setitem, delitem, len\n",
    "* ByteString - getitem, len\n",
    "* Set - contains, iter, len\n",
    "* MutableSet - contains, iter, len, (add, discard)\n",
    "* Mapping - getitem, iter, len\n",
    "* MutableMapping - getitem, setitem, delitem, iter, len\n",
    "\n",
    "A few more Views"
   ]
  },
  {
   "cell_type": "markdown",
   "id": "20d453d6",
   "metadata": {},
   "source": [
    "Use cases\n",
    "\n",
    "* starting point for custom collections\n",
    "* a better fit for isinstance checks, if only limited functionality is needed (e.g. only len? abc.Sized may be enough)"
   ]
  },
  {
   "cell_type": "code",
   "execution_count": 91,
   "id": "526a0af4",
   "metadata": {},
   "outputs": [],
   "source": [
    "class ListBasedSet(collections.abc.Set):\n",
    "    ''' Alternate set implementation favoring space over speed\n",
    "        and not requiring the set elements to be hashable. '''\n",
    "    def __init__(self, iterable):\n",
    "        self.elements = lst = []\n",
    "        for value in iterable:\n",
    "            if value not in lst:\n",
    "                lst.append(value)\n",
    "\n",
    "    def __iter__(self):\n",
    "        return iter(self.elements)\n",
    "\n",
    "    def __contains__(self, value):\n",
    "        return value in self.elements\n",
    "\n",
    "    def __len__(self):\n",
    "        return len(self.elements)\n",
    "\n",
    "s1 = ListBasedSet('abcdef')\n",
    "s2 = ListBasedSet('defghi')\n",
    "overlap = s1 & s2       "
   ]
  },
  {
   "cell_type": "code",
   "execution_count": null,
   "id": "8f72c143",
   "metadata": {},
   "outputs": [],
   "source": []
  }
 ],
 "metadata": {
  "kernelspec": {
   "display_name": "Python 3 (ipykernel)",
   "language": "python",
   "name": "python3"
  },
  "language_info": {
   "codemirror_mode": {
    "name": "ipython",
    "version": 3
   },
   "file_extension": ".py",
   "mimetype": "text/x-python",
   "name": "python",
   "nbconvert_exporter": "python",
   "pygments_lexer": "ipython3",
   "version": "3.8.15"
  }
 },
 "nbformat": 4,
 "nbformat_minor": 5
}
