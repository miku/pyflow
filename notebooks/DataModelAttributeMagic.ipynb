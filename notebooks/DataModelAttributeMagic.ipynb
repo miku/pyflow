{
 "cells": [
  {
   "cell_type": "markdown",
   "id": "469e745d",
   "metadata": {},
   "source": [
    "\n",
    "## Attribute Magic\n",
    "\n",
    "* `__getattr__`\n",
    "* `__setattr__`\n",
    "* `__delattr__`\n",
    "* `__getattribute__`\n",
    "\n",
    "\n",
    "This is a quite dynamic part. Built-in functions:\n",
    "\n",
    "* getattr\n",
    "* setattr\n",
    "\n",
    "> [getattr] Return the value of the named attribute of object. name must be a string. If the string is the name of one of the object’s attributes, the result is the value of that attribute. For example, getattr(x, 'foobar') is equivalent to x.foobar.\n"
   ]
  },
  {
   "cell_type": "markdown",
   "id": "22df692d",
   "metadata": {},
   "source": [
    "### Getattr"
   ]
  },
  {
   "cell_type": "markdown",
   "id": "5cbef6d5",
   "metadata": {},
   "source": [
    "> Called when the default attribute access fails with an AttributeError \n",
    "\n"
   ]
  },
  {
   "cell_type": "code",
   "execution_count": 9,
   "id": "9c44c08b",
   "metadata": {},
   "outputs": [],
   "source": [
    "class A:\n",
    "    def __getattr__(self, name):\n",
    "        print(f\"__getattr__ {name}\")"
   ]
  },
  {
   "cell_type": "code",
   "execution_count": 6,
   "id": "2d16b912",
   "metadata": {},
   "outputs": [],
   "source": [
    "a = A()"
   ]
  },
  {
   "cell_type": "code",
   "execution_count": 7,
   "id": "7f0a7ed2",
   "metadata": {},
   "outputs": [
    {
     "name": "stdout",
     "output_type": "stream",
     "text": [
      "__getattr__ x\n"
     ]
    }
   ],
   "source": [
    "a.x"
   ]
  },
  {
   "cell_type": "code",
   "execution_count": 8,
   "id": "d285ae0f",
   "metadata": {},
   "outputs": [
    {
     "name": "stdout",
     "output_type": "stream",
     "text": [
      "__getattr__ x\n"
     ]
    },
    {
     "data": {
      "text/plain": [
       "True"
      ]
     },
     "execution_count": 8,
     "metadata": {},
     "output_type": "execute_result"
    }
   ],
   "source": [
    "a.x is None"
   ]
  },
  {
   "cell_type": "markdown",
   "id": "aee07dee",
   "metadata": {},
   "source": [
    "One use case, some dynamicly named methods."
   ]
  },
  {
   "cell_type": "code",
   "execution_count": 11,
   "id": "c8bdfabc",
   "metadata": {},
   "outputs": [],
   "source": [
    "import re"
   ]
  },
  {
   "cell_type": "code",
   "execution_count": 34,
   "id": "3ab6ab4f",
   "metadata": {},
   "outputs": [],
   "source": [
    "class A:\n",
    "    def __getattr__(self, name):\n",
    "        m = re.match(\"(.*)_(.*)\", name)\n",
    "        if not m:\n",
    "            raise AttributeError(name)\n",
    "        match m.groups():\n",
    "            case [\"export\", fmt]:\n",
    "                match fmt:\n",
    "                    case \"pdf\":\n",
    "                        print(\"exporing pdf\")\n",
    "                        return\n",
    "                    case \"png\":\n",
    "                        print(\"exporting png\")\n",
    "                        return\n",
    "        raise AttributeError(name)"
   ]
  },
  {
   "cell_type": "code",
   "execution_count": 35,
   "id": "0cd79645",
   "metadata": {},
   "outputs": [],
   "source": [
    "a = A()"
   ]
  },
  {
   "cell_type": "code",
   "execution_count": 36,
   "id": "03722eb1",
   "metadata": {},
   "outputs": [
    {
     "name": "stdout",
     "output_type": "stream",
     "text": [
      "exporing pdf\n"
     ]
    }
   ],
   "source": [
    "a.export_pdf"
   ]
  },
  {
   "cell_type": "code",
   "execution_count": 37,
   "id": "7f8a3d34",
   "metadata": {},
   "outputs": [
    {
     "name": "stdout",
     "output_type": "stream",
     "text": [
      "exporting png\n"
     ]
    }
   ],
   "source": [
    "a.export_png"
   ]
  },
  {
   "cell_type": "code",
   "execution_count": 38,
   "id": "7f9011e6",
   "metadata": {},
   "outputs": [
    {
     "ename": "AttributeError",
     "evalue": "export_doc",
     "output_type": "error",
     "traceback": [
      "\u001b[0;31m---------------------------------------------------------------------------\u001b[0m",
      "\u001b[0;31mAttributeError\u001b[0m                            Traceback (most recent call last)",
      "Cell \u001b[0;32mIn[38], line 1\u001b[0m\n\u001b[0;32m----> 1\u001b[0m \u001b[43ma\u001b[49m\u001b[38;5;241;43m.\u001b[39;49m\u001b[43mexport_doc\u001b[49m\n",
      "Cell \u001b[0;32mIn[34], line 15\u001b[0m, in \u001b[0;36mA.__getattr__\u001b[0;34m(self, name)\u001b[0m\n\u001b[1;32m     13\u001b[0m                 \u001b[38;5;28mprint\u001b[39m(\u001b[38;5;124m\"\u001b[39m\u001b[38;5;124mexporting png\u001b[39m\u001b[38;5;124m\"\u001b[39m)\n\u001b[1;32m     14\u001b[0m                 \u001b[38;5;28;01mreturn\u001b[39;00m\n\u001b[0;32m---> 15\u001b[0m \u001b[38;5;28;01mraise\u001b[39;00m \u001b[38;5;167;01mAttributeError\u001b[39;00m(name)\n",
      "\u001b[0;31mAttributeError\u001b[0m: export_doc"
     ]
    }
   ],
   "source": [
    "a.export_doc"
   ]
  },
  {
   "cell_type": "markdown",
   "id": "bd62bb68",
   "metadata": {},
   "source": [
    "> Note that if the attribute is found through the normal mechanism, __getattr__() is not called. \n",
    "\n",
    "So `__getattr__` is like an escape hatch."
   ]
  },
  {
   "cell_type": "code",
   "execution_count": 50,
   "id": "a663e858",
   "metadata": {},
   "outputs": [],
   "source": [
    "### Getattr vs Getattribute"
   ]
  },
  {
   "cell_type": "code",
   "execution_count": 63,
   "id": "ba81460f",
   "metadata": {},
   "outputs": [],
   "source": [
    "class A:\n",
    "    \"\"\"\n",
    "    An unusable class.\n",
    "    \"\"\"\n",
    "    def __getattr__(self, name):\n",
    "        print(f\"__getattr__ {name}\")\n",
    "        return \"dummy\"\n",
    "    \n",
    "    def __getattribute__(self, name):\n",
    "        print(f\"__getattribute__ {name}\")\n",
    "        return \"dummy\""
   ]
  },
  {
   "cell_type": "code",
   "execution_count": 64,
   "id": "5a9ad79a",
   "metadata": {},
   "outputs": [
    {
     "name": "stdout",
     "output_type": "stream",
     "text": [
      "__getattribute__ __class__\n",
      "__getattribute__ __class__\n",
      "__getattribute__ __class__\n",
      "__getattribute__ __class__\n"
     ]
    }
   ],
   "source": [
    "a = A()"
   ]
  },
  {
   "cell_type": "code",
   "execution_count": 65,
   "id": "362bac18",
   "metadata": {},
   "outputs": [
    {
     "name": "stdout",
     "output_type": "stream",
     "text": [
      "__getattribute__ x\n"
     ]
    },
    {
     "data": {
      "text/plain": [
       "'dummy'"
      ]
     },
     "execution_count": 65,
     "metadata": {},
     "output_type": "execute_result"
    }
   ],
   "source": [
    "a.x"
   ]
  },
  {
   "cell_type": "code",
   "execution_count": 66,
   "id": "558c5407",
   "metadata": {},
   "outputs": [
    {
     "name": "stdout",
     "output_type": "stream",
     "text": [
      "__getattribute__ __class__\n"
     ]
    },
    {
     "data": {
      "text/plain": [
       "'dummy'"
      ]
     },
     "execution_count": 66,
     "metadata": {},
     "output_type": "execute_result"
    }
   ],
   "source": [
    "a.__class__"
   ]
  },
  {
   "cell_type": "markdown",
   "id": "a5d03935",
   "metadata": {},
   "source": [
    ">  In order to avoid infinite recursion in this method, its implementation should always call the base class method with the same name to access any attributes it needs, for example, `object.__getattribute__(self, name)`."
   ]
  },
  {
   "cell_type": "code",
   "execution_count": 87,
   "id": "dce95685",
   "metadata": {},
   "outputs": [],
   "source": [
    "class A:\n",
    "    def __getattribute__(self, name):\n",
    "        print(f\"__getattribute__ {name}\")\n",
    "        return object.__getattribute__(self, name)\n",
    "        # return A.__getattribute__(self, name) # RecursionError\n",
    "    \n",
    "    def __init__(self):\n",
    "        self.x = 1"
   ]
  },
  {
   "cell_type": "code",
   "execution_count": 88,
   "id": "1f25a3b7",
   "metadata": {},
   "outputs": [
    {
     "name": "stdout",
     "output_type": "stream",
     "text": [
      "__getattribute__ __class__\n",
      "__getattribute__ __class__\n",
      "__getattribute__ __class__\n",
      "__getattribute__ __class__\n",
      "__getattribute__ __class__\n",
      "__getattribute__ __class__\n",
      "__getattribute__ __class__\n",
      "__getattribute__ __class__\n"
     ]
    }
   ],
   "source": [
    "a = A()"
   ]
  },
  {
   "cell_type": "code",
   "execution_count": 89,
   "id": "3422020a",
   "metadata": {},
   "outputs": [
    {
     "name": "stdout",
     "output_type": "stream",
     "text": [
      "__getattribute__ x\n"
     ]
    },
    {
     "data": {
      "text/plain": [
       "1"
      ]
     },
     "execution_count": 89,
     "metadata": {},
     "output_type": "execute_result"
    }
   ],
   "source": [
    "a.x"
   ]
  },
  {
   "cell_type": "code",
   "execution_count": 91,
   "id": "2ba6cbbe",
   "metadata": {},
   "outputs": [],
   "source": [
    "# a.y # regular AttributeError"
   ]
  },
  {
   "cell_type": "markdown",
   "id": "20ac4fcc",
   "metadata": {},
   "source": [
    "### Delattr"
   ]
  },
  {
   "cell_type": "code",
   "execution_count": 95,
   "id": "6609cd17",
   "metadata": {},
   "outputs": [],
   "source": [
    "class A:\n",
    "    def __delattr__(self, name):\n",
    "        print(\"__delattr__\")"
   ]
  },
  {
   "cell_type": "code",
   "execution_count": 96,
   "id": "9e90463d",
   "metadata": {},
   "outputs": [],
   "source": [
    "a = A()"
   ]
  },
  {
   "cell_type": "code",
   "execution_count": 97,
   "id": "2ee9e3d3",
   "metadata": {},
   "outputs": [],
   "source": [
    "a.x = 1"
   ]
  },
  {
   "cell_type": "code",
   "execution_count": 98,
   "id": "a49558b1",
   "metadata": {},
   "outputs": [
    {
     "name": "stdout",
     "output_type": "stream",
     "text": [
      "__delattr__\n"
     ]
    }
   ],
   "source": [
    "del a.x"
   ]
  },
  {
   "cell_type": "code",
   "execution_count": null,
   "id": "c7b8b408",
   "metadata": {},
   "outputs": [],
   "source": []
  }
 ],
 "metadata": {
  "kernelspec": {
   "display_name": "Python 3 (ipykernel)",
   "language": "python",
   "name": "python3"
  },
  "language_info": {
   "codemirror_mode": {
    "name": "ipython",
    "version": 3
   },
   "file_extension": ".py",
   "mimetype": "text/x-python",
   "name": "python",
   "nbconvert_exporter": "python",
   "pygments_lexer": "ipython3",
   "version": "3.11.0"
  }
 },
 "nbformat": 4,
 "nbformat_minor": 5
}
