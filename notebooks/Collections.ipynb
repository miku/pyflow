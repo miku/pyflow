{
 "cells": [
  {
   "cell_type": "markdown",
   "id": "d11ffc6d",
   "metadata": {},
   "source": [
    "### Collections\n",
    "\n",
    "* namedtuple, dataclass\n",
    "* ordereddict\n",
    "* defaultdict\n",
    "* counter\n",
    "\n",
    "Sidenote: shelve\n",
    "\n",
    "----\n",
    "\n",
    "* UserDict\n",
    "* UserList\n",
    "* UserString"
   ]
  },
  {
   "cell_type": "markdown",
   "id": "60a9a92a",
   "metadata": {},
   "source": [
    "### Record like structures\n",
    "\n",
    "* namedtuple as a way to document tuple like structures\n",
    "* no performance overhead, drop in replacement\n",
    "* a class-generator"
   ]
  },
  {
   "cell_type": "code",
   "execution_count": 1,
   "id": "d5ac1e02",
   "metadata": {},
   "outputs": [],
   "source": [
    "import collections"
   ]
  },
  {
   "cell_type": "code",
   "execution_count": 2,
   "id": "30b70fda",
   "metadata": {},
   "outputs": [],
   "source": [
    "Record = collections.namedtuple(\"Record\", \"a b c\")"
   ]
  },
  {
   "cell_type": "code",
   "execution_count": 3,
   "id": "344e4eab",
   "metadata": {},
   "outputs": [],
   "source": [
    "record = Record(1, 2, 3)"
   ]
  },
  {
   "cell_type": "code",
   "execution_count": 4,
   "id": "3419ca2f",
   "metadata": {},
   "outputs": [
    {
     "data": {
      "text/plain": [
       "Record(a=1, b=2, c=3)"
      ]
     },
     "execution_count": 4,
     "metadata": {},
     "output_type": "execute_result"
    }
   ],
   "source": [
    "record"
   ]
  },
  {
   "cell_type": "code",
   "execution_count": 10,
   "id": "a69a912f",
   "metadata": {},
   "outputs": [],
   "source": [
    "# record = Record(b=2, c=3) # TypeError"
   ]
  },
  {
   "cell_type": "code",
   "execution_count": 11,
   "id": "6f3b226f",
   "metadata": {},
   "outputs": [],
   "source": [
    "record = Record(1, 2, c=3)"
   ]
  },
  {
   "cell_type": "code",
   "execution_count": 12,
   "id": "1062ad34",
   "metadata": {},
   "outputs": [
    {
     "data": {
      "text/plain": [
       "{'a': 1, 'b': 2, 'c': 3}"
      ]
     },
     "execution_count": 12,
     "metadata": {},
     "output_type": "execute_result"
    }
   ],
   "source": [
    "record._asdict()"
   ]
  },
  {
   "cell_type": "code",
   "execution_count": 14,
   "id": "310d2c67",
   "metadata": {},
   "outputs": [
    {
     "data": {
      "text/plain": [
       "{}"
      ]
     },
     "execution_count": 14,
     "metadata": {},
     "output_type": "execute_result"
    }
   ],
   "source": [
    "record._field_defaults"
   ]
  },
  {
   "cell_type": "markdown",
   "id": "6db1f92e",
   "metadata": {},
   "source": [
    "> defaults can be None or an iterable of default values. Since fields with a default value must come after any fields without a default, the defaults are applied to the rightmost parameters. For example, if the fieldnames are ['x', 'y', 'z'] and the defaults are (1, 2), then x will be a required argument, y will default to 1, and z will default to 2."
   ]
  },
  {
   "cell_type": "code",
   "execution_count": 19,
   "id": "b2e45317",
   "metadata": {},
   "outputs": [],
   "source": [
    "Record = collections.namedtuple(\"Record\", \"a b c\", defaults=[None, None, 100])"
   ]
  },
  {
   "cell_type": "code",
   "execution_count": 20,
   "id": "639525e6",
   "metadata": {},
   "outputs": [],
   "source": [
    "record = Record(1, 2)"
   ]
  },
  {
   "cell_type": "code",
   "execution_count": 21,
   "id": "8589cc84",
   "metadata": {},
   "outputs": [
    {
     "data": {
      "text/plain": [
       "Record(a=1, b=2, c=100)"
      ]
     },
     "execution_count": 21,
     "metadata": {},
     "output_type": "execute_result"
    }
   ],
   "source": [
    "record"
   ]
  },
  {
   "cell_type": "code",
   "execution_count": 23,
   "id": "6f5549c3",
   "metadata": {},
   "outputs": [],
   "source": [
    "Record = collections.namedtuple(\"Record\", \"a b c\", defaults=[100]) # would also be \"c\""
   ]
  },
  {
   "cell_type": "code",
   "execution_count": 25,
   "id": "c2166360",
   "metadata": {},
   "outputs": [],
   "source": [
    "record = Record(1, 2)"
   ]
  },
  {
   "cell_type": "code",
   "execution_count": 26,
   "id": "23186635",
   "metadata": {},
   "outputs": [
    {
     "data": {
      "text/plain": [
       "Record(a=1, b=2, c=100)"
      ]
     },
     "execution_count": 26,
     "metadata": {},
     "output_type": "execute_result"
    }
   ],
   "source": [
    "record"
   ]
  },
  {
   "cell_type": "code",
   "execution_count": 28,
   "id": "8a102828",
   "metadata": {},
   "outputs": [],
   "source": [
    "# record = Record(1) # TypeError"
   ]
  },
  {
   "cell_type": "markdown",
   "id": "15f10da3",
   "metadata": {},
   "source": [
    "Note: \n",
    "    \n",
    "* you should consider a namedtuple, if you depend on tuple indexing"
   ]
  },
  {
   "cell_type": "markdown",
   "id": "5708e7f3",
   "metadata": {},
   "source": [
    "### DataClasses\n",
    "\n",
    "A data class is a record like structure. It main idea is to automatically provide useful methods.\n",
    "\n",
    "> automatically adding generated special methods\n",
    "\n",
    "* new in 3.7\n"
   ]
  },
  {
   "cell_type": "code",
   "execution_count": 32,
   "id": "01696570",
   "metadata": {},
   "outputs": [],
   "source": [
    "from dataclasses import dataclass\n",
    "\n",
    "@dataclass\n",
    "class InventoryItem:\n",
    "    \"\"\"Class for keeping track of an item in inventory.\"\"\"\n",
    "    name: str\n",
    "    unit_price: float\n",
    "    quantity_on_hand: int = 0\n",
    "\n",
    "    def total_cost(self) -> float:\n",
    "        return self.unit_price * self.quantity_on_hand"
   ]
  },
  {
   "cell_type": "code",
   "execution_count": 35,
   "id": "22003b1a",
   "metadata": {},
   "outputs": [
    {
     "data": {
      "text/plain": [
       "<function __main__.__create_fn__.<locals>.__init__(self, name: str, unit_price: float, quantity_on_hand: int = 0) -> None>"
      ]
     },
     "execution_count": 35,
     "metadata": {},
     "output_type": "execute_result"
    }
   ],
   "source": [
    "InventoryItem.__init__"
   ]
  },
  {
   "cell_type": "code",
   "execution_count": 36,
   "id": "db65f1aa",
   "metadata": {},
   "outputs": [],
   "source": [
    "import inspect"
   ]
  },
  {
   "cell_type": "code",
   "execution_count": 44,
   "id": "0e1e9da9",
   "metadata": {},
   "outputs": [
    {
     "data": {
      "text/plain": [
       "<function __main__.__create_fn__.<locals>.__init__(self, name: str, unit_price: float, quantity_on_hand: int = 0) -> None>"
      ]
     },
     "execution_count": 44,
     "metadata": {},
     "output_type": "execute_result"
    }
   ],
   "source": [
    "InventoryItem.__init__"
   ]
  },
  {
   "cell_type": "markdown",
   "id": "56ddd92f",
   "metadata": {},
   "source": [
    "The dataclass constructor allows for some customization:\n",
    "    \n",
    "> init=True, repr=True, eq=True, order=False, unsafe_hash=False, frozen=False, match_args=True, kw_only=False, slots=False, weakref_slot=False"
   ]
  },
  {
   "cell_type": "markdown",
   "id": "d2ab4884",
   "metadata": {},
   "source": [
    ">  A field is defined as a class variable that has a type annotation. With two exceptions described below, nothing in dataclass() examines the type specified in the variable annotation."
   ]
  },
  {
   "cell_type": "code",
   "execution_count": 45,
   "id": "1a64015b",
   "metadata": {},
   "outputs": [],
   "source": [
    "@dataclass\n",
    "class Example:\n",
    "    a : int\n",
    "    b : str"
   ]
  },
  {
   "cell_type": "code",
   "execution_count": 47,
   "id": "b8a00cc3",
   "metadata": {},
   "outputs": [],
   "source": [
    "ex = Example(a=1.0, b=\"ok\")"
   ]
  },
  {
   "cell_type": "code",
   "execution_count": 48,
   "id": "11f33970",
   "metadata": {},
   "outputs": [
    {
     "data": {
      "text/plain": [
       "Example(a=1.0, b='ok')"
      ]
     },
     "execution_count": 48,
     "metadata": {},
     "output_type": "execute_result"
    }
   ],
   "source": [
    "ex"
   ]
  },
  {
   "cell_type": "markdown",
   "id": "ef6a9e41",
   "metadata": {},
   "source": [
    "Additional machinery will be required to ensure type safety."
   ]
  },
  {
   "cell_type": "markdown",
   "id": "d229d96a",
   "metadata": {},
   "source": [
    "> [unsafe_hash]: If eq and frozen are both true, by default dataclass() will generate a __hash__() method for you. If eq is true and frozen is false, __hash__() will be set to None, marking it unhashable (which it is, since it is mutable). \n",
    "\n",
    "...\n",
    "\n",
    "> frozen: If true (the default is False), assigning to fields will generate an exception. This emulates read-only frozen instances."
   ]
  },
  {
   "cell_type": "markdown",
   "id": "84929ee7",
   "metadata": {},
   "source": [
    "Special field options.\n",
    "\n",
    "> For common and simple use cases, no other functionality is required. There are, however, some dataclass features that require additional per-field information. To satisfy this need for additional information, you can replace the default field value with a call to the provided field() function."
   ]
  },
  {
   "cell_type": "code",
   "execution_count": 54,
   "id": "dee1cdf9",
   "metadata": {},
   "outputs": [],
   "source": [
    "from dataclasses import field\n",
    "from typing import List"
   ]
  },
  {
   "cell_type": "code",
   "execution_count": 56,
   "id": "56b5139e",
   "metadata": {},
   "outputs": [],
   "source": [
    "@dataclass\n",
    "class C:\n",
    "    mylist: List[int] = field(default_factory=list)\n"
   ]
  },
  {
   "cell_type": "code",
   "execution_count": 57,
   "id": "33c4dc0a",
   "metadata": {},
   "outputs": [],
   "source": [
    "c = C()\n",
    "c.mylist += [1, 2, 3]"
   ]
  },
  {
   "cell_type": "code",
   "execution_count": 58,
   "id": "c699a621",
   "metadata": {},
   "outputs": [
    {
     "data": {
      "text/plain": [
       "C(mylist=[1, 2, 3])"
      ]
     },
     "execution_count": 58,
     "metadata": {},
     "output_type": "execute_result"
    }
   ],
   "source": [
    "c"
   ]
  },
  {
   "cell_type": "markdown",
   "id": "03ac6b70",
   "metadata": {},
   "source": [
    "Argument for field:\n",
    "    \n",
    "> default=MISSING, default_factory=MISSING, init=True, repr=True, hash=None, compare=True, metadata=None, kw_only=MISSING"
   ]
  },
  {
   "cell_type": "markdown",
   "id": "b4913657",
   "metadata": {},
   "source": [
    "Other representations:\n",
    "    \n",
    "* tuple\n",
    "* json?"
   ]
  },
  {
   "cell_type": "code",
   "execution_count": 59,
   "id": "04f3b40e",
   "metadata": {},
   "outputs": [],
   "source": [
    "@dataclass\n",
    "class Example:\n",
    "    a : int\n",
    "    b : str"
   ]
  },
  {
   "cell_type": "code",
   "execution_count": 60,
   "id": "b9fdcfb5",
   "metadata": {},
   "outputs": [],
   "source": [
    "ex = Example(a=1, b=\"hello\")"
   ]
  },
  {
   "cell_type": "code",
   "execution_count": 62,
   "id": "6cbcab48",
   "metadata": {},
   "outputs": [],
   "source": [
    "import dataclasses"
   ]
  },
  {
   "cell_type": "code",
   "execution_count": 63,
   "id": "9cbdd764",
   "metadata": {},
   "outputs": [
    {
     "data": {
      "text/plain": [
       "(1, 'hello')"
      ]
     },
     "execution_count": 63,
     "metadata": {},
     "output_type": "execute_result"
    }
   ],
   "source": [
    "dataclasses.astuple(ex)"
   ]
  },
  {
   "cell_type": "code",
   "execution_count": 64,
   "id": "683afba6",
   "metadata": {},
   "outputs": [
    {
     "data": {
      "text/plain": [
       "{'a': 1, 'b': 'hello'}"
      ]
     },
     "execution_count": 64,
     "metadata": {},
     "output_type": "execute_result"
    }
   ],
   "source": [
    "dataclasses.asdict(ex)"
   ]
  },
  {
   "cell_type": "code",
   "execution_count": 65,
   "id": "4e50a564",
   "metadata": {},
   "outputs": [],
   "source": [
    "import json"
   ]
  },
  {
   "cell_type": "code",
   "execution_count": 67,
   "id": "02f6154e",
   "metadata": {},
   "outputs": [],
   "source": [
    "# json.dumps(ex) # TypeError"
   ]
  },
  {
   "cell_type": "code",
   "execution_count": 68,
   "id": "1f0dc03c",
   "metadata": {},
   "outputs": [
    {
     "data": {
      "text/plain": [
       "'{\"a\": 1, \"b\": \"hello\"}'"
      ]
     },
     "execution_count": 68,
     "metadata": {},
     "output_type": "execute_result"
    }
   ],
   "source": [
    "json.dumps(dataclasses.asdict(ex))"
   ]
  },
  {
   "cell_type": "markdown",
   "id": "f4f56ec3",
   "metadata": {},
   "source": [
    "Other serialization problems may persist (e.g. set)."
   ]
  },
  {
   "cell_type": "markdown",
   "id": "45cddc34",
   "metadata": {},
   "source": [
    "Post-init processing\n",
    "\n",
    "* there is a hook called after `__init__`, called `__post_init__`\n",
    "\n"
   ]
  },
  {
   "cell_type": "code",
   "execution_count": 69,
   "id": "ddeaa2b2",
   "metadata": {},
   "outputs": [],
   "source": [
    "@dataclass\n",
    "class C:\n",
    "    a: float\n",
    "    b: float\n",
    "    c: float = field(init=False)\n",
    "\n",
    "    def __post_init__(self):\n",
    "        self.c = self.a + self.b"
   ]
  },
  {
   "cell_type": "code",
   "execution_count": 71,
   "id": "7e676e0c",
   "metadata": {},
   "outputs": [],
   "source": [
    "c = C(a=1, b=2)"
   ]
  },
  {
   "cell_type": "code",
   "execution_count": 72,
   "id": "20136d1c",
   "metadata": {},
   "outputs": [
    {
     "data": {
      "text/plain": [
       "C(a=1, b=2, c=3)"
      ]
     },
     "execution_count": 72,
     "metadata": {},
     "output_type": "execute_result"
    }
   ],
   "source": [
    "c"
   ]
  },
  {
   "cell_type": "markdown",
   "id": "9e599bb7",
   "metadata": {},
   "source": [
    "\n",
    "### Custom dictionaries\n",
    "\n",
    "\n",
    "* OrderedDict\n",
    "* defaultdict\n",
    "* Counter"
   ]
  },
  {
   "cell_type": "markdown",
   "id": "0ef66edc",
   "metadata": {},
   "source": [
    "### Subclassing builtin types\n",
    "\n",
    "Various options: subclass `str`, `list`, `dict` directly or use:\n",
    "\n",
    "* UserString\n",
    "* UserList\n",
    "* UserDict\n",
    "\n",
    "Additionally, we could use an ABC (e.g. abc.MutableMapping for a dictionary).\n",
    "\n",
    "Use cases:\n",
    "\n",
    "* ABC, if subclass is very different\n",
    "* UserX come from a time, where a subclassing builtin was not possible\n",
    "\n",
    "Still, UserX approach has an advantage as they require less adjustment, boilerplate.\n",
    "\n"
   ]
  },
  {
   "cell_type": "markdown",
   "id": "842fbe35",
   "metadata": {},
   "source": [
    "**Task**: Create a dictionary that allows \"dot\" access."
   ]
  },
  {
   "cell_type": "code",
   "execution_count": 2,
   "id": "49cbf292",
   "metadata": {},
   "outputs": [],
   "source": [
    "import collections"
   ]
  },
  {
   "cell_type": "code",
   "execution_count": 54,
   "id": "3b560a4e",
   "metadata": {},
   "outputs": [
    {
     "data": {
      "text/plain": [
       "type"
      ]
     },
     "execution_count": 54,
     "metadata": {},
     "output_type": "execute_result"
    }
   ],
   "source": [
    "type(dict)"
   ]
  },
  {
   "cell_type": "code",
   "execution_count": null,
   "id": "3cd594a9",
   "metadata": {},
   "outputs": [],
   "source": []
  }
 ],
 "metadata": {
  "kernelspec": {
   "display_name": "Python 3",
   "language": "python",
   "name": "python3"
  },
  "language_info": {
   "codemirror_mode": {
    "name": "ipython",
    "version": 3
   },
   "file_extension": ".py",
   "mimetype": "text/x-python",
   "name": "python",
   "nbconvert_exporter": "python",
   "pygments_lexer": "ipython3",
   "version": "3.11.0"
  },
  "vscode": {
   "interpreter": {
    "hash": "987e1c59e16692332f84c16e66ffbce6ede9bdd24f16447e91626eb5cedd0d9c"
   }
  }
 },
 "nbformat": 4,
 "nbformat_minor": 5
}
