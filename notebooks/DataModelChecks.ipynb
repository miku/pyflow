{
 "cells": [
  {
   "cell_type": "markdown",
   "id": "d4c68e57",
   "metadata": {},
   "source": [
    "### Customizing instance and subclass checks"
   ]
  },
  {
   "cell_type": "markdown",
   "id": "e84eaab7",
   "metadata": {},
   "source": [
    "* `class.__instancecheck__(self, instance)`\n",
    "* `class.__subclasscheck__(self, subclass)`"
   ]
  },
  {
   "cell_type": "code",
   "execution_count": 21,
   "id": "1c17c9f2",
   "metadata": {},
   "outputs": [],
   "source": [
    "class CM(type):\n",
    "    def __instancecheck__(cls, instance):\n",
    "        print(instance)\n",
    "        return True\n",
    "    \n",
    "    def __subclasscheck__(cls, subclass):\n",
    "        print(subclass)\n",
    "        return True  "
   ]
  },
  {
   "cell_type": "code",
   "execution_count": 22,
   "id": "a3604855",
   "metadata": {},
   "outputs": [],
   "source": [
    "class A(metaclass=CM):\n",
    "    pass"
   ]
  },
  {
   "cell_type": "code",
   "execution_count": 29,
   "id": "f49a1baa",
   "metadata": {},
   "outputs": [
    {
     "name": "stdout",
     "output_type": "stream",
     "text": [
      "abc\n"
     ]
    },
    {
     "data": {
      "text/plain": [
       "True"
      ]
     },
     "execution_count": 29,
     "metadata": {},
     "output_type": "execute_result"
    }
   ],
   "source": [
    "A.__instancecheck__(\"abc\")"
   ]
  },
  {
   "cell_type": "code",
   "execution_count": 31,
   "id": "b90d203c",
   "metadata": {},
   "outputs": [
    {
     "name": "stdout",
     "output_type": "stream",
     "text": [
      "abc\n"
     ]
    },
    {
     "data": {
      "text/plain": [
       "True"
      ]
     },
     "execution_count": 31,
     "metadata": {},
     "output_type": "execute_result"
    }
   ],
   "source": [
    "isinstance(\"abc\", A)"
   ]
  },
  {
   "cell_type": "code",
   "execution_count": 32,
   "id": "624e6708",
   "metadata": {},
   "outputs": [
    {
     "name": "stdout",
     "output_type": "stream",
     "text": [
      "<class 'str'>\n"
     ]
    },
    {
     "data": {
      "text/plain": [
       "True"
      ]
     },
     "execution_count": 32,
     "metadata": {},
     "output_type": "execute_result"
    }
   ],
   "source": [
    "issubclass(str, A)"
   ]
  },
  {
   "cell_type": "code",
   "execution_count": null,
   "id": "2ac3f877",
   "metadata": {},
   "outputs": [],
   "source": []
  }
 ],
 "metadata": {
  "kernelspec": {
   "display_name": "Python 3 (ipykernel)",
   "language": "python",
   "name": "python3"
  },
  "language_info": {
   "codemirror_mode": {
    "name": "ipython",
    "version": 3
   },
   "file_extension": ".py",
   "mimetype": "text/x-python",
   "name": "python",
   "nbconvert_exporter": "python",
   "pygments_lexer": "ipython3",
   "version": "3.8.15"
  }
 },
 "nbformat": 4,
 "nbformat_minor": 5
}
