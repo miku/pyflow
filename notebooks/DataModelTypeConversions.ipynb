{
 "cells": [
  {
   "cell_type": "markdown",
   "id": "31ed241c",
   "metadata": {},
   "source": [
    "## Type conversion\n",
    "\n",
    "\n",
    "* `__int__`\n",
    "* `__float__`\n",
    "* `__complex__`\n",
    "* `__oct__`\n",
    "* `__hex__`\n",
    "* `__bool__`\n",
    "* `__index__`\n",
    "* `__trunc__`"
   ]
  },
  {
   "cell_type": "code",
   "execution_count": 8,
   "id": "cce27c8a",
   "metadata": {},
   "outputs": [],
   "source": [
    "class Word(str):\n",
    "    def __int__(self):\n",
    "        match self.lower():\n",
    "            case \"one\":\n",
    "                return 1\n",
    "            case \"two\":\n",
    "                return 2\n",
    "            case \"three\":\n",
    "                return 3\n",
    "        raise ValueError(\"no int representation\")"
   ]
  },
  {
   "cell_type": "code",
   "execution_count": 3,
   "id": "244fb8f6",
   "metadata": {},
   "outputs": [],
   "source": [
    "w = Word(\"two\")"
   ]
  },
  {
   "cell_type": "code",
   "execution_count": 4,
   "id": "8887bd93",
   "metadata": {},
   "outputs": [
    {
     "data": {
      "text/plain": [
       "2"
      ]
     },
     "execution_count": 4,
     "metadata": {},
     "output_type": "execute_result"
    }
   ],
   "source": [
    "int(w)"
   ]
  },
  {
   "cell_type": "markdown",
   "id": "93471e7e",
   "metadata": {},
   "source": [
    "### Truthiness with bool"
   ]
  },
  {
   "cell_type": "markdown",
   "id": "a236dd23",
   "metadata": {},
   "source": [
    "In Python 2 we had `__nonzero__`, which can be replaced by `__bool__`."
   ]
  },
  {
   "cell_type": "code",
   "execution_count": 2,
   "id": "13c28877",
   "metadata": {},
   "outputs": [],
   "source": [
    "class A:\n",
    "    def __bool__(self):\n",
    "        return self.a + self.b == 0\n",
    "    \n",
    "    def __init__(self):\n",
    "        self.a = 1\n",
    "        self.b = -1"
   ]
  },
  {
   "cell_type": "code",
   "execution_count": 3,
   "id": "04e9b179",
   "metadata": {},
   "outputs": [],
   "source": [
    "a = A()"
   ]
  },
  {
   "cell_type": "code",
   "execution_count": 5,
   "id": "aa02fb19",
   "metadata": {},
   "outputs": [
    {
     "data": {
      "text/plain": [
       "True"
      ]
     },
     "execution_count": 5,
     "metadata": {},
     "output_type": "execute_result"
    }
   ],
   "source": [
    "bool(a)"
   ]
  },
  {
   "cell_type": "code",
   "execution_count": 6,
   "id": "8890cca8",
   "metadata": {},
   "outputs": [],
   "source": [
    "a.a = 2"
   ]
  },
  {
   "cell_type": "code",
   "execution_count": 7,
   "id": "acb393b4",
   "metadata": {},
   "outputs": [
    {
     "data": {
      "text/plain": [
       "False"
      ]
     },
     "execution_count": 7,
     "metadata": {},
     "output_type": "execute_result"
    }
   ],
   "source": [
    "bool(a)"
   ]
  },
  {
   "cell_type": "code",
   "execution_count": null,
   "id": "c88a773d",
   "metadata": {},
   "outputs": [],
   "source": []
  }
 ],
 "metadata": {
  "kernelspec": {
   "display_name": "Python 3 (ipykernel)",
   "language": "python",
   "name": "python3"
  },
  "language_info": {
   "codemirror_mode": {
    "name": "ipython",
    "version": 3
   },
   "file_extension": ".py",
   "mimetype": "text/x-python",
   "name": "python",
   "nbconvert_exporter": "python",
   "pygments_lexer": "ipython3",
   "version": "3.11.0"
  }
 },
 "nbformat": 4,
 "nbformat_minor": 5
}
