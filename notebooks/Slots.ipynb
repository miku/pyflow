{
 "cells": [
  {
   "cell_type": "markdown",
   "id": "5fedd086",
   "metadata": {},
   "source": [
    "### Slots"
   ]
  },
  {
   "cell_type": "markdown",
   "id": "4149da69",
   "metadata": {},
   "source": [
    "By default, we can assign a value to an attribute of an instance, that we have not defined or used before."
   ]
  },
  {
   "cell_type": "code",
   "execution_count": 16,
   "id": "95c6bc31",
   "metadata": {},
   "outputs": [],
   "source": [
    "class A:\n",
    "    def __init__(self):\n",
    "        self.x = 1\n",
    "        self.y = 2\n"
   ]
  },
  {
   "cell_type": "code",
   "execution_count": 17,
   "id": "986d6cf1",
   "metadata": {},
   "outputs": [],
   "source": [
    "a = A()"
   ]
  },
  {
   "cell_type": "code",
   "execution_count": 18,
   "id": "f34c2129",
   "metadata": {},
   "outputs": [
    {
     "data": {
      "text/plain": [
       "(1, 2)"
      ]
     },
     "execution_count": 18,
     "metadata": {},
     "output_type": "execute_result"
    }
   ],
   "source": [
    "a.x, a.y"
   ]
  },
  {
   "cell_type": "code",
   "execution_count": 15,
   "id": "2a1a5473",
   "metadata": {},
   "outputs": [],
   "source": [
    "a.z = 3"
   ]
  },
  {
   "cell_type": "markdown",
   "id": "63f42189",
   "metadata": {},
   "source": [
    "Slots can limit this"
   ]
  },
  {
   "cell_type": "code",
   "execution_count": 36,
   "id": "74d4f2e8",
   "metadata": {},
   "outputs": [],
   "source": [
    "class A:\n",
    "    __slots__ = ('x', 'y')\n",
    "    \n",
    "    def __init__(self):\n",
    "        self.x = 1\n",
    "        self.y = 2\n"
   ]
  },
  {
   "cell_type": "markdown",
   "id": "12dbdb1e",
   "metadata": {},
   "source": [
    "Without a __dict__ variable, instances cannot be assigned new variables not listed in the __slots__ definition. Attempts to assign to an unlisted variable name raises AttributeError. If dynamic assignment of new variables is desired, then add '__dict__' to the sequence of strings in the __slots__ declaration."
   ]
  },
  {
   "cell_type": "code",
   "execution_count": 37,
   "id": "6163ad45",
   "metadata": {},
   "outputs": [],
   "source": [
    "a = A()"
   ]
  },
  {
   "cell_type": "code",
   "execution_count": 38,
   "id": "fa2a2e65",
   "metadata": {},
   "outputs": [],
   "source": [
    "# a.__dict__ # AttributeError: 'A' object has no attribute '__dict__'"
   ]
  },
  {
   "cell_type": "code",
   "execution_count": 39,
   "id": "6748a543",
   "metadata": {},
   "outputs": [
    {
     "data": {
      "text/plain": [
       "1"
      ]
     },
     "execution_count": 39,
     "metadata": {},
     "output_type": "execute_result"
    }
   ],
   "source": [
    "a.x "
   ]
  },
  {
   "cell_type": "code",
   "execution_count": 40,
   "id": "03020a50",
   "metadata": {},
   "outputs": [],
   "source": [
    "a.x = 2"
   ]
  },
  {
   "cell_type": "code",
   "execution_count": 41,
   "id": "681fcc4f",
   "metadata": {},
   "outputs": [],
   "source": [
    "# a.z = 3 # AttributeError: 'A' object has no attribute 'z'"
   ]
  },
  {
   "cell_type": "markdown",
   "id": "9e457e8f",
   "metadata": {},
   "source": [
    "> Without a __dict__ variable, instances cannot be assigned new variables not listed in the __slots__ definition. Attempts to assign to an unlisted variable name raises AttributeError. If dynamic assignment of new variables is desired, then add '__dict__' to the sequence of strings in the __slots__ declaration."
   ]
  },
  {
   "cell_type": "code",
   "execution_count": 42,
   "id": "410a5379",
   "metadata": {},
   "outputs": [],
   "source": [
    "class B:\n",
    "    __slots__ = ('x', 'y', '__dict__')\n",
    "    \n",
    "    def __init__(self):\n",
    "        self.x = 1\n",
    "        self.y = 2"
   ]
  },
  {
   "cell_type": "code",
   "execution_count": 43,
   "id": "9508aeb5",
   "metadata": {},
   "outputs": [],
   "source": [
    "b = B()"
   ]
  },
  {
   "cell_type": "code",
   "execution_count": 44,
   "id": "301edab5",
   "metadata": {},
   "outputs": [],
   "source": [
    "b.z = 3"
   ]
  },
  {
   "cell_type": "code",
   "execution_count": 45,
   "id": "7d7b8d62",
   "metadata": {},
   "outputs": [
    {
     "data": {
      "text/plain": [
       "{'z': 3}"
      ]
     },
     "execution_count": 45,
     "metadata": {},
     "output_type": "execute_result"
    }
   ],
   "source": [
    "b.__dict__"
   ]
  },
  {
   "cell_type": "markdown",
   "id": "a23a51f1",
   "metadata": {},
   "source": [
    "Sidenote about [weakref](https://docs.python.org/3/library/weakref.html#module-weakref).\n",
    "\n",
    "A weak reference to an object is excluded from GC rules. That is, if only weak refs remain, the GC may free the object.\n",
    "\n",
    "> A primary use for weak references is to implement caches or mappings holding large objects, where it’s desired that a large object not be kept alive solely because it appears in a cache or mapping.\n",
    "\n",
    "For example there is a [weakref.WeakKeyDictionary](https://docs.python.org/3/library/weakref.html#weakref.WeakKeyDictionary) and a variant for weak values.\n"
   ]
  },
  {
   "cell_type": "markdown",
   "id": "713a17f8",
   "metadata": {},
   "source": [
    "Some corner cases.\n",
    "\n",
    "> If a class defines a slot also defined in a base class, the instance variable defined by the base class slot is inaccessible (except by retrieving its descriptor directly from the base class). This renders the meaning of the program undefined. In the future, a check may be added to prevent this.m"
   ]
  },
  {
   "cell_type": "code",
   "execution_count": 48,
   "id": "1e595fbd",
   "metadata": {},
   "outputs": [],
   "source": [
    "class A:\n",
    "    __slots__ = ('a', 'b')\n",
    "    \n",
    "    def __init__(self):\n",
    "        self.a = 1\n",
    "        self.b = 2\n",
    "\n",
    "class B(A):\n",
    "    __slots__ = ('a', 'b')\n",
    "\n",
    "    def __init__(self):\n",
    "        self.a = 3\n",
    "        self.b = 4\n",
    "    "
   ]
  },
  {
   "cell_type": "code",
   "execution_count": 49,
   "id": "bc6c054a",
   "metadata": {},
   "outputs": [],
   "source": [
    "b = B()"
   ]
  },
  {
   "cell_type": "code",
   "execution_count": 50,
   "id": "47f8a888",
   "metadata": {},
   "outputs": [
    {
     "data": {
      "text/plain": [
       "3"
      ]
     },
     "execution_count": 50,
     "metadata": {},
     "output_type": "execute_result"
    }
   ],
   "source": [
    "b.a"
   ]
  },
  {
   "cell_type": "code",
   "execution_count": 51,
   "id": "919a2f9d",
   "metadata": {},
   "outputs": [
    {
     "data": {
      "text/plain": [
       "4"
      ]
     },
     "execution_count": 51,
     "metadata": {},
     "output_type": "execute_result"
    }
   ],
   "source": [
    "b.b"
   ]
  },
  {
   "cell_type": "code",
   "execution_count": 69,
   "id": "b4f11882",
   "metadata": {},
   "outputs": [],
   "source": [
    "b.__class__.__bases__[0].a.__set__(b, 10)"
   ]
  },
  {
   "cell_type": "code",
   "execution_count": 77,
   "id": "0c36ebb2",
   "metadata": {},
   "outputs": [
    {
     "data": {
      "text/plain": [
       "10"
      ]
     },
     "execution_count": 77,
     "metadata": {},
     "output_type": "execute_result"
    }
   ],
   "source": [
    "b.__class__.__bases__[0].a.__get__(b)"
   ]
  },
  {
   "cell_type": "code",
   "execution_count": null,
   "id": "aeed5571",
   "metadata": {},
   "outputs": [],
   "source": []
  }
 ],
 "metadata": {
  "kernelspec": {
   "display_name": "Python 3 (ipykernel)",
   "language": "python",
   "name": "python3"
  },
  "language_info": {
   "codemirror_mode": {
    "name": "ipython",
    "version": 3
   },
   "file_extension": ".py",
   "mimetype": "text/x-python",
   "name": "python",
   "nbconvert_exporter": "python",
   "pygments_lexer": "ipython3",
   "version": "3.11.0"
  }
 },
 "nbformat": 4,
 "nbformat_minor": 5
}
