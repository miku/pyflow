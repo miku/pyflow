{
 "cells": [
  {
   "cell_type": "markdown",
   "id": "71b241a9",
   "metadata": {},
   "source": [
    "### Class Decorators\n",
    "\n",
    "There are a few biult-in decorators:\n",
    "\n",
    "* staticmethod - Transform a method into a static method.\n",
    "* classmethod - Transform a method into a class method.\n",
    "* property - for computed attributes\n",
    "\n",
    "> Static methods in Python are similar to those found in Java or C++. Also, see classmethod() for a variant that is useful for creating alternate class constructors.\n",
    "\n",
    "Module `abc` provides some related decorators for abstract classes.\n",
    "\n",
    "* https://docs.python.org/3/library/abc.html#abc.ABCMeta\n",
    "\n",
    "\n"
   ]
  },
  {
   "cell_type": "code",
   "execution_count": 21,
   "id": "47136ec2",
   "metadata": {},
   "outputs": [],
   "source": [
    "class A:\n",
    "    @staticmethod\n",
    "    def f():\n",
    "        return 1"
   ]
  },
  {
   "cell_type": "code",
   "execution_count": 22,
   "id": "036240bc",
   "metadata": {},
   "outputs": [
    {
     "data": {
      "text/plain": [
       "1"
      ]
     },
     "execution_count": 22,
     "metadata": {},
     "output_type": "execute_result"
    }
   ],
   "source": [
    "A.f()"
   ]
  },
  {
   "cell_type": "code",
   "execution_count": 23,
   "id": "d1eff3fa",
   "metadata": {},
   "outputs": [],
   "source": [
    "class A:\n",
    "    @classmethod\n",
    "    def f(cls):\n",
    "        return f\"f on cls {cls}\""
   ]
  },
  {
   "cell_type": "code",
   "execution_count": 24,
   "id": "a188019a",
   "metadata": {},
   "outputs": [],
   "source": [
    "a = A()"
   ]
  },
  {
   "cell_type": "code",
   "execution_count": 25,
   "id": "9432e1e4",
   "metadata": {},
   "outputs": [
    {
     "data": {
      "text/plain": [
       "\"f on cls <class '__main__.A'>\""
      ]
     },
     "execution_count": 25,
     "metadata": {},
     "output_type": "execute_result"
    }
   ],
   "source": [
    "a.f()"
   ]
  },
  {
   "cell_type": "markdown",
   "id": "d9655c3e",
   "metadata": {},
   "source": [
    "### Adding a decorator to a class"
   ]
  },
  {
   "cell_type": "code",
   "execution_count": 26,
   "id": "095b3139",
   "metadata": {},
   "outputs": [],
   "source": [
    "def log(cls):\n",
    "    print(f\"log decorator on {cls}\")\n",
    "    return cls"
   ]
  },
  {
   "cell_type": "code",
   "execution_count": 27,
   "id": "780fd897",
   "metadata": {},
   "outputs": [
    {
     "name": "stdout",
     "output_type": "stream",
     "text": [
      "log decorator on <class '__main__.A'>\n"
     ]
    }
   ],
   "source": [
    "@log\n",
    "class A:\n",
    "    pass"
   ]
  },
  {
   "cell_type": "code",
   "execution_count": 28,
   "id": "88aa7bbb",
   "metadata": {},
   "outputs": [],
   "source": [
    "a = A()"
   ]
  },
  {
   "cell_type": "code",
   "execution_count": 29,
   "id": "b91eeeac",
   "metadata": {},
   "outputs": [],
   "source": [
    "a = 1"
   ]
  },
  {
   "cell_type": "code",
   "execution_count": 20,
   "id": "1e22117a",
   "metadata": {},
   "outputs": [
    {
     "data": {
      "text/plain": [
       "1"
      ]
     },
     "execution_count": 20,
     "metadata": {},
     "output_type": "execute_result"
    }
   ],
   "source": [
    "a"
   ]
  },
  {
   "cell_type": "code",
   "execution_count": null,
   "id": "780994d0",
   "metadata": {},
   "outputs": [],
   "source": []
  }
 ],
 "metadata": {
  "kernelspec": {
   "display_name": "Python 3 (ipykernel)",
   "language": "python",
   "name": "python3"
  },
  "language_info": {
   "codemirror_mode": {
    "name": "ipython",
    "version": 3
   },
   "file_extension": ".py",
   "mimetype": "text/x-python",
   "name": "python",
   "nbconvert_exporter": "python",
   "pygments_lexer": "ipython3",
   "version": "3.11.0"
  }
 },
 "nbformat": 4,
 "nbformat_minor": 5
}
