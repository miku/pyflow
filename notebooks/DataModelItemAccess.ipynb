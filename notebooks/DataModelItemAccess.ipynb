{
 "cells": [
  {
   "cell_type": "markdown",
   "id": "8bd5bc05",
   "metadata": {},
   "source": [
    "### Item access and container type emulation"
   ]
  },
  {
   "cell_type": "markdown",
   "id": "f3f8d629",
   "metadata": {},
   "source": [
    "Data model [docs](https://docs.python.org/3/reference/datamodel.html#emulating-container-types).\n",
    "\n",
    "* `__len__`\n",
    "* `__length_hint__` (This method is purely an optimization and is never required for correctness.)\n",
    "* `__getitem__`\n",
    "* `__setitem__`\n",
    "* `__delitem__`\n",
    "* `__missing__`\n",
    "* `__iter__`, `__next__`\n",
    "* `__reversed__`\n",
    "* `__contains__`"
   ]
  },
  {
   "cell_type": "markdown",
   "id": "d17f3cd6",
   "metadata": {},
   "source": [
    "These methods can be quite useful, as custom container types are more common."
   ]
  },
  {
   "cell_type": "code",
   "execution_count": 2,
   "id": "7800a07a",
   "metadata": {},
   "outputs": [],
   "source": [
    "class A:\n",
    "    def __len__(self):\n",
    "        return 10"
   ]
  },
  {
   "cell_type": "code",
   "execution_count": 3,
   "id": "3e556ad1",
   "metadata": {},
   "outputs": [],
   "source": [
    "a = A()"
   ]
  },
  {
   "cell_type": "code",
   "execution_count": 4,
   "id": "02b58b0b",
   "metadata": {},
   "outputs": [
    {
     "data": {
      "text/plain": [
       "10"
      ]
     },
     "execution_count": 4,
     "metadata": {},
     "output_type": "execute_result"
    }
   ],
   "source": [
    "len(a)"
   ]
  },
  {
   "cell_type": "markdown",
   "id": "0e3ec6f2",
   "metadata": {},
   "source": [
    "Example 2D board game using item access"
   ]
  },
  {
   "cell_type": "code",
   "execution_count": 10,
   "id": "00427a3f",
   "metadata": {},
   "outputs": [],
   "source": [
    "class Game:\n",
    "    \n",
    "    def __init__(self, w=5, h=5):\n",
    "        self.w = w\n",
    "        self.h = h\n",
    "        self.grid = [0 for _ in range(w * h)]\n",
    "    \n",
    "    def __getitem__(self, key):\n",
    "        print(f\"__getitem__ {key}\")"
   ]
  },
  {
   "cell_type": "code",
   "execution_count": 11,
   "id": "d97c0a5f",
   "metadata": {},
   "outputs": [],
   "source": [
    "g = Game()"
   ]
  },
  {
   "cell_type": "code",
   "execution_count": 12,
   "id": "3a1b66ce",
   "metadata": {},
   "outputs": [
    {
     "name": "stdout",
     "output_type": "stream",
     "text": [
      "__getitem__ 0\n"
     ]
    }
   ],
   "source": [
    "g[0]"
   ]
  },
  {
   "cell_type": "markdown",
   "id": "62a94ee7",
   "metadata": {},
   "source": [
    "Key can also be a tuple."
   ]
  },
  {
   "cell_type": "code",
   "execution_count": 44,
   "id": "f25ded90",
   "metadata": {},
   "outputs": [],
   "source": [
    "class Game:\n",
    "    \n",
    "    def __init__(self, w=5, h=5):\n",
    "        self.w = w\n",
    "        self.h = h\n",
    "        self.grid = [i for i in range(w * h)]\n",
    "    \n",
    "    def __getitem__(self, key):\n",
    "        if len(key) != 2:\n",
    "            raise ValueError(\"tuple required\")\n",
    "        row, col = key\n",
    "        return self.grid[col + self.w * row]\n",
    "    "
   ]
  },
  {
   "cell_type": "code",
   "execution_count": 45,
   "id": "a95a009c",
   "metadata": {},
   "outputs": [],
   "source": [
    "g = Game()"
   ]
  },
  {
   "cell_type": "code",
   "execution_count": 46,
   "id": "748fbfcc",
   "metadata": {},
   "outputs": [
    {
     "data": {
      "text/plain": [
       "(5, 5)"
      ]
     },
     "execution_count": 46,
     "metadata": {},
     "output_type": "execute_result"
    }
   ],
   "source": [
    "g.w, g.h"
   ]
  },
  {
   "cell_type": "code",
   "execution_count": 47,
   "id": "07ca6c46",
   "metadata": {},
   "outputs": [
    {
     "data": {
      "text/plain": [
       "25"
      ]
     },
     "execution_count": 47,
     "metadata": {},
     "output_type": "execute_result"
    }
   ],
   "source": [
    "len(g.grid)"
   ]
  },
  {
   "cell_type": "code",
   "execution_count": 48,
   "id": "27d4079e",
   "metadata": {},
   "outputs": [
    {
     "data": {
      "text/plain": [
       "0"
      ]
     },
     "execution_count": 48,
     "metadata": {},
     "output_type": "execute_result"
    }
   ],
   "source": [
    "g[0, 0]"
   ]
  },
  {
   "cell_type": "code",
   "execution_count": 49,
   "id": "5e579cb6",
   "metadata": {},
   "outputs": [
    {
     "data": {
      "text/plain": [
       "1"
      ]
     },
     "execution_count": 49,
     "metadata": {},
     "output_type": "execute_result"
    }
   ],
   "source": [
    "g[0, 1]"
   ]
  },
  {
   "cell_type": "code",
   "execution_count": 50,
   "id": "39aa5e90",
   "metadata": {},
   "outputs": [
    {
     "data": {
      "text/plain": [
       "4"
      ]
     },
     "execution_count": 50,
     "metadata": {},
     "output_type": "execute_result"
    }
   ],
   "source": [
    "g[0, 4]"
   ]
  },
  {
   "cell_type": "code",
   "execution_count": 51,
   "id": "b4b56520",
   "metadata": {},
   "outputs": [
    {
     "name": "stdout",
     "output_type": "stream",
     "text": [
      "   0    1    2    3    4 \n",
      "   5    6    7    8    9 \n",
      "  10   11   12   13   14 \n",
      "  15   16   17   18   19 \n",
      "  20   21   22   23   24 \n"
     ]
    }
   ],
   "source": [
    "for i in range(g.h):\n",
    "    for j in range(g.w):\n",
    "        print(\"{: 4d}\".format(g[i, j]), end=\" \")\n",
    "    print()"
   ]
  },
  {
   "cell_type": "code",
   "execution_count": 53,
   "id": "c479e237",
   "metadata": {},
   "outputs": [],
   "source": [
    "### Missing"
   ]
  },
  {
   "cell_type": "code",
   "execution_count": 60,
   "id": "498fb2db",
   "metadata": {},
   "outputs": [],
   "source": [
    "class A(dict):\n",
    "    \n",
    "    def __missing__(self, key):\n",
    "        print(\"__missing__\")"
   ]
  },
  {
   "cell_type": "code",
   "execution_count": 61,
   "id": "33cbc87e",
   "metadata": {},
   "outputs": [],
   "source": [
    "a = A()"
   ]
  },
  {
   "cell_type": "code",
   "execution_count": 62,
   "id": "aa669a57",
   "metadata": {},
   "outputs": [
    {
     "name": "stdout",
     "output_type": "stream",
     "text": [
      "__missing__\n"
     ]
    }
   ],
   "source": [
    "a[\"a\"]"
   ]
  },
  {
   "cell_type": "markdown",
   "id": "29d41912",
   "metadata": {},
   "source": [
    "### Iteration\n",
    "\n",
    "* `__iter__`\n",
    "\n",
    "> This method is called when an iterator is required for a container. This method should return a new iterator object that can iterate over all the objects in the container. For mappings, it should iterate over the keys of the container."
   ]
  },
  {
   "cell_type": "code",
   "execution_count": 67,
   "id": "2b533a07",
   "metadata": {},
   "outputs": [],
   "source": [
    "class A:\n",
    "    \n",
    "    def __iter__(self):\n",
    "        return self\n",
    "    \n",
    "    def __next__(self):\n",
    "        return 1"
   ]
  },
  {
   "cell_type": "code",
   "execution_count": 68,
   "id": "a1b9f5a6",
   "metadata": {},
   "outputs": [],
   "source": [
    "a = A()"
   ]
  },
  {
   "cell_type": "code",
   "execution_count": 69,
   "id": "05311b21",
   "metadata": {},
   "outputs": [
    {
     "data": {
      "text/plain": [
       "<__main__.A at 0x7f35fefad690>"
      ]
     },
     "execution_count": 69,
     "metadata": {},
     "output_type": "execute_result"
    }
   ],
   "source": [
    "iter(a)"
   ]
  },
  {
   "cell_type": "code",
   "execution_count": 70,
   "id": "6f63de4f",
   "metadata": {},
   "outputs": [
    {
     "data": {
      "text/plain": [
       "1"
      ]
     },
     "execution_count": 70,
     "metadata": {},
     "output_type": "execute_result"
    }
   ],
   "source": [
    "next(a)"
   ]
  },
  {
   "cell_type": "markdown",
   "id": "92e6812f",
   "metadata": {},
   "source": [
    "Task: Random iterable"
   ]
  },
  {
   "cell_type": "code",
   "execution_count": 71,
   "id": "8da6548d",
   "metadata": {},
   "outputs": [],
   "source": [
    "import random\n",
    "\n",
    "class RandomIterable:\n",
    "    def __iter__(self):\n",
    "        return self\n",
    "    def __next__(self):\n",
    "        if random.choice([\"go\", \"go\", \"stop\"]) == \"stop\":\n",
    "            raise StopIteration  # signals \"the end\"\n",
    "        return 1"
   ]
  },
  {
   "cell_type": "code",
   "execution_count": 72,
   "id": "21c06ae4",
   "metadata": {},
   "outputs": [],
   "source": [
    "import itertools"
   ]
  },
  {
   "cell_type": "code",
   "execution_count": 77,
   "id": "73301909",
   "metadata": {},
   "outputs": [],
   "source": [
    "for i in itertools.islice(RandomIterable(), 10, 20):\n",
    "    print(i)"
   ]
  },
  {
   "cell_type": "code",
   "execution_count": null,
   "id": "04fe8b6a",
   "metadata": {},
   "outputs": [],
   "source": []
  }
 ],
 "metadata": {
  "kernelspec": {
   "display_name": "Python 3 (ipykernel)",
   "language": "python",
   "name": "python3"
  },
  "language_info": {
   "codemirror_mode": {
    "name": "ipython",
    "version": 3
   },
   "file_extension": ".py",
   "mimetype": "text/x-python",
   "name": "python",
   "nbconvert_exporter": "python",
   "pygments_lexer": "ipython3",
   "version": "3.11.0"
  }
 },
 "nbformat": 4,
 "nbformat_minor": 5
}
