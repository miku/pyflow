{
 "cells": [
  {
   "cell_type": "markdown",
   "id": "0a39e6dc",
   "metadata": {},
   "source": [
    "## String Magic\n",
    "\n",
    "* `__str__`\n",
    "* `__repr__`\n",
    "* `__format__`\n",
    "* `__hash__`\n",
    "* `__dir__`\n",
    "* `__sizeof__`\n",
    "* `__bytes__`"
   ]
  },
  {
   "cell_type": "markdown",
   "id": "fc97ab2b",
   "metadata": {},
   "source": [
    "What is the difference between `__str__` and `__repr__`? (about [1m SO views])(https://stackoverflow.com/questions/1436703/what-is-the-difference-between-str-and-repr)"
   ]
  },
  {
   "cell_type": "markdown",
   "id": "1fe647e3",
   "metadata": {},
   "source": [
    "* str for humans\n",
    "* repr for a unique representation (that may be used to construct the object, too)\n",
    "* Container’s `__str__` uses contained objects’ `__repr__` - as `__repr__` tends to be shorter"
   ]
  },
  {
   "cell_type": "markdown",
   "id": "5b1bfd9d",
   "metadata": {},
   "source": [
    "str and repr are close"
   ]
  },
  {
   "cell_type": "code",
   "execution_count": 12,
   "id": "1868119a",
   "metadata": {},
   "outputs": [],
   "source": [
    "class A:\n",
    "    \n",
    "    def __repr__(self):\n",
    "        return \"repr A\""
   ]
  },
  {
   "cell_type": "code",
   "execution_count": 3,
   "id": "ec5f17c1",
   "metadata": {},
   "outputs": [
    {
     "data": {
      "text/plain": [
       "__main__.A"
      ]
     },
     "execution_count": 3,
     "metadata": {},
     "output_type": "execute_result"
    }
   ],
   "source": [
    "A"
   ]
  },
  {
   "cell_type": "code",
   "execution_count": 4,
   "id": "200edfbb",
   "metadata": {},
   "outputs": [],
   "source": [
    "a = A()"
   ]
  },
  {
   "cell_type": "code",
   "execution_count": 5,
   "id": "8b015537",
   "metadata": {},
   "outputs": [
    {
     "data": {
      "text/plain": [
       "repr A"
      ]
     },
     "execution_count": 5,
     "metadata": {},
     "output_type": "execute_result"
    }
   ],
   "source": [
    "a"
   ]
  },
  {
   "cell_type": "code",
   "execution_count": 6,
   "id": "4a6c586f",
   "metadata": {},
   "outputs": [
    {
     "name": "stdout",
     "output_type": "stream",
     "text": [
      "repr A\n"
     ]
    }
   ],
   "source": [
    "print(a)"
   ]
  },
  {
   "cell_type": "markdown",
   "id": "5949e2f0",
   "metadata": {},
   "source": [
    "> if `__repr__` is defined, and `__str__` is not, the object will behave as though `__str__=__repr__`"
   ]
  },
  {
   "cell_type": "markdown",
   "id": "329937e4",
   "metadata": {},
   "source": [
    "Not always possible, but it's perfect if the following works."
   ]
  },
  {
   "cell_type": "code",
   "execution_count": 10,
   "id": "59b47aa6",
   "metadata": {},
   "outputs": [],
   "source": [
    "# eval(repr(a))==a # SyntaxError"
   ]
  },
  {
   "cell_type": "markdown",
   "id": "10783e2a",
   "metadata": {},
   "source": [
    "Use `repr` or `%r` to implement - so nesting works."
   ]
  },
  {
   "cell_type": "code",
   "execution_count": 14,
   "id": "3bc2ec1a",
   "metadata": {},
   "outputs": [
    {
     "data": {
      "text/plain": [
       "'repr A'"
      ]
     },
     "execution_count": 14,
     "metadata": {},
     "output_type": "execute_result"
    }
   ],
   "source": [
    "repr(A())"
   ]
  },
  {
   "cell_type": "code",
   "execution_count": 15,
   "id": "f37950ff",
   "metadata": {},
   "outputs": [
    {
     "name": "stdout",
     "output_type": "stream",
     "text": [
      "repr A\n"
     ]
    }
   ],
   "source": [
    "print(\"%r\" % A())"
   ]
  },
  {
   "cell_type": "code",
   "execution_count": 17,
   "id": "9faffe38",
   "metadata": {},
   "outputs": [
    {
     "data": {
      "text/plain": [
       "str"
      ]
     },
     "execution_count": 17,
     "metadata": {},
     "output_type": "execute_result"
    }
   ],
   "source": [
    "type(repr(A()))"
   ]
  },
  {
   "cell_type": "markdown",
   "id": "161580e4",
   "metadata": {},
   "source": [
    "### Pretty print"
   ]
  },
  {
   "cell_type": "code",
   "execution_count": 27,
   "id": "abe8cebb",
   "metadata": {},
   "outputs": [],
   "source": [
    "class A:\n",
    "    def __str__(self):\n",
    "        return \"This is class A\" # The return value must be a string object."
   ]
  },
  {
   "cell_type": "code",
   "execution_count": 28,
   "id": "d9ced085",
   "metadata": {},
   "outputs": [],
   "source": [
    "a = A()"
   ]
  },
  {
   "cell_type": "code",
   "execution_count": 29,
   "id": "21a360f6",
   "metadata": {},
   "outputs": [
    {
     "data": {
      "text/plain": [
       "<__main__.A at 0x7f1cc46d0e50>"
      ]
     },
     "execution_count": 29,
     "metadata": {},
     "output_type": "execute_result"
    }
   ],
   "source": [
    "a"
   ]
  },
  {
   "cell_type": "code",
   "execution_count": 30,
   "id": "ddebe8b7",
   "metadata": {},
   "outputs": [
    {
     "name": "stdout",
     "output_type": "stream",
     "text": [
      "This is class A\n"
     ]
    }
   ],
   "source": [
    "print(a)"
   ]
  },
  {
   "cell_type": "code",
   "execution_count": 31,
   "id": "8ae0414c",
   "metadata": {},
   "outputs": [],
   "source": [
    "class A:\n",
    "    def __str__(self):\n",
    "        return 123"
   ]
  },
  {
   "cell_type": "code",
   "execution_count": 32,
   "id": "37ca568e",
   "metadata": {},
   "outputs": [],
   "source": [
    "a = A()"
   ]
  },
  {
   "cell_type": "code",
   "execution_count": 34,
   "id": "7b2cb40e",
   "metadata": {},
   "outputs": [],
   "source": [
    "# print(a) # TypeError: __str__ returned non-string (type int)"
   ]
  },
  {
   "cell_type": "markdown",
   "id": "964a7ff3",
   "metadata": {},
   "source": [
    "### Byte Representation"
   ]
  },
  {
   "cell_type": "code",
   "execution_count": 38,
   "id": "3da38328",
   "metadata": {},
   "outputs": [],
   "source": [
    "class A:\n",
    "    def __bytes__(self):\n",
    "        return b\"abc\" # compute a byte-string representation of an object."
   ]
  },
  {
   "cell_type": "code",
   "execution_count": 36,
   "id": "70747808",
   "metadata": {},
   "outputs": [],
   "source": [
    "a = A()"
   ]
  },
  {
   "cell_type": "code",
   "execution_count": 37,
   "id": "937b5942",
   "metadata": {},
   "outputs": [
    {
     "data": {
      "text/plain": [
       "b'abc'"
      ]
     },
     "execution_count": 37,
     "metadata": {},
     "output_type": "execute_result"
    }
   ],
   "source": [
    "bytes(a)"
   ]
  },
  {
   "cell_type": "markdown",
   "id": "9182791b",
   "metadata": {},
   "source": [
    "### Formatting"
   ]
  },
  {
   "cell_type": "code",
   "execution_count": 47,
   "id": "3298ae1a",
   "metadata": {},
   "outputs": [],
   "source": [
    "class A:\n",
    "    def __format__(self, format_spec):\n",
    "        return f\"A through the lens of '{format_spec}'\""
   ]
  },
  {
   "cell_type": "code",
   "execution_count": 48,
   "id": "38954c53",
   "metadata": {},
   "outputs": [],
   "source": [
    "a = A()"
   ]
  },
  {
   "cell_type": "code",
   "execution_count": 49,
   "id": "d2d8a84e",
   "metadata": {},
   "outputs": [
    {
     "data": {
      "text/plain": [
       "\"A through the lens of '%d'\""
      ]
     },
     "execution_count": 49,
     "metadata": {},
     "output_type": "execute_result"
    }
   ],
   "source": [
    "format(a, \"%d\")"
   ]
  },
  {
   "cell_type": "code",
   "execution_count": 50,
   "id": "48375764",
   "metadata": {},
   "outputs": [
    {
     "data": {
      "text/plain": [
       "\"within string: A through the lens of ''\""
      ]
     },
     "execution_count": 50,
     "metadata": {},
     "output_type": "execute_result"
    }
   ],
   "source": [
    "\"within string: {}\".format(a)"
   ]
  },
  {
   "cell_type": "code",
   "execution_count": 51,
   "id": "16c7fd6e",
   "metadata": {},
   "outputs": [
    {
     "data": {
      "text/plain": [
       "\"within string: A through the lens of '03d'\""
      ]
     },
     "execution_count": 51,
     "metadata": {},
     "output_type": "execute_result"
    }
   ],
   "source": [
    "\"within string: {:03d}\".format(a)"
   ]
  },
  {
   "cell_type": "markdown",
   "id": "c0aa2259",
   "metadata": {},
   "source": [
    "### Hash\n",
    "\n",
    "There is a builtin function hash, which returns a per object unique int.\n",
    "\n",
    "Used for hashable collections.\n",
    "\n",
    "> ... operations on members of hashed collections including set, frozenset, and dict. "
   ]
  },
  {
   "cell_type": "code",
   "execution_count": 54,
   "id": "b9669fad",
   "metadata": {},
   "outputs": [
    {
     "data": {
      "text/plain": [
       "1"
      ]
     },
     "execution_count": 54,
     "metadata": {},
     "output_type": "execute_result"
    }
   ],
   "source": [
    "hash(1)"
   ]
  },
  {
   "cell_type": "code",
   "execution_count": 55,
   "id": "99370a44",
   "metadata": {},
   "outputs": [
    {
     "data": {
      "text/plain": [
       "-470355193098442213"
      ]
     },
     "execution_count": 55,
     "metadata": {},
     "output_type": "execute_result"
    }
   ],
   "source": [
    "hash(\"hello\")"
   ]
  },
  {
   "cell_type": "code",
   "execution_count": 74,
   "id": "40c1e8b1",
   "metadata": {},
   "outputs": [
    {
     "data": {
      "text/plain": [
       "123"
      ]
     },
     "execution_count": 74,
     "metadata": {},
     "output_type": "execute_result"
    }
   ],
   "source": [
    "hash(123)"
   ]
  },
  {
   "cell_type": "code",
   "execution_count": 57,
   "id": "e1e82043",
   "metadata": {},
   "outputs": [
    {
     "data": {
      "text/plain": [
       "123"
      ]
     },
     "execution_count": 57,
     "metadata": {},
     "output_type": "execute_result"
    }
   ],
   "source": [
    "hash(123)"
   ]
  },
  {
   "cell_type": "code",
   "execution_count": 58,
   "id": "b3ffa4a1",
   "metadata": {},
   "outputs": [],
   "source": [
    "x = 123"
   ]
  },
  {
   "cell_type": "code",
   "execution_count": 59,
   "id": "c966bd84",
   "metadata": {},
   "outputs": [],
   "source": [
    "y = 123"
   ]
  },
  {
   "cell_type": "code",
   "execution_count": 72,
   "id": "f516f9df",
   "metadata": {},
   "outputs": [
    {
     "data": {
      "text/plain": [
       "(True, True)"
      ]
     },
     "execution_count": 72,
     "metadata": {},
     "output_type": "execute_result"
    }
   ],
   "source": [
    "hash(x) == hash(y), id(x) == id(y)"
   ]
  },
  {
   "cell_type": "code",
   "execution_count": 65,
   "id": "fb3d113c",
   "metadata": {},
   "outputs": [],
   "source": [
    "a = 100000000\n",
    "b = 100000000"
   ]
  },
  {
   "cell_type": "code",
   "execution_count": 71,
   "id": "75c8820e",
   "metadata": {},
   "outputs": [
    {
     "data": {
      "text/plain": [
       "(True, False)"
      ]
     },
     "execution_count": 71,
     "metadata": {},
     "output_type": "execute_result"
    }
   ],
   "source": [
    "hash(a) == hash(b), id(a) == id(b)"
   ]
  },
  {
   "cell_type": "markdown",
   "id": "0ba54b24",
   "metadata": {},
   "source": [
    "Return values of hash are truncated, typically to 64 bits."
   ]
  },
  {
   "cell_type": "code",
   "execution_count": 73,
   "id": "e1dff758",
   "metadata": {},
   "outputs": [
    {
     "name": "stdout",
     "output_type": "stream",
     "text": [
      "64\n"
     ]
    }
   ],
   "source": [
    "import sys; print(sys.hash_info.width)"
   ]
  },
  {
   "cell_type": "markdown",
   "id": "d5219f41",
   "metadata": {},
   "source": [
    "Some caveats:\n",
    "    \n",
    "* If a class does not define an`__eq__()` method it should not define a `__hash__()` operation either\n",
    "* if it defines `__eq__()` but not `__hash__()`, its instances will not be usable as items in hashable collections.\n",
    "\n",
    "If a class defines mutable objects and implements an `__eq__()` method, it should not implement `__hash__()`, since the implementation of hashable collections requires that a key’s hash value is immutable (if the object’s hash value changes, it will be in the wrong hash bucket)."
   ]
  },
  {
   "cell_type": "markdown",
   "id": "782c73a2",
   "metadata": {},
   "source": [
    "### Dir\n",
    "\n",
    "Respond to the built-in function, `dir`.\n",
    "\n",
    ">  With an argument, attempt to return a list of valid attributes for that object.\n"
   ]
  },
  {
   "cell_type": "code",
   "execution_count": 76,
   "id": "d0f14257",
   "metadata": {},
   "outputs": [],
   "source": [
    "class A:\n",
    "    def __dir__(self):\n",
    "        return list(\"abcd\")"
   ]
  },
  {
   "cell_type": "code",
   "execution_count": 77,
   "id": "d83d936b",
   "metadata": {},
   "outputs": [],
   "source": [
    "a = A()"
   ]
  },
  {
   "cell_type": "code",
   "execution_count": 78,
   "id": "b57574a9",
   "metadata": {},
   "outputs": [
    {
     "data": {
      "text/plain": [
       "['a', 'b', 'c', 'd']"
      ]
     },
     "execution_count": 78,
     "metadata": {},
     "output_type": "execute_result"
    }
   ],
   "source": [
    "dir(a)"
   ]
  },
  {
   "cell_type": "markdown",
   "id": "657bd25f",
   "metadata": {},
   "source": [
    "### Sizeof\n",
    "\n",
    "* https://bugs.python.org/issue15436 \n",
    "\n",
    "> Also, sys.getsizeof() hasn't proved to be very useful (I never see anyone use it or see it in production code).  Worse, it doesn't even make sense in the case of shared-key dictionaries and whatnot.  Accordingly, there is little reason to make this more public than it already is.  I would be happy to see it written-off as an implementation detail.\n",
    "\n",
    "----\n",
    "\n",
    "> I think there is one difference between __len__ and __sizeof__. __sizeof__ \n",
    "should be overloaded only for C-implemented classes. IMHO, it is a part of C \n",
    "API."
   ]
  },
  {
   "cell_type": "code",
   "execution_count": 80,
   "id": "72c33c69",
   "metadata": {},
   "outputs": [],
   "source": []
  },
  {
   "cell_type": "code",
   "execution_count": null,
   "id": "0ea7b53f",
   "metadata": {},
   "outputs": [],
   "source": []
  }
 ],
 "metadata": {
  "kernelspec": {
   "display_name": "Python 3 (ipykernel)",
   "language": "python",
   "name": "python3"
  },
  "language_info": {
   "codemirror_mode": {
    "name": "ipython",
    "version": 3
   },
   "file_extension": ".py",
   "mimetype": "text/x-python",
   "name": "python",
   "nbconvert_exporter": "python",
   "pygments_lexer": "ipython3",
   "version": "3.11.0"
  }
 },
 "nbformat": 4,
 "nbformat_minor": 5
}
