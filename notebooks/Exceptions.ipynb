{
 "cells": [
  {
   "cell_type": "markdown",
   "id": "70b88410",
   "metadata": {},
   "source": [
    "### Exceptions"
   ]
  },
  {
   "cell_type": "markdown",
   "id": "1506faae",
   "metadata": {},
   "source": [
    "* list of builtin exceptions: https://docs.python.org/3/library/exceptions.html#exception-hierarchy\n",
    "\n",
    "Exception handling started simple:\n",
    "\n",
    "> Very early Python versions used simple strings to signalize errors. Later, Python allowed raising arbitrary classes, and added specialized exception classes to the standard library.\n",
    "\n",
    "Now: Exceptions are classes and contain all information about the error: the type, value and traceback."
   ]
  },
  {
   "cell_type": "markdown",
   "id": "c0738f60",
   "metadata": {},
   "source": [
    "Typically, we can reuse many standard exceptions"
   ]
  },
  {
   "cell_type": "code",
   "execution_count": 2,
   "id": "9181efaf",
   "metadata": {},
   "outputs": [],
   "source": [
    "try:\n",
    "    1 / 0\n",
    "except ZeroDivisionError as exc:\n",
    "    pass"
   ]
  },
  {
   "cell_type": "markdown",
   "id": "24b95c51",
   "metadata": {},
   "source": [
    "Notes:\n",
    "    \n",
    "* we do not need to catch a specific exception - but it (much) better style\n",
    "* we can name multiple exceptions in a single clause\n",
    "* we can have multiple except branches\n",
    "* we can have an else branch\n",
    "\n",
    "The `exc` value is scoped to the try statement\n",
    "\n",
    "> This means the exception must be assigned to a different name to be able to refer to it after the except clause."
   ]
  },
  {
   "cell_type": "code",
   "execution_count": 3,
   "id": "7fe41dee",
   "metadata": {},
   "outputs": [
    {
     "name": "stdout",
     "output_type": "stream",
     "text": [
      "B\n",
      "C\n",
      "D\n"
     ]
    }
   ],
   "source": [
    "class B(Exception):\n",
    "    pass\n",
    "\n",
    "class C(B):\n",
    "    pass\n",
    "\n",
    "class D(C):\n",
    "    pass\n",
    "\n",
    "for cls in [B, C, D]:\n",
    "    try:\n",
    "        raise cls()\n",
    "    except D:\n",
    "        print(\"D\")\n",
    "    except C:\n",
    "        print(\"C\")\n",
    "    except B:\n",
    "        print(\"B\")"
   ]
  },
  {
   "cell_type": "markdown",
   "id": "7bdf8717",
   "metadata": {},
   "source": [
    "Exceptions have an args attribute"
   ]
  },
  {
   "cell_type": "code",
   "execution_count": 5,
   "id": "9d738b75",
   "metadata": {},
   "outputs": [
    {
     "name": "stdout",
     "output_type": "stream",
     "text": [
      "<class 'Exception'>\n",
      "('spam', 'eggs')\n",
      "('spam', 'eggs')\n"
     ]
    }
   ],
   "source": [
    "try:\n",
    "    raise Exception('spam', 'eggs')\n",
    "except Exception as inst:\n",
    "    print(type(inst))    # the exception instance\n",
    "    print(inst.args)     # arguments stored in .args\n",
    "    print(inst)          # __str__ allows args to be printed directly,\n",
    "                         # but may be overridden in exception subclasses\n"
   ]
  },
  {
   "cell_type": "markdown",
   "id": "4ba948d4",
   "metadata": {},
   "source": [
    "### Exception classes"
   ]
  },
  {
   "cell_type": "markdown",
   "id": "c338d637",
   "metadata": {},
   "source": [
    "BaseException is the common base class of all exceptions. One of its subclasses, Exception, is the base class of all the non-fatal exceptions."
   ]
  },
  {
   "cell_type": "markdown",
   "id": "516cd23c",
   "metadata": {},
   "source": [
    "```\n",
    "BaseException\n",
    " ├── BaseExceptionGroup\n",
    " ├── GeneratorExit\n",
    " ├── KeyboardInterrupt\n",
    " ├── SystemExit\n",
    " └── Exception\n",
    "      ├── ArithmeticError\n",
    "      │    ├── FloatingPointError\n",
    "      │    ├── OverflowError\n",
    "      │    └── ZeroDivisionError\n",
    "      ...\n",
    "```"
   ]
  },
  {
   "cell_type": "markdown",
   "id": "e61494ef",
   "metadata": {},
   "source": [
    "### Exception chaining\n",
    "\n",
    "* interpreter can propagate one exception at a time\n",
    "* multiple exceptions may occur"
   ]
  },
  {
   "cell_type": "code",
   "execution_count": 8,
   "id": "61761f73",
   "metadata": {},
   "outputs": [],
   "source": [
    "def compute(a, b):\n",
    "    try:\n",
    "        a/b\n",
    "    except Exception as exc:\n",
    "        log(exc)\n",
    "\n",
    "def log(exc):\n",
    "    raise IOError(\"unavailble\")"
   ]
  },
  {
   "cell_type": "code",
   "execution_count": 44,
   "id": "eb14865c",
   "metadata": {},
   "outputs": [],
   "source": [
    "# compute(1, 0)"
   ]
  },
  {
   "cell_type": "markdown",
   "id": "9d78762b",
   "metadata": {},
   "source": [
    "```\n",
    "---------------------------------------------------------------------------\n",
    "ZeroDivisionError                         Traceback (most recent call last)\n",
    "Cell In[8], line 3, in compute(a, b)\n",
    "      2 try:\n",
    "----> 3     a/b\n",
    "      4 except Exception as exc:\n",
    "\n",
    "ZeroDivisionError: division by zero\n",
    "\n",
    "During handling of the above exception, another exception occurred:\n",
    "\n",
    "OSError                                   Traceback (most recent call last)\n",
    "Cell In[9], line 1\n",
    "----> 1 compute(1, 0)\n",
    "\n",
    "Cell In[8], line 5, in compute(a, b)\n",
    "      3     a/b\n",
    "      4 except Exception as exc:\n",
    "----> 5     log(exc)\n",
    "\n",
    "Cell In[8], line 8, in log(exc)\n",
    "      7 def log(exc):\n",
    "----> 8     raise IOError(\"unavailble\")\n",
    "\n",
    "OSError: unavailble\n",
    "```"
   ]
  },
  {
   "cell_type": "code",
   "execution_count": 19,
   "id": "00e15377",
   "metadata": {},
   "outputs": [],
   "source": [
    "try:\n",
    "    compute(1, 0)\n",
    "except Exception as exc:\n",
    "    err = exc"
   ]
  },
  {
   "cell_type": "code",
   "execution_count": 21,
   "id": "8db502c7",
   "metadata": {},
   "outputs": [
    {
     "data": {
      "text/plain": [
       "('unavailble',)"
      ]
     },
     "execution_count": 21,
     "metadata": {},
     "output_type": "execute_result"
    }
   ],
   "source": [
    "err.args"
   ]
  },
  {
   "cell_type": "code",
   "execution_count": 25,
   "id": "cb2a77e6",
   "metadata": {},
   "outputs": [],
   "source": [
    "err.__cause__"
   ]
  },
  {
   "cell_type": "code",
   "execution_count": 26,
   "id": "2371e66a",
   "metadata": {},
   "outputs": [
    {
     "data": {
      "text/plain": [
       "ZeroDivisionError('division by zero')"
      ]
     },
     "execution_count": 26,
     "metadata": {},
     "output_type": "execute_result"
    }
   ],
   "source": [
    "err.__context__"
   ]
  },
  {
   "cell_type": "code",
   "execution_count": 34,
   "id": "9ed1e06b",
   "metadata": {},
   "outputs": [
    {
     "data": {
      "text/plain": [
       "<traceback at 0x7f67cbf4fb00>"
      ]
     },
     "execution_count": 34,
     "metadata": {},
     "output_type": "execute_result"
    }
   ],
   "source": [
    "err.__traceback__"
   ]
  },
  {
   "cell_type": "code",
   "execution_count": 43,
   "id": "a1ffe34e",
   "metadata": {},
   "outputs": [
    {
     "data": {
      "text/plain": [
       "(1, 0, None)"
      ]
     },
     "execution_count": 43,
     "metadata": {},
     "output_type": "execute_result"
    }
   ],
   "source": [
    "err.__traceback__.tb_frame.f_code.co_consts # finding 1 and 0 again"
   ]
  },
  {
   "cell_type": "code",
   "execution_count": 36,
   "id": "f64fd43a",
   "metadata": {},
   "outputs": [
    {
     "data": {
      "text/plain": [
       "24"
      ]
     },
     "execution_count": 36,
     "metadata": {},
     "output_type": "execute_result"
    }
   ],
   "source": [
    "err.__traceback__.tb_lasti"
   ]
  },
  {
   "cell_type": "code",
   "execution_count": 37,
   "id": "3fd3489e",
   "metadata": {},
   "outputs": [
    {
     "data": {
      "text/plain": [
       "2"
      ]
     },
     "execution_count": 37,
     "metadata": {},
     "output_type": "execute_result"
    }
   ],
   "source": [
    "err.__traceback__.tb_lineno"
   ]
  },
  {
   "cell_type": "code",
   "execution_count": 38,
   "id": "1cae5f24",
   "metadata": {},
   "outputs": [
    {
     "data": {
      "text/plain": [
       "<traceback at 0x7f67cbf29980>"
      ]
     },
     "execution_count": 38,
     "metadata": {},
     "output_type": "execute_result"
    }
   ],
   "source": [
    "err.__traceback__.tb_next"
   ]
  },
  {
   "cell_type": "markdown",
   "id": "5a350054",
   "metadata": {},
   "source": [
    "### What is cause, what is context?"
   ]
  },
  {
   "cell_type": "markdown",
   "id": "50eb6816",
   "metadata": {},
   "source": [
    "> This PEP proposes three standard attributes on exception instances: the `__context__` attribute for implicitly chained exceptions, the `__cause__` attribute for explicitly chained exceptions, and the `__traceback__` attribute for the traceback. -- PEP 3134 – Exception Chaining and Embedded Tracebacks\n",
    "\n",
    "* cause - explicit\n",
    "* context - implicit"
   ]
  },
  {
   "cell_type": "markdown",
   "id": "2ec49295",
   "metadata": {},
   "source": [
    "A cause can be added via `raise ... from`"
   ]
  },
  {
   "cell_type": "code",
   "execution_count": 50,
   "id": "e2267591",
   "metadata": {},
   "outputs": [],
   "source": [
    "# raise Exception(\"fail\") from Exception(\"from\")"
   ]
  },
  {
   "cell_type": "markdown",
   "id": "43bc210a",
   "metadata": {},
   "source": [
    "Another example"
   ]
  },
  {
   "cell_type": "code",
   "execution_count": 51,
   "id": "c64348f7",
   "metadata": {},
   "outputs": [
    {
     "ename": "RuntimeError",
     "evalue": "Failed to open database",
     "output_type": "error",
     "traceback": [
      "\u001b[0;31m---------------------------------------------------------------------------\u001b[0m",
      "\u001b[0;31mConnectionError\u001b[0m                           Traceback (most recent call last)",
      "Cell \u001b[0;32mIn[51], line 5\u001b[0m\n\u001b[1;32m      4\u001b[0m \u001b[38;5;28;01mtry\u001b[39;00m:\n\u001b[0;32m----> 5\u001b[0m     \u001b[43mfunc\u001b[49m\u001b[43m(\u001b[49m\u001b[43m)\u001b[49m\n\u001b[1;32m      6\u001b[0m \u001b[38;5;28;01mexcept\u001b[39;00m \u001b[38;5;167;01mConnectionError\u001b[39;00m \u001b[38;5;28;01mas\u001b[39;00m exc:\n",
      "Cell \u001b[0;32mIn[51], line 2\u001b[0m, in \u001b[0;36mfunc\u001b[0;34m()\u001b[0m\n\u001b[1;32m      1\u001b[0m \u001b[38;5;28;01mdef\u001b[39;00m \u001b[38;5;21mfunc\u001b[39m():\n\u001b[0;32m----> 2\u001b[0m     \u001b[38;5;28;01mraise\u001b[39;00m \u001b[38;5;167;01mConnectionError\u001b[39;00m\n",
      "\u001b[0;31mConnectionError\u001b[0m: ",
      "\nThe above exception was the direct cause of the following exception:\n",
      "\u001b[0;31mRuntimeError\u001b[0m                              Traceback (most recent call last)",
      "Cell \u001b[0;32mIn[51], line 7\u001b[0m\n\u001b[1;32m      5\u001b[0m     func()\n\u001b[1;32m      6\u001b[0m \u001b[38;5;28;01mexcept\u001b[39;00m \u001b[38;5;167;01mConnectionError\u001b[39;00m \u001b[38;5;28;01mas\u001b[39;00m exc:\n\u001b[0;32m----> 7\u001b[0m     \u001b[38;5;28;01mraise\u001b[39;00m \u001b[38;5;167;01mRuntimeError\u001b[39;00m(\u001b[38;5;124m'\u001b[39m\u001b[38;5;124mFailed to open database\u001b[39m\u001b[38;5;124m'\u001b[39m) \u001b[38;5;28;01mfrom\u001b[39;00m \u001b[38;5;21;01mexc\u001b[39;00m\n",
      "\u001b[0;31mRuntimeError\u001b[0m: Failed to open database"
     ]
    }
   ],
   "source": [
    "def func():\n",
    "    raise ConnectionError\n",
    "\n",
    "try:\n",
    "    func()\n",
    "except ConnectionError as exc:\n",
    "    raise RuntimeError('Failed to open database') from exc"
   ]
  },
  {
   "cell_type": "markdown",
   "id": "8fd2d02e",
   "metadata": {},
   "source": [
    "### Reraising an exception"
   ]
  },
  {
   "cell_type": "code",
   "execution_count": 47,
   "id": "01a96b16",
   "metadata": {},
   "outputs": [
    {
     "name": "stdout",
     "output_type": "stream",
     "text": [
      "An exception flew by!\n"
     ]
    }
   ],
   "source": [
    "try:\n",
    "    raise NameError('HiThere')\n",
    "except NameError:\n",
    "    print('An exception flew by!')\n",
    "    # raise"
   ]
  },
  {
   "cell_type": "code",
   "execution_count": null,
   "id": "5834ea1a",
   "metadata": {},
   "outputs": [],
   "source": []
  }
 ],
 "metadata": {
  "kernelspec": {
   "display_name": "Python 3 (ipykernel)",
   "language": "python",
   "name": "python3"
  },
  "language_info": {
   "codemirror_mode": {
    "name": "ipython",
    "version": 3
   },
   "file_extension": ".py",
   "mimetype": "text/x-python",
   "name": "python",
   "nbconvert_exporter": "python",
   "pygments_lexer": "ipython3",
   "version": "3.11.0"
  }
 },
 "nbformat": 4,
 "nbformat_minor": 5
}
