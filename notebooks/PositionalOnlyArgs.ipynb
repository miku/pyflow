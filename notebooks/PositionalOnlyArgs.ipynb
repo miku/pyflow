{
 "cells": [
  {
   "cell_type": "markdown",
   "id": "1163db12",
   "metadata": {},
   "source": [
    "### Positional only args"
   ]
  },
  {
   "cell_type": "markdown",
   "id": "cda28357",
   "metadata": {},
   "source": [
    "> The new syntax will enable library authors to further control how their API can be called. It will allow designating which parameters must be called as positional-only, while preventing them from being called as keyword arguments. -- [PEP570](https://peps.python.org/pep-0570/)"
   ]
  },
  {
   "cell_type": "code",
   "execution_count": 1,
   "id": "23655dfe",
   "metadata": {},
   "outputs": [],
   "source": [
    "def f(positional_or_keyword_parameters, *, keyword_only_parameters):\n",
    "    pass"
   ]
  },
  {
   "cell_type": "code",
   "execution_count": 2,
   "id": "934168f0",
   "metadata": {},
   "outputs": [],
   "source": [
    "def name(positional_only_parameters, /, positional_or_keyword_parameters,\n",
    "         *, keyword_only_parameters):\n",
    "    pass"
   ]
  },
  {
   "cell_type": "markdown",
   "id": "a22aa37f",
   "metadata": {},
   "source": [
    "Examples"
   ]
  },
  {
   "cell_type": "code",
   "execution_count": 4,
   "id": "450b40e2",
   "metadata": {},
   "outputs": [],
   "source": [
    "def rng(start, stop, step=0, /):\n",
    "    print(start, stop, step)"
   ]
  },
  {
   "cell_type": "code",
   "execution_count": 5,
   "id": "dac7a299",
   "metadata": {},
   "outputs": [
    {
     "name": "stdout",
     "output_type": "stream",
     "text": [
      "1 2 3\n"
     ]
    }
   ],
   "source": [
    "rng(1, 2, 3)"
   ]
  },
  {
   "cell_type": "code",
   "execution_count": 8,
   "id": "b4eff2ab",
   "metadata": {},
   "outputs": [],
   "source": [
    "# rng(step=2, 3, 4) # SyntaxError"
   ]
  },
  {
   "cell_type": "code",
   "execution_count": 9,
   "id": "49f79665",
   "metadata": {},
   "outputs": [],
   "source": [
    "# rng(2, 3, step=5) # TypeError"
   ]
  },
  {
   "cell_type": "code",
   "execution_count": 10,
   "id": "75f3bcb5",
   "metadata": {},
   "outputs": [],
   "source": [
    "def f(a, /, b, c=1, *, d=2):\n",
    "    print(a, b, c, d)"
   ]
  },
  {
   "cell_type": "code",
   "execution_count": 11,
   "id": "f11f0454",
   "metadata": {},
   "outputs": [
    {
     "ename": "TypeError",
     "evalue": "f() missing 2 required positional arguments: 'a' and 'b'",
     "output_type": "error",
     "traceback": [
      "\u001b[0;31m---------------------------------------------------------------------------\u001b[0m",
      "\u001b[0;31mTypeError\u001b[0m                                 Traceback (most recent call last)",
      "Cell \u001b[0;32mIn[11], line 1\u001b[0m\n\u001b[0;32m----> 1\u001b[0m \u001b[43mf\u001b[49m\u001b[43m(\u001b[49m\u001b[43m)\u001b[49m\n",
      "\u001b[0;31mTypeError\u001b[0m: f() missing 2 required positional arguments: 'a' and 'b'"
     ]
    }
   ],
   "source": [
    "f()"
   ]
  },
  {
   "cell_type": "code",
   "execution_count": 14,
   "id": "90f5fc2f",
   "metadata": {},
   "outputs": [
    {
     "name": "stdout",
     "output_type": "stream",
     "text": [
      "a b 1 2\n"
     ]
    }
   ],
   "source": [
    "f(\"a\", \"b\")"
   ]
  },
  {
   "cell_type": "code",
   "execution_count": 15,
   "id": "06e6e155",
   "metadata": {},
   "outputs": [
    {
     "name": "stdout",
     "output_type": "stream",
     "text": [
      "a b 1 2\n"
     ]
    }
   ],
   "source": [
    "f(\"a\", b=\"b\")"
   ]
  },
  {
   "cell_type": "code",
   "execution_count": 20,
   "id": "06fc0acf",
   "metadata": {},
   "outputs": [
    {
     "name": "stdout",
     "output_type": "stream",
     "text": [
      "a b 3 9\n"
     ]
    }
   ],
   "source": [
    "f(\"a\", b=\"b\", c=3, d=9)"
   ]
  },
  {
   "cell_type": "code",
   "execution_count": null,
   "id": "6a1f0741",
   "metadata": {},
   "outputs": [],
   "source": []
  }
 ],
 "metadata": {
  "kernelspec": {
   "display_name": "Python 3 (ipykernel)",
   "language": "python",
   "name": "python3"
  },
  "language_info": {
   "codemirror_mode": {
    "name": "ipython",
    "version": 3
   },
   "file_extension": ".py",
   "mimetype": "text/x-python",
   "name": "python",
   "nbconvert_exporter": "python",
   "pygments_lexer": "ipython3",
   "version": "3.11.0"
  }
 },
 "nbformat": 4,
 "nbformat_minor": 5
}
