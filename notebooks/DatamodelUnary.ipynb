{
 "cells": [
  {
   "cell_type": "markdown",
   "id": "5ab2faf2",
   "metadata": {},
   "source": [
    "## Unary operators and functions\n",
    "\n",
    "* `__pos__`\n",
    "* `__neg__`\n",
    "* `__abs__`\n",
    "* `__invert__`\n",
    "* `__round__`\n",
    "* `__floor__`\n",
    "* `__ceil__`\n",
    "* `__trunc__`"
   ]
  },
  {
   "cell_type": "markdown",
   "id": "7f417ca7",
   "metadata": {},
   "source": [
    "* neg, pos, abs, invert are called for unary operation"
   ]
  },
  {
   "cell_type": "code",
   "execution_count": 28,
   "id": "785f802c",
   "metadata": {},
   "outputs": [],
   "source": [
    "class Value:\n",
    "    def __pos__(self):\n",
    "        self.sign = \"+\"\n",
    "        \n",
    "    def __neg__(self):\n",
    "        self.sign = \"-\"\n",
    "        \n",
    "    def __init__(self):\n",
    "        self.sign = \"-\"\n",
    "        self.value = 1\n",
    "        \n",
    "    def __repr__(self):\n",
    "        return f\"{self.sign}{self.value}\"\n",
    "    "
   ]
  },
  {
   "cell_type": "code",
   "execution_count": 29,
   "id": "f79097d9",
   "metadata": {},
   "outputs": [],
   "source": [
    "v = Value()"
   ]
  },
  {
   "cell_type": "code",
   "execution_count": 30,
   "id": "0182d8a6",
   "metadata": {},
   "outputs": [
    {
     "data": {
      "text/plain": [
       "-1"
      ]
     },
     "execution_count": 30,
     "metadata": {},
     "output_type": "execute_result"
    }
   ],
   "source": [
    "v"
   ]
  },
  {
   "cell_type": "code",
   "execution_count": 33,
   "id": "2a5ebf7c",
   "metadata": {},
   "outputs": [],
   "source": [
    "+v"
   ]
  },
  {
   "cell_type": "code",
   "execution_count": 34,
   "id": "050aa8ba",
   "metadata": {},
   "outputs": [
    {
     "data": {
      "text/plain": [
       "+1"
      ]
     },
     "execution_count": 34,
     "metadata": {},
     "output_type": "execute_result"
    }
   ],
   "source": [
    "v"
   ]
  },
  {
   "cell_type": "code",
   "execution_count": 35,
   "id": "a9caf625",
   "metadata": {},
   "outputs": [],
   "source": [
    "-v"
   ]
  },
  {
   "cell_type": "code",
   "execution_count": 36,
   "id": "d0ac6741",
   "metadata": {},
   "outputs": [
    {
     "data": {
      "text/plain": [
       "-1"
      ]
     },
     "execution_count": 36,
     "metadata": {},
     "output_type": "execute_result"
    }
   ],
   "source": [
    "v"
   ]
  },
  {
   "cell_type": "code",
   "execution_count": 40,
   "id": "0377176b",
   "metadata": {},
   "outputs": [],
   "source": [
    "class A:\n",
    "    def __abs__(self):\n",
    "        return 0"
   ]
  },
  {
   "cell_type": "code",
   "execution_count": 41,
   "id": "89a44edc",
   "metadata": {},
   "outputs": [],
   "source": [
    "a = A()"
   ]
  },
  {
   "cell_type": "code",
   "execution_count": 42,
   "id": "8096b20c",
   "metadata": {},
   "outputs": [
    {
     "data": {
      "text/plain": [
       "0"
      ]
     },
     "execution_count": 42,
     "metadata": {},
     "output_type": "execute_result"
    }
   ],
   "source": [
    "abs(a)"
   ]
  },
  {
   "cell_type": "markdown",
   "id": "761991ff",
   "metadata": {},
   "source": [
    "Inversion via `~`"
   ]
  },
  {
   "cell_type": "code",
   "execution_count": 43,
   "id": "48f006a2",
   "metadata": {},
   "outputs": [],
   "source": [
    "class A:\n",
    "    def __invert__(self):\n",
    "        return \"inverted\""
   ]
  },
  {
   "cell_type": "code",
   "execution_count": 44,
   "id": "54ee8f37",
   "metadata": {},
   "outputs": [],
   "source": [
    "a = A()"
   ]
  },
  {
   "cell_type": "code",
   "execution_count": 45,
   "id": "ea0d8d0a",
   "metadata": {},
   "outputs": [
    {
     "data": {
      "text/plain": [
       "'inverted'"
      ]
     },
     "execution_count": 45,
     "metadata": {},
     "output_type": "execute_result"
    }
   ],
   "source": [
    "~a"
   ]
  },
  {
   "cell_type": "markdown",
   "id": "51a2cf5f",
   "metadata": {},
   "source": [
    "Arithmetic operations"
   ]
  },
  {
   "cell_type": "markdown",
   "id": "d6a2fea5",
   "metadata": {},
   "source": [
    "* __round__\n",
    "* __floor__\n",
    "* __ceil__\n",
    "* __trunc__"
   ]
  },
  {
   "cell_type": "code",
   "execution_count": 46,
   "id": "a52eed42",
   "metadata": {},
   "outputs": [],
   "source": [
    "class A:\n",
    "    def __round__(self):\n",
    "        return 100"
   ]
  },
  {
   "cell_type": "code",
   "execution_count": 47,
   "id": "2ac17dcd",
   "metadata": {},
   "outputs": [
    {
     "data": {
      "text/plain": [
       "100"
      ]
     },
     "execution_count": 47,
     "metadata": {},
     "output_type": "execute_result"
    }
   ],
   "source": [
    "round(A())"
   ]
  },
  {
   "cell_type": "markdown",
   "id": "be5e4a3d",
   "metadata": {},
   "source": [
    "The other corresponding functions are:\n",
    "\n",
    "* math.floor\n",
    "* math.ceil\n",
    "* math.trunc (used to be for `int` too, but [deprecated](https://github.com/python/cpython/issues/89140))"
   ]
  },
  {
   "cell_type": "code",
   "execution_count": 55,
   "id": "dac09a45",
   "metadata": {},
   "outputs": [],
   "source": [
    "import math"
   ]
  },
  {
   "cell_type": "code",
   "execution_count": 56,
   "id": "cdc0668d",
   "metadata": {},
   "outputs": [],
   "source": [
    "class A:\n",
    "    def __trunc__(self):\n",
    "        return 1"
   ]
  },
  {
   "cell_type": "code",
   "execution_count": 57,
   "id": "54db9bdd",
   "metadata": {},
   "outputs": [],
   "source": [
    "a = A()"
   ]
  },
  {
   "cell_type": "code",
   "execution_count": 58,
   "id": "01ceaaf6",
   "metadata": {},
   "outputs": [
    {
     "data": {
      "text/plain": [
       "1"
      ]
     },
     "execution_count": 58,
     "metadata": {},
     "output_type": "execute_result"
    }
   ],
   "source": [
    "math.trunc(a)"
   ]
  },
  {
   "cell_type": "code",
   "execution_count": null,
   "id": "02cde7c7",
   "metadata": {},
   "outputs": [],
   "source": []
  }
 ],
 "metadata": {
  "kernelspec": {
   "display_name": "Python 3 (ipykernel)",
   "language": "python",
   "name": "python3"
  },
  "language_info": {
   "codemirror_mode": {
    "name": "ipython",
    "version": 3
   },
   "file_extension": ".py",
   "mimetype": "text/x-python",
   "name": "python",
   "nbconvert_exporter": "python",
   "pygments_lexer": "ipython3",
   "version": "3.11.0"
  }
 },
 "nbformat": 4,
 "nbformat_minor": 5
}
